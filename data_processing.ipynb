{
 "cells": [
  {
   "cell_type": "markdown",
   "metadata": {},
   "source": [
    "## We evaluate the popularity of an app based on the number of installs and rating score as our response variable. Note that we may modify the data slightly since some apps don't have a rating score yet. In those cases, we will focus more on number of installs. However, we also note that predicting the number of installs may result in a high MSE since it's hard to predict the exact number precisely."
   ]
  },
  {
   "cell_type": "markdown",
   "metadata": {
    "id": "f3hnLSArDoY2"
   },
   "source": [
    "## 1. Decision trees"
   ]
  },
  {
   "cell_type": "code",
   "execution_count": 1,
   "metadata": {
    "colab": {
     "base_uri": "https://localhost:8080/"
    },
    "executionInfo": {
     "elapsed": 3518,
     "status": "ok",
     "timestamp": 1685320345837,
     "user": {
      "displayName": "Yongjia Huang",
      "userId": "07545929400309942195"
     },
     "user_tz": 420
    },
    "id": "VKfn8_7xDoZB",
    "outputId": "105e6a06-7bc2-49bb-b33b-e911cd9e4639"
   },
   "outputs": [
    {
     "name": "stderr",
     "output_type": "stream",
     "text": [
      "/Users/allentong/opt/anaconda3/lib/python3.9/site-packages/scipy/__init__.py:146: UserWarning: A NumPy version >=1.16.5 and <1.23.0 is required for this version of SciPy (detected version 1.24.3\n",
      "  warnings.warn(f\"A NumPy version >={np_minversion} and <{np_maxversion}\"\n"
     ]
    }
   ],
   "source": [
    "from sklearn.model_selection import train_test_split\n",
    "from sklearn.pipeline import Pipeline\n",
    "from sklearn.preprocessing import StandardScaler, OneHotEncoder,Normalizer\n",
    "from sklearn.compose import ColumnTransformer, make_column_transformer\n",
    "from sklearn import tree\n",
    "from sklearn.tree import DecisionTreeRegressor\n",
    "from sklearn.metrics import mean_squared_error, accuracy_score, precision_score, recall_score, f1_score\n",
    "import pandas as pd\n",
    "from sklearn import preprocessing\n",
    "import numpy as np\n",
    "from sklearn.ensemble import RandomForestRegressor\n",
    "from sklearn.tree import export_graphviz\n",
    "\n",
    "\n"
   ]
  },
  {
   "cell_type": "code",
   "execution_count": 2,
   "metadata": {
    "colab": {
     "base_uri": "https://localhost:8080/",
     "height": 542
    },
    "executionInfo": {
     "elapsed": 35431,
     "status": "ok",
     "timestamp": 1685320381263,
     "user": {
      "displayName": "Yongjia Huang",
      "userId": "07545929400309942195"
     },
     "user_tz": 420
    },
    "id": "zyHPPkLyDoZC",
    "outputId": "f33e908c-e310-4465-c482-ed497e8d30cf"
   },
   "outputs": [
    {
     "data": {
      "text/html": [
       "<div>\n",
       "<style scoped>\n",
       "    .dataframe tbody tr th:only-of-type {\n",
       "        vertical-align: middle;\n",
       "    }\n",
       "\n",
       "    .dataframe tbody tr th {\n",
       "        vertical-align: top;\n",
       "    }\n",
       "\n",
       "    .dataframe thead th {\n",
       "        text-align: right;\n",
       "    }\n",
       "</style>\n",
       "<table border=\"1\" class=\"dataframe\">\n",
       "  <thead>\n",
       "    <tr style=\"text-align: right;\">\n",
       "      <th></th>\n",
       "      <th>App Name</th>\n",
       "      <th>App Id</th>\n",
       "      <th>Category</th>\n",
       "      <th>Rating</th>\n",
       "      <th>Rating Count</th>\n",
       "      <th>Installs</th>\n",
       "      <th>Minimum Installs</th>\n",
       "      <th>Maximum Installs</th>\n",
       "      <th>Free</th>\n",
       "      <th>Price</th>\n",
       "      <th>...</th>\n",
       "      <th>Developer Website</th>\n",
       "      <th>Developer Email</th>\n",
       "      <th>Released</th>\n",
       "      <th>Last Updated</th>\n",
       "      <th>Content Rating</th>\n",
       "      <th>Privacy Policy</th>\n",
       "      <th>Ad Supported</th>\n",
       "      <th>In App Purchases</th>\n",
       "      <th>Editors Choice</th>\n",
       "      <th>Scraped Time</th>\n",
       "    </tr>\n",
       "  </thead>\n",
       "  <tbody>\n",
       "    <tr>\n",
       "      <th>0</th>\n",
       "      <td>Gakondo</td>\n",
       "      <td>com.ishakwe.gakondo</td>\n",
       "      <td>Adventure</td>\n",
       "      <td>0.0</td>\n",
       "      <td>0.0</td>\n",
       "      <td>10+</td>\n",
       "      <td>10.0</td>\n",
       "      <td>15</td>\n",
       "      <td>True</td>\n",
       "      <td>0.0</td>\n",
       "      <td>...</td>\n",
       "      <td>https://beniyizibyose.tk/#/</td>\n",
       "      <td>jean21101999@gmail.com</td>\n",
       "      <td>Feb 26, 2020</td>\n",
       "      <td>Feb 26, 2020</td>\n",
       "      <td>Everyone</td>\n",
       "      <td>https://beniyizibyose.tk/projects/</td>\n",
       "      <td>False</td>\n",
       "      <td>False</td>\n",
       "      <td>False</td>\n",
       "      <td>2021-06-15 20:19:35</td>\n",
       "    </tr>\n",
       "    <tr>\n",
       "      <th>1</th>\n",
       "      <td>Ampere Battery Info</td>\n",
       "      <td>com.webserveis.batteryinfo</td>\n",
       "      <td>Tools</td>\n",
       "      <td>4.4</td>\n",
       "      <td>64.0</td>\n",
       "      <td>5,000+</td>\n",
       "      <td>5000.0</td>\n",
       "      <td>7662</td>\n",
       "      <td>True</td>\n",
       "      <td>0.0</td>\n",
       "      <td>...</td>\n",
       "      <td>https://webserveis.netlify.app/</td>\n",
       "      <td>webserveis@gmail.com</td>\n",
       "      <td>May 21, 2020</td>\n",
       "      <td>May 06, 2021</td>\n",
       "      <td>Everyone</td>\n",
       "      <td>https://dev4phones.wordpress.com/licencia-de-uso/</td>\n",
       "      <td>True</td>\n",
       "      <td>False</td>\n",
       "      <td>False</td>\n",
       "      <td>2021-06-15 20:19:35</td>\n",
       "    </tr>\n",
       "    <tr>\n",
       "      <th>2</th>\n",
       "      <td>Vibook</td>\n",
       "      <td>com.doantiepvien.crm</td>\n",
       "      <td>Productivity</td>\n",
       "      <td>0.0</td>\n",
       "      <td>0.0</td>\n",
       "      <td>50+</td>\n",
       "      <td>50.0</td>\n",
       "      <td>58</td>\n",
       "      <td>True</td>\n",
       "      <td>0.0</td>\n",
       "      <td>...</td>\n",
       "      <td>NaN</td>\n",
       "      <td>vnacrewit@gmail.com</td>\n",
       "      <td>Aug 9, 2019</td>\n",
       "      <td>Aug 19, 2019</td>\n",
       "      <td>Everyone</td>\n",
       "      <td>https://www.vietnamairlines.com/vn/en/terms-an...</td>\n",
       "      <td>False</td>\n",
       "      <td>False</td>\n",
       "      <td>False</td>\n",
       "      <td>2021-06-15 20:19:35</td>\n",
       "    </tr>\n",
       "    <tr>\n",
       "      <th>3</th>\n",
       "      <td>Smart City Trichy Public Service Vehicles 17UC...</td>\n",
       "      <td>cst.stJoseph.ug17ucs548</td>\n",
       "      <td>Communication</td>\n",
       "      <td>5.0</td>\n",
       "      <td>5.0</td>\n",
       "      <td>10+</td>\n",
       "      <td>10.0</td>\n",
       "      <td>19</td>\n",
       "      <td>True</td>\n",
       "      <td>0.0</td>\n",
       "      <td>...</td>\n",
       "      <td>http://www.climatesmarttech.com/</td>\n",
       "      <td>climatesmarttech2@gmail.com</td>\n",
       "      <td>Sep 10, 2018</td>\n",
       "      <td>Oct 13, 2018</td>\n",
       "      <td>Everyone</td>\n",
       "      <td>NaN</td>\n",
       "      <td>True</td>\n",
       "      <td>False</td>\n",
       "      <td>False</td>\n",
       "      <td>2021-06-15 20:19:35</td>\n",
       "    </tr>\n",
       "    <tr>\n",
       "      <th>4</th>\n",
       "      <td>GROW.me</td>\n",
       "      <td>com.horodyski.grower</td>\n",
       "      <td>Tools</td>\n",
       "      <td>0.0</td>\n",
       "      <td>0.0</td>\n",
       "      <td>100+</td>\n",
       "      <td>100.0</td>\n",
       "      <td>478</td>\n",
       "      <td>True</td>\n",
       "      <td>0.0</td>\n",
       "      <td>...</td>\n",
       "      <td>http://www.horodyski.com.pl</td>\n",
       "      <td>rmilekhorodyski@gmail.com</td>\n",
       "      <td>Feb 21, 2020</td>\n",
       "      <td>Nov 12, 2018</td>\n",
       "      <td>Everyone</td>\n",
       "      <td>http://www.horodyski.com.pl</td>\n",
       "      <td>False</td>\n",
       "      <td>False</td>\n",
       "      <td>False</td>\n",
       "      <td>2021-06-15 20:19:35</td>\n",
       "    </tr>\n",
       "  </tbody>\n",
       "</table>\n",
       "<p>5 rows × 24 columns</p>\n",
       "</div>"
      ],
      "text/plain": [
       "                                            App Name  \\\n",
       "0                                            Gakondo   \n",
       "1                                Ampere Battery Info   \n",
       "2                                             Vibook   \n",
       "3  Smart City Trichy Public Service Vehicles 17UC...   \n",
       "4                                            GROW.me   \n",
       "\n",
       "                       App Id       Category  Rating  Rating Count Installs  \\\n",
       "0         com.ishakwe.gakondo      Adventure     0.0           0.0      10+   \n",
       "1  com.webserveis.batteryinfo          Tools     4.4          64.0   5,000+   \n",
       "2        com.doantiepvien.crm   Productivity     0.0           0.0      50+   \n",
       "3     cst.stJoseph.ug17ucs548  Communication     5.0           5.0      10+   \n",
       "4        com.horodyski.grower          Tools     0.0           0.0     100+   \n",
       "\n",
       "   Minimum Installs  Maximum Installs  Free  Price  ...  \\\n",
       "0              10.0                15  True    0.0  ...   \n",
       "1            5000.0              7662  True    0.0  ...   \n",
       "2              50.0                58  True    0.0  ...   \n",
       "3              10.0                19  True    0.0  ...   \n",
       "4             100.0               478  True    0.0  ...   \n",
       "\n",
       "                  Developer Website              Developer Email  \\\n",
       "0       https://beniyizibyose.tk/#/       jean21101999@gmail.com   \n",
       "1   https://webserveis.netlify.app/         webserveis@gmail.com   \n",
       "2                               NaN          vnacrewit@gmail.com   \n",
       "3  http://www.climatesmarttech.com/  climatesmarttech2@gmail.com   \n",
       "4       http://www.horodyski.com.pl    rmilekhorodyski@gmail.com   \n",
       "\n",
       "       Released  Last Updated Content Rating  \\\n",
       "0  Feb 26, 2020  Feb 26, 2020       Everyone   \n",
       "1  May 21, 2020  May 06, 2021       Everyone   \n",
       "2   Aug 9, 2019  Aug 19, 2019       Everyone   \n",
       "3  Sep 10, 2018  Oct 13, 2018       Everyone   \n",
       "4  Feb 21, 2020  Nov 12, 2018       Everyone   \n",
       "\n",
       "                                      Privacy Policy Ad Supported  \\\n",
       "0                 https://beniyizibyose.tk/projects/        False   \n",
       "1  https://dev4phones.wordpress.com/licencia-de-uso/         True   \n",
       "2  https://www.vietnamairlines.com/vn/en/terms-an...        False   \n",
       "3                                                NaN         True   \n",
       "4                        http://www.horodyski.com.pl        False   \n",
       "\n",
       "  In App Purchases Editors Choice         Scraped Time  \n",
       "0            False          False  2021-06-15 20:19:35  \n",
       "1            False          False  2021-06-15 20:19:35  \n",
       "2            False          False  2021-06-15 20:19:35  \n",
       "3            False          False  2021-06-15 20:19:35  \n",
       "4            False          False  2021-06-15 20:19:35  \n",
       "\n",
       "[5 rows x 24 columns]"
      ]
     },
     "execution_count": 2,
     "metadata": {},
     "output_type": "execute_result"
    }
   ],
   "source": [
    "# load the data\n",
    "import pandas as pd\n",
    "data = pd.read_csv('Google-Playstore.csv')\n",
    "data.head()"
   ]
  },
  {
   "cell_type": "markdown",
   "metadata": {
    "id": "r5Qn0ZQnpTim"
   },
   "source": [
    "# Pre-Processing data"
   ]
  },
  {
   "cell_type": "code",
   "execution_count": 3,
   "metadata": {
    "executionInfo": {
     "elapsed": 9,
     "status": "ok",
     "timestamp": 1685320381264,
     "user": {
      "displayName": "Yongjia Huang",
      "userId": "07545929400309942195"
     },
     "user_tz": 420
    },
    "id": "RZAV-ue7k2MG"
   },
   "outputs": [],
   "source": [
    "from sklearn import tree\n",
    "from sklearn.tree import DecisionTreeRegressor\n",
    "from sklearn.metrics import mean_squared_error"
   ]
  },
  {
   "cell_type": "markdown",
   "metadata": {},
   "source": [
    "We check the column names and data type:"
   ]
  },
  {
   "cell_type": "code",
   "execution_count": 4,
   "metadata": {},
   "outputs": [
    {
     "data": {
      "text/plain": [
       "(Index(['App Name', 'App Id', 'Category', 'Rating', 'Rating Count', 'Installs',\n",
       "        'Minimum Installs', 'Maximum Installs', 'Free', 'Price', 'Currency',\n",
       "        'Size', 'Minimum Android', 'Developer Id', 'Developer Website',\n",
       "        'Developer Email', 'Released', 'Last Updated', 'Content Rating',\n",
       "        'Privacy Policy', 'Ad Supported', 'In App Purchases', 'Editors Choice',\n",
       "        'Scraped Time'],\n",
       "       dtype='object'),\n",
       " 24)"
      ]
     },
     "execution_count": 4,
     "metadata": {},
     "output_type": "execute_result"
    }
   ],
   "source": [
    "columns=data.columns\n",
    "columns,len(columns)"
   ]
  },
  {
   "cell_type": "code",
   "execution_count": 5,
   "metadata": {},
   "outputs": [
    {
     "name": "stdout",
     "output_type": "stream",
     "text": [
      "<class 'pandas.core.frame.DataFrame'>\n",
      "RangeIndex: 2312944 entries, 0 to 2312943\n",
      "Data columns (total 24 columns):\n",
      " #   Column             Dtype  \n",
      "---  ------             -----  \n",
      " 0   App Name           object \n",
      " 1   App Id             object \n",
      " 2   Category           object \n",
      " 3   Rating             float64\n",
      " 4   Rating Count       float64\n",
      " 5   Installs           object \n",
      " 6   Minimum Installs   float64\n",
      " 7   Maximum Installs   int64  \n",
      " 8   Free               bool   \n",
      " 9   Price              float64\n",
      " 10  Currency           object \n",
      " 11  Size               object \n",
      " 12  Minimum Android    object \n",
      " 13  Developer Id       object \n",
      " 14  Developer Website  object \n",
      " 15  Developer Email    object \n",
      " 16  Released           object \n",
      " 17  Last Updated       object \n",
      " 18  Content Rating     object \n",
      " 19  Privacy Policy     object \n",
      " 20  Ad Supported       bool   \n",
      " 21  In App Purchases   bool   \n",
      " 22  Editors Choice     bool   \n",
      " 23  Scraped Time       object \n",
      "dtypes: bool(4), float64(4), int64(1), object(15)\n",
      "memory usage: 361.8+ MB\n"
     ]
    }
   ],
   "source": [
    "data.info()"
   ]
  },
  {
   "cell_type": "markdown",
   "metadata": {},
   "source": [
    "View data for data processing:"
   ]
  },
  {
   "cell_type": "code",
   "execution_count": 6,
   "metadata": {},
   "outputs": [
    {
     "data": {
      "text/plain": [
       "0    Feb 26, 2020\n",
       "1    May 21, 2020\n",
       "2     Aug 9, 2019\n",
       "3    Sep 10, 2018\n",
       "4    Feb 21, 2020\n",
       "Name: Released, dtype: object"
      ]
     },
     "execution_count": 6,
     "metadata": {},
     "output_type": "execute_result"
    }
   ],
   "source": [
    "data['Released'].head()"
   ]
  },
  {
   "cell_type": "code",
   "execution_count": 7,
   "metadata": {},
   "outputs": [
    {
     "data": {
      "text/plain": [
       "0    Feb 26, 2020\n",
       "1    May 06, 2021\n",
       "2    Aug 19, 2019\n",
       "3    Oct 13, 2018\n",
       "4    Nov 12, 2018\n",
       "Name: Last Updated, dtype: object"
      ]
     },
     "execution_count": 7,
     "metadata": {},
     "output_type": "execute_result"
    }
   ],
   "source": [
    "data['Last Updated'].head()"
   ]
  },
  {
   "cell_type": "code",
   "execution_count": 8,
   "metadata": {},
   "outputs": [
    {
     "data": {
      "text/plain": [
       "0      7.1 and up\n",
       "1      5.0 and up\n",
       "2    4.0.3 and up\n",
       "3    4.0.3 and up\n",
       "4      4.1 and up\n",
       "Name: Minimum Android, dtype: object"
      ]
     },
     "execution_count": 8,
     "metadata": {},
     "output_type": "execute_result"
    }
   ],
   "source": [
    "data['Minimum Android'].head()"
   ]
  },
  {
   "cell_type": "markdown",
   "metadata": {},
   "source": [
    "Columns like App Id, Developer Id, Developer Email, Released (release date), Last Updated (last update date), Privacy Policy, Scraped Time are logistical information and are not relevant to our studies, so we can drop them first. The time an app was released and updated has little to do with how popular there are, for example, an app with minimal function such as Cisco Any Connect may not be updated regularly due to the simplisticity of its functions, but it's still used by many clients from various domains. In addition, there's often not a seasonal, time-based pattern in app download frequencies, so doing a time series analysis may not be useful. **TODO: maybe the time can be useful**   \n",
    "We are assuming the name of the App (App Name) and the Developer Website has nothing to do with the popularity of the app because users on the mobile end typically do not look up the developer's website to decide if they want to install the app or not. They rely on reviews and category in the app store to determine if the app is useful more often, and the app has been verified by the app store so most are legit. However, **this is a limitation as well.** Popular apps like Instagram developed by well-known companies are more likely to get higher rating. However, coming up with a weighting scheme corresponding to an app or company's popularity can be tricky and subjective, which can also introduce bias for newer apps, so we decided not to do this. A possible future study is to do Natural Language Processing incorporating **external data** such as a list of trending apps or top software companies.   \n",
    "We are also assuming the software version ('Minimum Android') is not relevant right now, because users with a lower version tend to update so that they can download the app. However, those with older phones may not be able to do so, so this may affect people with older devices or who are reluctant to update due to various reasons. For now, we are asssuming this population is relatively small, because Android has better combatibility for older phones than iPhones. **If this becomes an issue later, we will incorporate this into our analysis.**"
   ]
  },
  {
   "cell_type": "code",
   "execution_count": 9,
   "metadata": {},
   "outputs": [
    {
     "data": {
      "text/html": [
       "<div>\n",
       "<style scoped>\n",
       "    .dataframe tbody tr th:only-of-type {\n",
       "        vertical-align: middle;\n",
       "    }\n",
       "\n",
       "    .dataframe tbody tr th {\n",
       "        vertical-align: top;\n",
       "    }\n",
       "\n",
       "    .dataframe thead th {\n",
       "        text-align: right;\n",
       "    }\n",
       "</style>\n",
       "<table border=\"1\" class=\"dataframe\">\n",
       "  <thead>\n",
       "    <tr style=\"text-align: right;\">\n",
       "      <th></th>\n",
       "      <th>Category</th>\n",
       "      <th>Rating</th>\n",
       "      <th>Rating Count</th>\n",
       "      <th>Installs</th>\n",
       "      <th>Minimum Installs</th>\n",
       "      <th>Maximum Installs</th>\n",
       "      <th>Free</th>\n",
       "      <th>Price</th>\n",
       "      <th>Currency</th>\n",
       "      <th>Size</th>\n",
       "      <th>Content Rating</th>\n",
       "      <th>Ad Supported</th>\n",
       "      <th>In App Purchases</th>\n",
       "      <th>Editors Choice</th>\n",
       "    </tr>\n",
       "  </thead>\n",
       "  <tbody>\n",
       "    <tr>\n",
       "      <th>0</th>\n",
       "      <td>Adventure</td>\n",
       "      <td>0.0</td>\n",
       "      <td>0.0</td>\n",
       "      <td>10+</td>\n",
       "      <td>10.0</td>\n",
       "      <td>15</td>\n",
       "      <td>True</td>\n",
       "      <td>0.0</td>\n",
       "      <td>USD</td>\n",
       "      <td>10M</td>\n",
       "      <td>Everyone</td>\n",
       "      <td>False</td>\n",
       "      <td>False</td>\n",
       "      <td>False</td>\n",
       "    </tr>\n",
       "    <tr>\n",
       "      <th>1</th>\n",
       "      <td>Tools</td>\n",
       "      <td>4.4</td>\n",
       "      <td>64.0</td>\n",
       "      <td>5,000+</td>\n",
       "      <td>5000.0</td>\n",
       "      <td>7662</td>\n",
       "      <td>True</td>\n",
       "      <td>0.0</td>\n",
       "      <td>USD</td>\n",
       "      <td>2.9M</td>\n",
       "      <td>Everyone</td>\n",
       "      <td>True</td>\n",
       "      <td>False</td>\n",
       "      <td>False</td>\n",
       "    </tr>\n",
       "    <tr>\n",
       "      <th>2</th>\n",
       "      <td>Productivity</td>\n",
       "      <td>0.0</td>\n",
       "      <td>0.0</td>\n",
       "      <td>50+</td>\n",
       "      <td>50.0</td>\n",
       "      <td>58</td>\n",
       "      <td>True</td>\n",
       "      <td>0.0</td>\n",
       "      <td>USD</td>\n",
       "      <td>3.7M</td>\n",
       "      <td>Everyone</td>\n",
       "      <td>False</td>\n",
       "      <td>False</td>\n",
       "      <td>False</td>\n",
       "    </tr>\n",
       "    <tr>\n",
       "      <th>3</th>\n",
       "      <td>Communication</td>\n",
       "      <td>5.0</td>\n",
       "      <td>5.0</td>\n",
       "      <td>10+</td>\n",
       "      <td>10.0</td>\n",
       "      <td>19</td>\n",
       "      <td>True</td>\n",
       "      <td>0.0</td>\n",
       "      <td>USD</td>\n",
       "      <td>1.8M</td>\n",
       "      <td>Everyone</td>\n",
       "      <td>True</td>\n",
       "      <td>False</td>\n",
       "      <td>False</td>\n",
       "    </tr>\n",
       "    <tr>\n",
       "      <th>4</th>\n",
       "      <td>Tools</td>\n",
       "      <td>0.0</td>\n",
       "      <td>0.0</td>\n",
       "      <td>100+</td>\n",
       "      <td>100.0</td>\n",
       "      <td>478</td>\n",
       "      <td>True</td>\n",
       "      <td>0.0</td>\n",
       "      <td>USD</td>\n",
       "      <td>6.2M</td>\n",
       "      <td>Everyone</td>\n",
       "      <td>False</td>\n",
       "      <td>False</td>\n",
       "      <td>False</td>\n",
       "    </tr>\n",
       "  </tbody>\n",
       "</table>\n",
       "</div>"
      ],
      "text/plain": [
       "        Category  Rating  Rating Count Installs  Minimum Installs  \\\n",
       "0      Adventure     0.0           0.0      10+              10.0   \n",
       "1          Tools     4.4          64.0   5,000+            5000.0   \n",
       "2   Productivity     0.0           0.0      50+              50.0   \n",
       "3  Communication     5.0           5.0      10+              10.0   \n",
       "4          Tools     0.0           0.0     100+             100.0   \n",
       "\n",
       "   Maximum Installs  Free  Price Currency  Size Content Rating  Ad Supported  \\\n",
       "0                15  True    0.0      USD   10M       Everyone         False   \n",
       "1              7662  True    0.0      USD  2.9M       Everyone          True   \n",
       "2                58  True    0.0      USD  3.7M       Everyone         False   \n",
       "3                19  True    0.0      USD  1.8M       Everyone          True   \n",
       "4               478  True    0.0      USD  6.2M       Everyone         False   \n",
       "\n",
       "   In App Purchases  Editors Choice  \n",
       "0             False           False  \n",
       "1             False           False  \n",
       "2             False           False  \n",
       "3             False           False  \n",
       "4             False           False  "
      ]
     },
     "execution_count": 9,
     "metadata": {},
     "output_type": "execute_result"
    }
   ],
   "source": [
    "data = data.drop([\"App Name\", \"App Id\", \"Developer Id\", \"Developer Website\",\n",
    "                  \"Developer Email\",\"Released\",\"Last Updated\",\"Privacy Policy\",\n",
    "                  \"Scraped Time\",\"Minimum Android\"], axis = 1)\n",
    "data.head()"
   ]
  },
  {
   "cell_type": "markdown",
   "metadata": {},
   "source": [
    "Observing the data now, we see 3 columns related to installs: Installs, Minimum Installs, and Maximum Installs. Minimum Installs and Installs are the same: they are the rounded down number displayed to the user upon searching. The actual number of installs should be Maximum Installs. Therefore, we drop Installs and Minimum Installs."
   ]
  },
  {
   "cell_type": "code",
   "execution_count": 10,
   "metadata": {},
   "outputs": [
    {
     "data": {
      "text/html": [
       "<div>\n",
       "<style scoped>\n",
       "    .dataframe tbody tr th:only-of-type {\n",
       "        vertical-align: middle;\n",
       "    }\n",
       "\n",
       "    .dataframe tbody tr th {\n",
       "        vertical-align: top;\n",
       "    }\n",
       "\n",
       "    .dataframe thead th {\n",
       "        text-align: right;\n",
       "    }\n",
       "</style>\n",
       "<table border=\"1\" class=\"dataframe\">\n",
       "  <thead>\n",
       "    <tr style=\"text-align: right;\">\n",
       "      <th></th>\n",
       "      <th>Category</th>\n",
       "      <th>Rating</th>\n",
       "      <th>Rating Count</th>\n",
       "      <th>Maximum Installs</th>\n",
       "      <th>Free</th>\n",
       "      <th>Price</th>\n",
       "      <th>Currency</th>\n",
       "      <th>Size</th>\n",
       "      <th>Content Rating</th>\n",
       "      <th>Ad Supported</th>\n",
       "      <th>In App Purchases</th>\n",
       "      <th>Editors Choice</th>\n",
       "    </tr>\n",
       "  </thead>\n",
       "  <tbody>\n",
       "    <tr>\n",
       "      <th>0</th>\n",
       "      <td>Adventure</td>\n",
       "      <td>0.0</td>\n",
       "      <td>0.0</td>\n",
       "      <td>15</td>\n",
       "      <td>True</td>\n",
       "      <td>0.0</td>\n",
       "      <td>USD</td>\n",
       "      <td>10M</td>\n",
       "      <td>Everyone</td>\n",
       "      <td>False</td>\n",
       "      <td>False</td>\n",
       "      <td>False</td>\n",
       "    </tr>\n",
       "    <tr>\n",
       "      <th>1</th>\n",
       "      <td>Tools</td>\n",
       "      <td>4.4</td>\n",
       "      <td>64.0</td>\n",
       "      <td>7662</td>\n",
       "      <td>True</td>\n",
       "      <td>0.0</td>\n",
       "      <td>USD</td>\n",
       "      <td>2.9M</td>\n",
       "      <td>Everyone</td>\n",
       "      <td>True</td>\n",
       "      <td>False</td>\n",
       "      <td>False</td>\n",
       "    </tr>\n",
       "    <tr>\n",
       "      <th>2</th>\n",
       "      <td>Productivity</td>\n",
       "      <td>0.0</td>\n",
       "      <td>0.0</td>\n",
       "      <td>58</td>\n",
       "      <td>True</td>\n",
       "      <td>0.0</td>\n",
       "      <td>USD</td>\n",
       "      <td>3.7M</td>\n",
       "      <td>Everyone</td>\n",
       "      <td>False</td>\n",
       "      <td>False</td>\n",
       "      <td>False</td>\n",
       "    </tr>\n",
       "    <tr>\n",
       "      <th>3</th>\n",
       "      <td>Communication</td>\n",
       "      <td>5.0</td>\n",
       "      <td>5.0</td>\n",
       "      <td>19</td>\n",
       "      <td>True</td>\n",
       "      <td>0.0</td>\n",
       "      <td>USD</td>\n",
       "      <td>1.8M</td>\n",
       "      <td>Everyone</td>\n",
       "      <td>True</td>\n",
       "      <td>False</td>\n",
       "      <td>False</td>\n",
       "    </tr>\n",
       "    <tr>\n",
       "      <th>4</th>\n",
       "      <td>Tools</td>\n",
       "      <td>0.0</td>\n",
       "      <td>0.0</td>\n",
       "      <td>478</td>\n",
       "      <td>True</td>\n",
       "      <td>0.0</td>\n",
       "      <td>USD</td>\n",
       "      <td>6.2M</td>\n",
       "      <td>Everyone</td>\n",
       "      <td>False</td>\n",
       "      <td>False</td>\n",
       "      <td>False</td>\n",
       "    </tr>\n",
       "  </tbody>\n",
       "</table>\n",
       "</div>"
      ],
      "text/plain": [
       "        Category  Rating  Rating Count  Maximum Installs  Free  Price  \\\n",
       "0      Adventure     0.0           0.0                15  True    0.0   \n",
       "1          Tools     4.4          64.0              7662  True    0.0   \n",
       "2   Productivity     0.0           0.0                58  True    0.0   \n",
       "3  Communication     5.0           5.0                19  True    0.0   \n",
       "4          Tools     0.0           0.0               478  True    0.0   \n",
       "\n",
       "  Currency  Size Content Rating  Ad Supported  In App Purchases  \\\n",
       "0      USD   10M       Everyone         False             False   \n",
       "1      USD  2.9M       Everyone          True             False   \n",
       "2      USD  3.7M       Everyone         False             False   \n",
       "3      USD  1.8M       Everyone          True             False   \n",
       "4      USD  6.2M       Everyone         False             False   \n",
       "\n",
       "   Editors Choice  \n",
       "0           False  \n",
       "1           False  \n",
       "2           False  \n",
       "3           False  \n",
       "4           False  "
      ]
     },
     "execution_count": 10,
     "metadata": {},
     "output_type": "execute_result"
    }
   ],
   "source": [
    "data = data.drop([\"Installs\",\"Minimum Installs\"], axis = 1)\n",
    "data.head()"
   ]
  },
  {
   "cell_type": "markdown",
   "metadata": {},
   "source": [
    "We see there's a column of currency. It's important to standardize different form of currencies for accurate predictions, as 1 dollar is about 140 Japanese yen, for example."
   ]
  },
  {
   "cell_type": "code",
   "execution_count": 11,
   "metadata": {
    "scrolled": true
   },
   "outputs": [
    {
     "data": {
      "text/plain": [
       "array(['USD', 'XXX', 'CAD', 'EUR', 'INR', nan, 'VND', 'GBP', 'BRL', 'KRW',\n",
       "       'TRY', 'RUB', 'SGD', 'AUD', 'PKR', 'ZAR'], dtype=object)"
      ]
     },
     "execution_count": 11,
     "metadata": {},
     "output_type": "execute_result"
    }
   ],
   "source": [
    "data['Currency'].unique()"
   ]
  },
  {
   "cell_type": "code",
   "execution_count": 12,
   "metadata": {},
   "outputs": [
    {
     "data": {
      "text/plain": [
       "USD    2311548\n",
       "XXX       1236\n",
       "NaN        135\n",
       "EUR          6\n",
       "INR          5\n",
       "GBP          3\n",
       "CAD          2\n",
       "VND          1\n",
       "BRL          1\n",
       "KRW          1\n",
       "TRY          1\n",
       "RUB          1\n",
       "SGD          1\n",
       "AUD          1\n",
       "PKR          1\n",
       "ZAR          1\n",
       "Name: Currency, dtype: int64"
      ]
     },
     "execution_count": 12,
     "metadata": {},
     "output_type": "execute_result"
    }
   ],
   "source": [
    "data['Currency'].value_counts(dropna=False)"
   ]
  },
  {
   "cell_type": "markdown",
   "metadata": {},
   "source": [
    "We see there are missing (NaN) values, but there are only 135 of them out of our data of over 2310000 entries, so we can impute them after we standardize the currency. There are also those with currency XXX:"
   ]
  },
  {
   "cell_type": "code",
   "execution_count": 13,
   "metadata": {},
   "outputs": [
    {
     "data": {
      "text/html": [
       "<div>\n",
       "<style scoped>\n",
       "    .dataframe tbody tr th:only-of-type {\n",
       "        vertical-align: middle;\n",
       "    }\n",
       "\n",
       "    .dataframe tbody tr th {\n",
       "        vertical-align: top;\n",
       "    }\n",
       "\n",
       "    .dataframe thead th {\n",
       "        text-align: right;\n",
       "    }\n",
       "</style>\n",
       "<table border=\"1\" class=\"dataframe\">\n",
       "  <thead>\n",
       "    <tr style=\"text-align: right;\">\n",
       "      <th></th>\n",
       "      <th>Price</th>\n",
       "      <th>Currency</th>\n",
       "      <th>Free</th>\n",
       "    </tr>\n",
       "  </thead>\n",
       "  <tbody>\n",
       "    <tr>\n",
       "      <th>19</th>\n",
       "      <td>0.0</td>\n",
       "      <td>XXX</td>\n",
       "      <td>True</td>\n",
       "    </tr>\n",
       "    <tr>\n",
       "      <th>32</th>\n",
       "      <td>0.0</td>\n",
       "      <td>XXX</td>\n",
       "      <td>True</td>\n",
       "    </tr>\n",
       "    <tr>\n",
       "      <th>67</th>\n",
       "      <td>0.0</td>\n",
       "      <td>XXX</td>\n",
       "      <td>True</td>\n",
       "    </tr>\n",
       "    <tr>\n",
       "      <th>181</th>\n",
       "      <td>0.0</td>\n",
       "      <td>XXX</td>\n",
       "      <td>True</td>\n",
       "    </tr>\n",
       "    <tr>\n",
       "      <th>191</th>\n",
       "      <td>0.0</td>\n",
       "      <td>XXX</td>\n",
       "      <td>True</td>\n",
       "    </tr>\n",
       "    <tr>\n",
       "      <th>...</th>\n",
       "      <td>...</td>\n",
       "      <td>...</td>\n",
       "      <td>...</td>\n",
       "    </tr>\n",
       "    <tr>\n",
       "      <th>1204740</th>\n",
       "      <td>0.0</td>\n",
       "      <td>XXX</td>\n",
       "      <td>True</td>\n",
       "    </tr>\n",
       "    <tr>\n",
       "      <th>1204991</th>\n",
       "      <td>0.0</td>\n",
       "      <td>XXX</td>\n",
       "      <td>True</td>\n",
       "    </tr>\n",
       "    <tr>\n",
       "      <th>1205662</th>\n",
       "      <td>0.0</td>\n",
       "      <td>XXX</td>\n",
       "      <td>True</td>\n",
       "    </tr>\n",
       "    <tr>\n",
       "      <th>1205695</th>\n",
       "      <td>0.0</td>\n",
       "      <td>XXX</td>\n",
       "      <td>True</td>\n",
       "    </tr>\n",
       "    <tr>\n",
       "      <th>1205810</th>\n",
       "      <td>0.0</td>\n",
       "      <td>XXX</td>\n",
       "      <td>True</td>\n",
       "    </tr>\n",
       "  </tbody>\n",
       "</table>\n",
       "<p>1236 rows × 3 columns</p>\n",
       "</div>"
      ],
      "text/plain": [
       "         Price Currency  Free\n",
       "19         0.0      XXX  True\n",
       "32         0.0      XXX  True\n",
       "67         0.0      XXX  True\n",
       "181        0.0      XXX  True\n",
       "191        0.0      XXX  True\n",
       "...        ...      ...   ...\n",
       "1204740    0.0      XXX  True\n",
       "1204991    0.0      XXX  True\n",
       "1205662    0.0      XXX  True\n",
       "1205695    0.0      XXX  True\n",
       "1205810    0.0      XXX  True\n",
       "\n",
       "[1236 rows x 3 columns]"
      ]
     },
     "execution_count": 13,
     "metadata": {},
     "output_type": "execute_result"
    }
   ],
   "source": [
    "xxx=data[data['Currency']=='XXX'][[\"Price\",\"Currency\",\"Free\"]]\n",
    "xxx"
   ]
  },
  {
   "cell_type": "code",
   "execution_count": 14,
   "metadata": {},
   "outputs": [
    {
     "data": {
      "text/html": [
       "<div>\n",
       "<style scoped>\n",
       "    .dataframe tbody tr th:only-of-type {\n",
       "        vertical-align: middle;\n",
       "    }\n",
       "\n",
       "    .dataframe tbody tr th {\n",
       "        vertical-align: top;\n",
       "    }\n",
       "\n",
       "    .dataframe thead th {\n",
       "        text-align: right;\n",
       "    }\n",
       "</style>\n",
       "<table border=\"1\" class=\"dataframe\">\n",
       "  <thead>\n",
       "    <tr style=\"text-align: right;\">\n",
       "      <th></th>\n",
       "      <th>Price</th>\n",
       "      <th>Currency</th>\n",
       "      <th>Free</th>\n",
       "    </tr>\n",
       "  </thead>\n",
       "  <tbody>\n",
       "  </tbody>\n",
       "</table>\n",
       "</div>"
      ],
      "text/plain": [
       "Empty DataFrame\n",
       "Columns: [Price, Currency, Free]\n",
       "Index: []"
      ]
     },
     "execution_count": 14,
     "metadata": {},
     "output_type": "execute_result"
    }
   ],
   "source": [
    "xxx[xxx[\"Free\"]==False]"
   ]
  },
  {
   "cell_type": "markdown",
   "metadata": {},
   "source": [
    "After some research, XXX often stands for transactions where no currency is involved. In our case, it seems like all apps with currency XXX are free. There's not one row where the Free column is false.  \n",
    "Wikipedia: https://en.wikipedia.org/wiki/ISO_4217#:~:text=The%20code%20XXX%20is%20used,by%20the%20International%20Monetary%20Fund.  \n",
    "International Organization for Standardization: https://www.iso.org/iso-4217-currency-codes.html"
   ]
  },
  {
   "cell_type": "code",
   "execution_count": 15,
   "metadata": {},
   "outputs": [
    {
     "data": {
      "text/html": [
       "<div>\n",
       "<style scoped>\n",
       "    .dataframe tbody tr th:only-of-type {\n",
       "        vertical-align: middle;\n",
       "    }\n",
       "\n",
       "    .dataframe tbody tr th {\n",
       "        vertical-align: top;\n",
       "    }\n",
       "\n",
       "    .dataframe thead th {\n",
       "        text-align: right;\n",
       "    }\n",
       "</style>\n",
       "<table border=\"1\" class=\"dataframe\">\n",
       "  <thead>\n",
       "    <tr style=\"text-align: right;\">\n",
       "      <th></th>\n",
       "      <th>Category</th>\n",
       "      <th>Rating</th>\n",
       "      <th>Rating Count</th>\n",
       "      <th>Maximum Installs</th>\n",
       "      <th>Free</th>\n",
       "      <th>Price</th>\n",
       "      <th>Currency</th>\n",
       "      <th>Size</th>\n",
       "      <th>Content Rating</th>\n",
       "      <th>Ad Supported</th>\n",
       "      <th>In App Purchases</th>\n",
       "      <th>Editors Choice</th>\n",
       "    </tr>\n",
       "  </thead>\n",
       "  <tbody>\n",
       "    <tr>\n",
       "      <th>19</th>\n",
       "      <td>Books &amp; Reference</td>\n",
       "      <td>0.0</td>\n",
       "      <td>0.0</td>\n",
       "      <td>2</td>\n",
       "      <td>True</td>\n",
       "      <td>0.0</td>\n",
       "      <td>XXX</td>\n",
       "      <td>11M</td>\n",
       "      <td>Mature 17+</td>\n",
       "      <td>True</td>\n",
       "      <td>False</td>\n",
       "      <td>False</td>\n",
       "    </tr>\n",
       "    <tr>\n",
       "      <th>32</th>\n",
       "      <td>Photography</td>\n",
       "      <td>2.5</td>\n",
       "      <td>21.0</td>\n",
       "      <td>8984</td>\n",
       "      <td>True</td>\n",
       "      <td>0.0</td>\n",
       "      <td>XXX</td>\n",
       "      <td>6.2M</td>\n",
       "      <td>Everyone</td>\n",
       "      <td>True</td>\n",
       "      <td>False</td>\n",
       "      <td>False</td>\n",
       "    </tr>\n",
       "    <tr>\n",
       "      <th>67</th>\n",
       "      <td>Education</td>\n",
       "      <td>0.0</td>\n",
       "      <td>0.0</td>\n",
       "      <td>186</td>\n",
       "      <td>True</td>\n",
       "      <td>0.0</td>\n",
       "      <td>XXX</td>\n",
       "      <td>32M</td>\n",
       "      <td>Everyone</td>\n",
       "      <td>False</td>\n",
       "      <td>False</td>\n",
       "      <td>False</td>\n",
       "    </tr>\n",
       "    <tr>\n",
       "      <th>181</th>\n",
       "      <td>Entertainment</td>\n",
       "      <td>0.0</td>\n",
       "      <td>0.0</td>\n",
       "      <td>670</td>\n",
       "      <td>True</td>\n",
       "      <td>0.0</td>\n",
       "      <td>XXX</td>\n",
       "      <td>8.1M</td>\n",
       "      <td>Everyone</td>\n",
       "      <td>True</td>\n",
       "      <td>False</td>\n",
       "      <td>False</td>\n",
       "    </tr>\n",
       "    <tr>\n",
       "      <th>191</th>\n",
       "      <td>Shopping</td>\n",
       "      <td>0.0</td>\n",
       "      <td>0.0</td>\n",
       "      <td>2</td>\n",
       "      <td>True</td>\n",
       "      <td>0.0</td>\n",
       "      <td>XXX</td>\n",
       "      <td>3.6M</td>\n",
       "      <td>Everyone</td>\n",
       "      <td>False</td>\n",
       "      <td>False</td>\n",
       "      <td>False</td>\n",
       "    </tr>\n",
       "  </tbody>\n",
       "</table>\n",
       "</div>"
      ],
      "text/plain": [
       "              Category  Rating  Rating Count  Maximum Installs  Free  Price  \\\n",
       "19   Books & Reference     0.0           0.0                 2  True    0.0   \n",
       "32         Photography     2.5          21.0              8984  True    0.0   \n",
       "67           Education     0.0           0.0               186  True    0.0   \n",
       "181      Entertainment     0.0           0.0               670  True    0.0   \n",
       "191           Shopping     0.0           0.0                 2  True    0.0   \n",
       "\n",
       "    Currency  Size Content Rating  Ad Supported  In App Purchases  \\\n",
       "19       XXX   11M     Mature 17+          True             False   \n",
       "32       XXX  6.2M       Everyone          True             False   \n",
       "67       XXX   32M       Everyone         False             False   \n",
       "181      XXX  8.1M       Everyone          True             False   \n",
       "191      XXX  3.6M       Everyone         False             False   \n",
       "\n",
       "     Editors Choice  \n",
       "19            False  \n",
       "32            False  \n",
       "67            False  \n",
       "181           False  \n",
       "191           False  "
      ]
     },
     "execution_count": 15,
     "metadata": {},
     "output_type": "execute_result"
    }
   ],
   "source": [
    "data[data[\"Currency\"]!=\"USD\"].head()"
   ]
  },
  {
   "cell_type": "markdown",
   "metadata": {},
   "source": [
    "At a first glance, we suspect that apps in non-USD currency might be free since the Free column is True, and Price is 0. We see the value frequencies to make sure:"
   ]
  },
  {
   "cell_type": "code",
   "execution_count": 16,
   "metadata": {},
   "outputs": [
    {
     "data": {
      "text/plain": [
       "0.0    1396\n",
       "Name: Price, dtype: int64"
      ]
     },
     "execution_count": 16,
     "metadata": {},
     "output_type": "execute_result"
    }
   ],
   "source": [
    "data[data[\"Currency\"]!=\"USD\"][\"Price\"].value_counts(dropna=False)"
   ]
  },
  {
   "cell_type": "markdown",
   "metadata": {},
   "source": [
    "Therefore, we can standardize them to USD without any conversion now since they are all free. Even apps whose currency is missing are free, so we can let all currency be USD. However, we should check again when there's a new batch of data."
   ]
  },
  {
   "cell_type": "code",
   "execution_count": 17,
   "metadata": {},
   "outputs": [
    {
     "data": {
      "text/plain": [
       "USD    2312944\n",
       "Name: Currency, dtype: int64"
      ]
     },
     "execution_count": 17,
     "metadata": {},
     "output_type": "execute_result"
    }
   ],
   "source": [
    "data[\"Currency\"]=\"USD\"\n",
    "data[\"Currency\"].value_counts(dropna=False)"
   ]
  },
  {
   "cell_type": "code",
   "execution_count": 18,
   "metadata": {
    "scrolled": true
   },
   "outputs": [
    {
     "data": {
      "text/html": [
       "<div>\n",
       "<style scoped>\n",
       "    .dataframe tbody tr th:only-of-type {\n",
       "        vertical-align: middle;\n",
       "    }\n",
       "\n",
       "    .dataframe tbody tr th {\n",
       "        vertical-align: top;\n",
       "    }\n",
       "\n",
       "    .dataframe thead th {\n",
       "        text-align: right;\n",
       "    }\n",
       "</style>\n",
       "<table border=\"1\" class=\"dataframe\">\n",
       "  <thead>\n",
       "    <tr style=\"text-align: right;\">\n",
       "      <th></th>\n",
       "      <th>Category</th>\n",
       "      <th>Rating</th>\n",
       "      <th>Rating Count</th>\n",
       "      <th>Maximum Installs</th>\n",
       "      <th>Free</th>\n",
       "      <th>Price</th>\n",
       "      <th>Currency</th>\n",
       "      <th>Size</th>\n",
       "      <th>Content Rating</th>\n",
       "      <th>Ad Supported</th>\n",
       "      <th>In App Purchases</th>\n",
       "      <th>Editors Choice</th>\n",
       "    </tr>\n",
       "  </thead>\n",
       "  <tbody>\n",
       "    <tr>\n",
       "      <th>115</th>\n",
       "      <td>Tools</td>\n",
       "      <td>NaN</td>\n",
       "      <td>NaN</td>\n",
       "      <td>71</td>\n",
       "      <td>True</td>\n",
       "      <td>0.0</td>\n",
       "      <td>USD</td>\n",
       "      <td>Varies with device</td>\n",
       "      <td>Everyone</td>\n",
       "      <td>False</td>\n",
       "      <td>False</td>\n",
       "      <td>False</td>\n",
       "    </tr>\n",
       "    <tr>\n",
       "      <th>210</th>\n",
       "      <td>Productivity</td>\n",
       "      <td>NaN</td>\n",
       "      <td>NaN</td>\n",
       "      <td>135</td>\n",
       "      <td>True</td>\n",
       "      <td>0.0</td>\n",
       "      <td>USD</td>\n",
       "      <td>Varies with device</td>\n",
       "      <td>Everyone</td>\n",
       "      <td>False</td>\n",
       "      <td>False</td>\n",
       "      <td>False</td>\n",
       "    </tr>\n",
       "    <tr>\n",
       "      <th>284</th>\n",
       "      <td>Entertainment</td>\n",
       "      <td>NaN</td>\n",
       "      <td>NaN</td>\n",
       "      <td>14</td>\n",
       "      <td>True</td>\n",
       "      <td>0.0</td>\n",
       "      <td>USD</td>\n",
       "      <td>Varies with device</td>\n",
       "      <td>Mature 17+</td>\n",
       "      <td>False</td>\n",
       "      <td>False</td>\n",
       "      <td>False</td>\n",
       "    </tr>\n",
       "    <tr>\n",
       "      <th>501</th>\n",
       "      <td>Communication</td>\n",
       "      <td>NaN</td>\n",
       "      <td>NaN</td>\n",
       "      <td>92</td>\n",
       "      <td>True</td>\n",
       "      <td>0.0</td>\n",
       "      <td>USD</td>\n",
       "      <td>Varies with device</td>\n",
       "      <td>Everyone</td>\n",
       "      <td>False</td>\n",
       "      <td>False</td>\n",
       "      <td>False</td>\n",
       "    </tr>\n",
       "    <tr>\n",
       "      <th>662</th>\n",
       "      <td>Tools</td>\n",
       "      <td>NaN</td>\n",
       "      <td>NaN</td>\n",
       "      <td>18</td>\n",
       "      <td>True</td>\n",
       "      <td>0.0</td>\n",
       "      <td>USD</td>\n",
       "      <td>Varies with device</td>\n",
       "      <td>Everyone</td>\n",
       "      <td>False</td>\n",
       "      <td>False</td>\n",
       "      <td>False</td>\n",
       "    </tr>\n",
       "  </tbody>\n",
       "</table>\n",
       "</div>"
      ],
      "text/plain": [
       "          Category  Rating  Rating Count  Maximum Installs  Free  Price  \\\n",
       "115          Tools     NaN           NaN                71  True    0.0   \n",
       "210   Productivity     NaN           NaN               135  True    0.0   \n",
       "284  Entertainment     NaN           NaN                14  True    0.0   \n",
       "501  Communication     NaN           NaN                92  True    0.0   \n",
       "662          Tools     NaN           NaN                18  True    0.0   \n",
       "\n",
       "    Currency                Size Content Rating  Ad Supported  \\\n",
       "115      USD  Varies with device       Everyone         False   \n",
       "210      USD  Varies with device       Everyone         False   \n",
       "284      USD  Varies with device     Mature 17+         False   \n",
       "501      USD  Varies with device       Everyone         False   \n",
       "662      USD  Varies with device       Everyone         False   \n",
       "\n",
       "     In App Purchases  Editors Choice  \n",
       "115             False           False  \n",
       "210             False           False  \n",
       "284             False           False  \n",
       "501             False           False  \n",
       "662             False           False  "
      ]
     },
     "execution_count": 18,
     "metadata": {},
     "output_type": "execute_result"
    }
   ],
   "source": [
    "data[data.isnull().any(axis=1)].head()"
   ]
  },
  {
   "cell_type": "code",
   "execution_count": 19,
   "metadata": {},
   "outputs": [
    {
     "data": {
      "text/html": [
       "<div>\n",
       "<style scoped>\n",
       "    .dataframe tbody tr th:only-of-type {\n",
       "        vertical-align: middle;\n",
       "    }\n",
       "\n",
       "    .dataframe tbody tr th {\n",
       "        vertical-align: top;\n",
       "    }\n",
       "\n",
       "    .dataframe thead th {\n",
       "        text-align: right;\n",
       "    }\n",
       "</style>\n",
       "<table border=\"1\" class=\"dataframe\">\n",
       "  <thead>\n",
       "    <tr style=\"text-align: right;\">\n",
       "      <th></th>\n",
       "      <th>Category</th>\n",
       "      <th>Rating</th>\n",
       "      <th>Rating Count</th>\n",
       "      <th>Maximum Installs</th>\n",
       "      <th>Free</th>\n",
       "      <th>Price</th>\n",
       "      <th>Currency</th>\n",
       "      <th>Size</th>\n",
       "      <th>Content Rating</th>\n",
       "      <th>Ad Supported</th>\n",
       "      <th>In App Purchases</th>\n",
       "      <th>Editors Choice</th>\n",
       "    </tr>\n",
       "  </thead>\n",
       "  <tbody>\n",
       "    <tr>\n",
       "      <th>0</th>\n",
       "      <td>Adventure</td>\n",
       "      <td>0.0</td>\n",
       "      <td>0.0</td>\n",
       "      <td>15</td>\n",
       "      <td>True</td>\n",
       "      <td>0.0</td>\n",
       "      <td>USD</td>\n",
       "      <td>10.0</td>\n",
       "      <td>Everyone</td>\n",
       "      <td>False</td>\n",
       "      <td>False</td>\n",
       "      <td>False</td>\n",
       "    </tr>\n",
       "    <tr>\n",
       "      <th>1</th>\n",
       "      <td>Tools</td>\n",
       "      <td>4.4</td>\n",
       "      <td>64.0</td>\n",
       "      <td>7662</td>\n",
       "      <td>True</td>\n",
       "      <td>0.0</td>\n",
       "      <td>USD</td>\n",
       "      <td>2.0</td>\n",
       "      <td>Everyone</td>\n",
       "      <td>True</td>\n",
       "      <td>False</td>\n",
       "      <td>False</td>\n",
       "    </tr>\n",
       "    <tr>\n",
       "      <th>2</th>\n",
       "      <td>Productivity</td>\n",
       "      <td>0.0</td>\n",
       "      <td>0.0</td>\n",
       "      <td>58</td>\n",
       "      <td>True</td>\n",
       "      <td>0.0</td>\n",
       "      <td>USD</td>\n",
       "      <td>3.0</td>\n",
       "      <td>Everyone</td>\n",
       "      <td>False</td>\n",
       "      <td>False</td>\n",
       "      <td>False</td>\n",
       "    </tr>\n",
       "    <tr>\n",
       "      <th>3</th>\n",
       "      <td>Communication</td>\n",
       "      <td>5.0</td>\n",
       "      <td>5.0</td>\n",
       "      <td>19</td>\n",
       "      <td>True</td>\n",
       "      <td>0.0</td>\n",
       "      <td>USD</td>\n",
       "      <td>1.0</td>\n",
       "      <td>Everyone</td>\n",
       "      <td>True</td>\n",
       "      <td>False</td>\n",
       "      <td>False</td>\n",
       "    </tr>\n",
       "    <tr>\n",
       "      <th>4</th>\n",
       "      <td>Tools</td>\n",
       "      <td>0.0</td>\n",
       "      <td>0.0</td>\n",
       "      <td>478</td>\n",
       "      <td>True</td>\n",
       "      <td>0.0</td>\n",
       "      <td>USD</td>\n",
       "      <td>6.0</td>\n",
       "      <td>Everyone</td>\n",
       "      <td>False</td>\n",
       "      <td>False</td>\n",
       "      <td>False</td>\n",
       "    </tr>\n",
       "    <tr>\n",
       "      <th>...</th>\n",
       "      <td>...</td>\n",
       "      <td>...</td>\n",
       "      <td>...</td>\n",
       "      <td>...</td>\n",
       "      <td>...</td>\n",
       "      <td>...</td>\n",
       "      <td>...</td>\n",
       "      <td>...</td>\n",
       "      <td>...</td>\n",
       "      <td>...</td>\n",
       "      <td>...</td>\n",
       "      <td>...</td>\n",
       "    </tr>\n",
       "    <tr>\n",
       "      <th>2312939</th>\n",
       "      <td>Role Playing</td>\n",
       "      <td>4.3</td>\n",
       "      <td>16775.0</td>\n",
       "      <td>337109</td>\n",
       "      <td>True</td>\n",
       "      <td>0.0</td>\n",
       "      <td>USD</td>\n",
       "      <td>77.0</td>\n",
       "      <td>Teen</td>\n",
       "      <td>False</td>\n",
       "      <td>False</td>\n",
       "      <td>False</td>\n",
       "    </tr>\n",
       "    <tr>\n",
       "      <th>2312940</th>\n",
       "      <td>Education</td>\n",
       "      <td>0.0</td>\n",
       "      <td>0.0</td>\n",
       "      <td>430</td>\n",
       "      <td>True</td>\n",
       "      <td>0.0</td>\n",
       "      <td>USD</td>\n",
       "      <td>44.0</td>\n",
       "      <td>Everyone</td>\n",
       "      <td>False</td>\n",
       "      <td>False</td>\n",
       "      <td>False</td>\n",
       "    </tr>\n",
       "    <tr>\n",
       "      <th>2312941</th>\n",
       "      <td>Education</td>\n",
       "      <td>0.0</td>\n",
       "      <td>0.0</td>\n",
       "      <td>202</td>\n",
       "      <td>True</td>\n",
       "      <td>0.0</td>\n",
       "      <td>USD</td>\n",
       "      <td>29.0</td>\n",
       "      <td>Everyone</td>\n",
       "      <td>False</td>\n",
       "      <td>False</td>\n",
       "      <td>False</td>\n",
       "    </tr>\n",
       "    <tr>\n",
       "      <th>2312942</th>\n",
       "      <td>Music &amp; Audio</td>\n",
       "      <td>3.5</td>\n",
       "      <td>8.0</td>\n",
       "      <td>2635</td>\n",
       "      <td>True</td>\n",
       "      <td>0.0</td>\n",
       "      <td>USD</td>\n",
       "      <td>10.0</td>\n",
       "      <td>Everyone</td>\n",
       "      <td>True</td>\n",
       "      <td>False</td>\n",
       "      <td>False</td>\n",
       "    </tr>\n",
       "    <tr>\n",
       "      <th>2312943</th>\n",
       "      <td>Trivia</td>\n",
       "      <td>5.0</td>\n",
       "      <td>12.0</td>\n",
       "      <td>354</td>\n",
       "      <td>True</td>\n",
       "      <td>0.0</td>\n",
       "      <td>USD</td>\n",
       "      <td>5.0</td>\n",
       "      <td>Everyone</td>\n",
       "      <td>True</td>\n",
       "      <td>False</td>\n",
       "      <td>False</td>\n",
       "    </tr>\n",
       "  </tbody>\n",
       "</table>\n",
       "<p>2312944 rows × 12 columns</p>\n",
       "</div>"
      ],
      "text/plain": [
       "              Category  Rating  Rating Count  Maximum Installs  Free  Price  \\\n",
       "0            Adventure     0.0           0.0                15  True    0.0   \n",
       "1                Tools     4.4          64.0              7662  True    0.0   \n",
       "2         Productivity     0.0           0.0                58  True    0.0   \n",
       "3        Communication     5.0           5.0                19  True    0.0   \n",
       "4                Tools     0.0           0.0               478  True    0.0   \n",
       "...                ...     ...           ...               ...   ...    ...   \n",
       "2312939   Role Playing     4.3       16775.0            337109  True    0.0   \n",
       "2312940      Education     0.0           0.0               430  True    0.0   \n",
       "2312941      Education     0.0           0.0               202  True    0.0   \n",
       "2312942  Music & Audio     3.5           8.0              2635  True    0.0   \n",
       "2312943         Trivia     5.0          12.0               354  True    0.0   \n",
       "\n",
       "        Currency  Size Content Rating  Ad Supported  In App Purchases  \\\n",
       "0            USD  10.0       Everyone         False             False   \n",
       "1            USD   2.0       Everyone          True             False   \n",
       "2            USD   3.0       Everyone         False             False   \n",
       "3            USD   1.0       Everyone          True             False   \n",
       "4            USD   6.0       Everyone         False             False   \n",
       "...          ...   ...            ...           ...               ...   \n",
       "2312939      USD  77.0           Teen         False             False   \n",
       "2312940      USD  44.0       Everyone         False             False   \n",
       "2312941      USD  29.0       Everyone         False             False   \n",
       "2312942      USD  10.0       Everyone          True             False   \n",
       "2312943      USD   5.0       Everyone          True             False   \n",
       "\n",
       "         Editors Choice  \n",
       "0                 False  \n",
       "1                 False  \n",
       "2                 False  \n",
       "3                 False  \n",
       "4                 False  \n",
       "...                 ...  \n",
       "2312939           False  \n",
       "2312940           False  \n",
       "2312941           False  \n",
       "2312942           False  \n",
       "2312943           False  \n",
       "\n",
       "[2312944 rows x 12 columns]"
      ]
     },
     "execution_count": 19,
     "metadata": {},
     "output_type": "execute_result"
    }
   ],
   "source": [
    "#transform size into float\n",
    "data[\"Size\"] = data[\"Size\"].str.extract(r'(\\d+)').astype(float)\n",
    "data"
   ]
  },
  {
   "cell_type": "code",
   "execution_count": 20,
   "metadata": {},
   "outputs": [
    {
     "data": {
      "text/plain": [
       "1.0"
      ]
     },
     "execution_count": 20,
     "metadata": {},
     "output_type": "execute_result"
    }
   ],
   "source": [
    "data[\"Size\"].min(skipna=True) # the smallest value not counting NAs is 1.0, so all sizes are in the Megabytes,\n",
    "# there was no problem in our previous transformation"
   ]
  },
  {
   "cell_type": "markdown",
   "metadata": {},
   "source": [
    "We see there are missing values in rating and rating count (how many ratings there are). After converting to numerical values, apps whose size was \"Varies with device\" also has NaN now, so we impute these columns."
   ]
  },
  {
   "cell_type": "code",
   "execution_count": 21,
   "metadata": {},
   "outputs": [],
   "source": [
    "avg_rating = data[\"Rating\"].mean()\n",
    "avg_rating_ct = data[\"Rating Count\"].mean()\n",
    "avg_size = data[\"Size\"].mean()\n",
    "data[\"Rating\"].fillna(avg_rating, inplace = True)\n",
    "data[\"Rating Count\"].fillna(avg_rating_ct, inplace = True)\n",
    "data[\"Size\"].fillna(avg_size, inplace = True)"
   ]
  },
  {
   "cell_type": "markdown",
   "metadata": {},
   "source": [
    "We have no more NaN's:"
   ]
  },
  {
   "cell_type": "code",
   "execution_count": 22,
   "metadata": {},
   "outputs": [
    {
     "data": {
      "text/html": [
       "<div>\n",
       "<style scoped>\n",
       "    .dataframe tbody tr th:only-of-type {\n",
       "        vertical-align: middle;\n",
       "    }\n",
       "\n",
       "    .dataframe tbody tr th {\n",
       "        vertical-align: top;\n",
       "    }\n",
       "\n",
       "    .dataframe thead th {\n",
       "        text-align: right;\n",
       "    }\n",
       "</style>\n",
       "<table border=\"1\" class=\"dataframe\">\n",
       "  <thead>\n",
       "    <tr style=\"text-align: right;\">\n",
       "      <th></th>\n",
       "      <th>Category</th>\n",
       "      <th>Rating</th>\n",
       "      <th>Rating Count</th>\n",
       "      <th>Maximum Installs</th>\n",
       "      <th>Free</th>\n",
       "      <th>Price</th>\n",
       "      <th>Currency</th>\n",
       "      <th>Size</th>\n",
       "      <th>Content Rating</th>\n",
       "      <th>Ad Supported</th>\n",
       "      <th>In App Purchases</th>\n",
       "      <th>Editors Choice</th>\n",
       "    </tr>\n",
       "  </thead>\n",
       "  <tbody>\n",
       "  </tbody>\n",
       "</table>\n",
       "</div>"
      ],
      "text/plain": [
       "Empty DataFrame\n",
       "Columns: [Category, Rating, Rating Count, Maximum Installs, Free, Price, Currency, Size, Content Rating, Ad Supported, In App Purchases, Editors Choice]\n",
       "Index: []"
      ]
     },
     "execution_count": 22,
     "metadata": {},
     "output_type": "execute_result"
    }
   ],
   "source": [
    "data[data.isnull().any(axis=1)].head()"
   ]
  },
  {
   "cell_type": "code",
   "execution_count": 23,
   "metadata": {},
   "outputs": [
    {
     "data": {
      "text/html": [
       "<div>\n",
       "<style scoped>\n",
       "    .dataframe tbody tr th:only-of-type {\n",
       "        vertical-align: middle;\n",
       "    }\n",
       "\n",
       "    .dataframe tbody tr th {\n",
       "        vertical-align: top;\n",
       "    }\n",
       "\n",
       "    .dataframe thead th {\n",
       "        text-align: right;\n",
       "    }\n",
       "</style>\n",
       "<table border=\"1\" class=\"dataframe\">\n",
       "  <thead>\n",
       "    <tr style=\"text-align: right;\">\n",
       "      <th></th>\n",
       "      <th>Category</th>\n",
       "      <th>Rating</th>\n",
       "      <th>Rating Count</th>\n",
       "      <th>Maximum Installs</th>\n",
       "      <th>Free</th>\n",
       "      <th>Price</th>\n",
       "      <th>Size</th>\n",
       "      <th>Content Rating</th>\n",
       "      <th>Ad Supported</th>\n",
       "      <th>In App Purchases</th>\n",
       "      <th>Editors Choice</th>\n",
       "    </tr>\n",
       "  </thead>\n",
       "  <tbody>\n",
       "    <tr>\n",
       "      <th>0</th>\n",
       "      <td>Adventure</td>\n",
       "      <td>0.0</td>\n",
       "      <td>0.0</td>\n",
       "      <td>15</td>\n",
       "      <td>True</td>\n",
       "      <td>0.0</td>\n",
       "      <td>10.0</td>\n",
       "      <td>Everyone</td>\n",
       "      <td>False</td>\n",
       "      <td>False</td>\n",
       "      <td>False</td>\n",
       "    </tr>\n",
       "    <tr>\n",
       "      <th>1</th>\n",
       "      <td>Tools</td>\n",
       "      <td>4.4</td>\n",
       "      <td>64.0</td>\n",
       "      <td>7662</td>\n",
       "      <td>True</td>\n",
       "      <td>0.0</td>\n",
       "      <td>2.0</td>\n",
       "      <td>Everyone</td>\n",
       "      <td>True</td>\n",
       "      <td>False</td>\n",
       "      <td>False</td>\n",
       "    </tr>\n",
       "    <tr>\n",
       "      <th>2</th>\n",
       "      <td>Productivity</td>\n",
       "      <td>0.0</td>\n",
       "      <td>0.0</td>\n",
       "      <td>58</td>\n",
       "      <td>True</td>\n",
       "      <td>0.0</td>\n",
       "      <td>3.0</td>\n",
       "      <td>Everyone</td>\n",
       "      <td>False</td>\n",
       "      <td>False</td>\n",
       "      <td>False</td>\n",
       "    </tr>\n",
       "    <tr>\n",
       "      <th>3</th>\n",
       "      <td>Communication</td>\n",
       "      <td>5.0</td>\n",
       "      <td>5.0</td>\n",
       "      <td>19</td>\n",
       "      <td>True</td>\n",
       "      <td>0.0</td>\n",
       "      <td>1.0</td>\n",
       "      <td>Everyone</td>\n",
       "      <td>True</td>\n",
       "      <td>False</td>\n",
       "      <td>False</td>\n",
       "    </tr>\n",
       "    <tr>\n",
       "      <th>4</th>\n",
       "      <td>Tools</td>\n",
       "      <td>0.0</td>\n",
       "      <td>0.0</td>\n",
       "      <td>478</td>\n",
       "      <td>True</td>\n",
       "      <td>0.0</td>\n",
       "      <td>6.0</td>\n",
       "      <td>Everyone</td>\n",
       "      <td>False</td>\n",
       "      <td>False</td>\n",
       "      <td>False</td>\n",
       "    </tr>\n",
       "  </tbody>\n",
       "</table>\n",
       "</div>"
      ],
      "text/plain": [
       "        Category  Rating  Rating Count  Maximum Installs  Free  Price  Size  \\\n",
       "0      Adventure     0.0           0.0                15  True    0.0  10.0   \n",
       "1          Tools     4.4          64.0              7662  True    0.0   2.0   \n",
       "2   Productivity     0.0           0.0                58  True    0.0   3.0   \n",
       "3  Communication     5.0           5.0                19  True    0.0   1.0   \n",
       "4          Tools     0.0           0.0               478  True    0.0   6.0   \n",
       "\n",
       "  Content Rating  Ad Supported  In App Purchases  Editors Choice  \n",
       "0       Everyone         False             False           False  \n",
       "1       Everyone          True             False           False  \n",
       "2       Everyone         False             False           False  \n",
       "3       Everyone          True             False           False  \n",
       "4       Everyone         False             False           False  "
      ]
     },
     "execution_count": 23,
     "metadata": {},
     "output_type": "execute_result"
    }
   ],
   "source": [
    "# After standardizing all currency to USD, we can remove the Currency column\n",
    "data=data.drop(\"Currency\", axis = 1)\n",
    "data.head()"
   ]
  },
  {
   "cell_type": "markdown",
   "metadata": {},
   "source": [
    "If an app is free, the price is 0. If it is not free, the price column will be some non-zero number. Therefore, there can be some correlation between these two features since we can get some information for one variable from the other. Thus, we should remove \"Free\" since it provides less information about the price."
   ]
  },
  {
   "cell_type": "code",
   "execution_count": 24,
   "metadata": {},
   "outputs": [
    {
     "data": {
      "text/html": [
       "<div>\n",
       "<style scoped>\n",
       "    .dataframe tbody tr th:only-of-type {\n",
       "        vertical-align: middle;\n",
       "    }\n",
       "\n",
       "    .dataframe tbody tr th {\n",
       "        vertical-align: top;\n",
       "    }\n",
       "\n",
       "    .dataframe thead th {\n",
       "        text-align: right;\n",
       "    }\n",
       "</style>\n",
       "<table border=\"1\" class=\"dataframe\">\n",
       "  <thead>\n",
       "    <tr style=\"text-align: right;\">\n",
       "      <th></th>\n",
       "      <th>Category</th>\n",
       "      <th>Rating</th>\n",
       "      <th>Rating Count</th>\n",
       "      <th>Maximum Installs</th>\n",
       "      <th>Price</th>\n",
       "      <th>Size</th>\n",
       "      <th>Content Rating</th>\n",
       "      <th>Ad Supported</th>\n",
       "      <th>In App Purchases</th>\n",
       "      <th>Editors Choice</th>\n",
       "    </tr>\n",
       "  </thead>\n",
       "  <tbody>\n",
       "    <tr>\n",
       "      <th>0</th>\n",
       "      <td>Adventure</td>\n",
       "      <td>0.0</td>\n",
       "      <td>0.0</td>\n",
       "      <td>15</td>\n",
       "      <td>0.0</td>\n",
       "      <td>10.0</td>\n",
       "      <td>Everyone</td>\n",
       "      <td>False</td>\n",
       "      <td>False</td>\n",
       "      <td>False</td>\n",
       "    </tr>\n",
       "    <tr>\n",
       "      <th>1</th>\n",
       "      <td>Tools</td>\n",
       "      <td>4.4</td>\n",
       "      <td>64.0</td>\n",
       "      <td>7662</td>\n",
       "      <td>0.0</td>\n",
       "      <td>2.0</td>\n",
       "      <td>Everyone</td>\n",
       "      <td>True</td>\n",
       "      <td>False</td>\n",
       "      <td>False</td>\n",
       "    </tr>\n",
       "    <tr>\n",
       "      <th>2</th>\n",
       "      <td>Productivity</td>\n",
       "      <td>0.0</td>\n",
       "      <td>0.0</td>\n",
       "      <td>58</td>\n",
       "      <td>0.0</td>\n",
       "      <td>3.0</td>\n",
       "      <td>Everyone</td>\n",
       "      <td>False</td>\n",
       "      <td>False</td>\n",
       "      <td>False</td>\n",
       "    </tr>\n",
       "    <tr>\n",
       "      <th>3</th>\n",
       "      <td>Communication</td>\n",
       "      <td>5.0</td>\n",
       "      <td>5.0</td>\n",
       "      <td>19</td>\n",
       "      <td>0.0</td>\n",
       "      <td>1.0</td>\n",
       "      <td>Everyone</td>\n",
       "      <td>True</td>\n",
       "      <td>False</td>\n",
       "      <td>False</td>\n",
       "    </tr>\n",
       "    <tr>\n",
       "      <th>4</th>\n",
       "      <td>Tools</td>\n",
       "      <td>0.0</td>\n",
       "      <td>0.0</td>\n",
       "      <td>478</td>\n",
       "      <td>0.0</td>\n",
       "      <td>6.0</td>\n",
       "      <td>Everyone</td>\n",
       "      <td>False</td>\n",
       "      <td>False</td>\n",
       "      <td>False</td>\n",
       "    </tr>\n",
       "  </tbody>\n",
       "</table>\n",
       "</div>"
      ],
      "text/plain": [
       "        Category  Rating  Rating Count  Maximum Installs  Price  Size  \\\n",
       "0      Adventure     0.0           0.0                15    0.0  10.0   \n",
       "1          Tools     4.4          64.0              7662    0.0   2.0   \n",
       "2   Productivity     0.0           0.0                58    0.0   3.0   \n",
       "3  Communication     5.0           5.0                19    0.0   1.0   \n",
       "4          Tools     0.0           0.0               478    0.0   6.0   \n",
       "\n",
       "  Content Rating  Ad Supported  In App Purchases  Editors Choice  \n",
       "0       Everyone         False             False           False  \n",
       "1       Everyone          True             False           False  \n",
       "2       Everyone         False             False           False  \n",
       "3       Everyone          True             False           False  \n",
       "4       Everyone         False             False           False  "
      ]
     },
     "execution_count": 24,
     "metadata": {},
     "output_type": "execute_result"
    }
   ],
   "source": [
    "data=data.drop(\"Free\", axis = 1)\n",
    "data.head()"
   ]
  },
  {
   "cell_type": "markdown",
   "metadata": {},
   "source": [
    "Then, we can run a correlation matrix:"
   ]
  },
  {
   "cell_type": "code",
   "execution_count": 25,
   "metadata": {},
   "outputs": [
    {
     "data": {
      "text/plain": [
       "<AxesSubplot:>"
      ]
     },
     "execution_count": 25,
     "metadata": {},
     "output_type": "execute_result"
    },
    {
     "data": {
      "image/png": "[encoded data removed]",
      "text/plain": [
       "<Figure size 432x288 with 2 Axes>"
      ]
     },
     "metadata": {
      "needs_background": "light"
     },
     "output_type": "display_data"
    }
   ],
   "source": [
    "corr_matrix = data.corr()\n",
    "import seaborn as sns\n",
    "sns.heatmap(corr_matrix, linewidths=.5,square=True)"
   ]
  },
  {
   "cell_type": "markdown",
   "metadata": {},
   "source": [
    "There are some correlations between Maximum Installs and Rating Count, which makes sense: an app is likely to have more ratings if it was installed frequently. We can remove either. We remove Rating Count since it likely tells us information about Maximum Installs."
   ]
  },
  {
   "cell_type": "code",
   "execution_count": 26,
   "metadata": {},
   "outputs": [],
   "source": [
    "# data_w_rating_ct=data\n",
    "# data_w_rating_ct.head()"
   ]
  },
  {
   "cell_type": "code",
   "execution_count": 27,
   "metadata": {},
   "outputs": [],
   "source": [
    "data = data.drop([\"Rating Count\"], axis = 1)"
   ]
  },
  {
   "cell_type": "code",
   "execution_count": 28,
   "metadata": {},
   "outputs": [
    {
     "data": {
      "text/plain": [
       "<AxesSubplot:>"
      ]
     },
     "execution_count": 28,
     "metadata": {},
     "output_type": "execute_result"
    },
    {
     "data": {
      "image/png": "[encoded data removed]",
      "text/plain": [
       "<Figure size 576x432 with 1 Axes>"
      ]
     },
     "metadata": {
      "needs_background": "light"
     },
     "output_type": "display_data"
    }
   ],
   "source": [
    "data[\"Rating\"].hist(bins = 20, figsize=(8,6))"
   ]
  },
  {
   "cell_type": "code",
   "execution_count": 29,
   "metadata": {
    "scrolled": true
   },
   "outputs": [
    {
     "data": {
      "text/plain": [
       "<AxesSubplot:>"
      ]
     },
     "execution_count": 29,
     "metadata": {},
     "output_type": "execute_result"
    },
    {
     "data": {
      "image/png": "[encoded data removed]",
      "text/plain": [
       "<Figure size 576x432 with 1 Axes>"
      ]
     },
     "metadata": {
      "needs_background": "light"
     },
     "output_type": "display_data"
    }
   ],
   "source": [
    "data[\"Price\"].hist(bins = 20, figsize=(8,6))"
   ]
  },
  {
   "cell_type": "markdown",
   "metadata": {},
   "source": [
    "For most apps, there are no ratings and are free, which correspond to the real world case. Other than a few popular apps, other apps have significantly fewer users and therefore ratings."
   ]
  },
  {
   "cell_type": "code",
   "execution_count": 30,
   "metadata": {},
   "outputs": [
    {
     "data": {
      "text/plain": [
       "False    1162170\n",
       "True     1150774\n",
       "Name: Ad Supported, dtype: int64"
      ]
     },
     "execution_count": 30,
     "metadata": {},
     "output_type": "execute_result"
    }
   ],
   "source": [
    "data['Ad Supported'].value_counts(dropna=False)"
   ]
  },
  {
   "cell_type": "code",
   "execution_count": 31,
   "metadata": {},
   "outputs": [
    {
     "data": {
      "text/plain": [
       "False    2117635\n",
       "True      195309\n",
       "Name: In App Purchases, dtype: int64"
      ]
     },
     "execution_count": 31,
     "metadata": {},
     "output_type": "execute_result"
    }
   ],
   "source": [
    "data['In App Purchases'].value_counts(dropna=False)"
   ]
  },
  {
   "cell_type": "code",
   "execution_count": 32,
   "metadata": {},
   "outputs": [
    {
     "data": {
      "text/plain": [
       "False    2312091\n",
       "True         853\n",
       "Name: Editors Choice, dtype: int64"
      ]
     },
     "execution_count": 32,
     "metadata": {},
     "output_type": "execute_result"
    }
   ],
   "source": [
    "data['Editors Choice'].value_counts(dropna=False)"
   ]
  },
  {
   "cell_type": "markdown",
   "metadata": {},
   "source": [
    "There are some class imbalances for App Purchases and Editors Choice. However, we shouldn't artificially balance them since this reflects their distribution in the real world: there are significant but comparatively fewer apps that support in app purchases then those who don't. Many apps are developed by startups or individuals who haven't supported these functions yet or are still in the process of attracting user base, so their apps are free. Similarly, only a few top apps are awarded Editors Choice."
   ]
  },
  {
   "cell_type": "code",
   "execution_count": 33,
   "metadata": {},
   "outputs": [
    {
     "data": {
      "text/html": [
       "<div>\n",
       "<style scoped>\n",
       "    .dataframe tbody tr th:only-of-type {\n",
       "        vertical-align: middle;\n",
       "    }\n",
       "\n",
       "    .dataframe tbody tr th {\n",
       "        vertical-align: top;\n",
       "    }\n",
       "\n",
       "    .dataframe thead th {\n",
       "        text-align: right;\n",
       "    }\n",
       "</style>\n",
       "<table border=\"1\" class=\"dataframe\">\n",
       "  <thead>\n",
       "    <tr style=\"text-align: right;\">\n",
       "      <th></th>\n",
       "      <th>Category</th>\n",
       "      <th>Rating</th>\n",
       "      <th>Maximum Installs</th>\n",
       "      <th>Price</th>\n",
       "      <th>Size</th>\n",
       "      <th>Content Rating</th>\n",
       "      <th>Ad Supported</th>\n",
       "      <th>In App Purchases</th>\n",
       "      <th>Editors Choice</th>\n",
       "    </tr>\n",
       "  </thead>\n",
       "  <tbody>\n",
       "    <tr>\n",
       "      <th>0</th>\n",
       "      <td>Adventure</td>\n",
       "      <td>0.0</td>\n",
       "      <td>15</td>\n",
       "      <td>0.0</td>\n",
       "      <td>10.0</td>\n",
       "      <td>Everyone</td>\n",
       "      <td>False</td>\n",
       "      <td>False</td>\n",
       "      <td>False</td>\n",
       "    </tr>\n",
       "    <tr>\n",
       "      <th>1</th>\n",
       "      <td>Tools</td>\n",
       "      <td>4.4</td>\n",
       "      <td>7662</td>\n",
       "      <td>0.0</td>\n",
       "      <td>2.0</td>\n",
       "      <td>Everyone</td>\n",
       "      <td>True</td>\n",
       "      <td>False</td>\n",
       "      <td>False</td>\n",
       "    </tr>\n",
       "    <tr>\n",
       "      <th>2</th>\n",
       "      <td>Productivity</td>\n",
       "      <td>0.0</td>\n",
       "      <td>58</td>\n",
       "      <td>0.0</td>\n",
       "      <td>3.0</td>\n",
       "      <td>Everyone</td>\n",
       "      <td>False</td>\n",
       "      <td>False</td>\n",
       "      <td>False</td>\n",
       "    </tr>\n",
       "    <tr>\n",
       "      <th>3</th>\n",
       "      <td>Communication</td>\n",
       "      <td>5.0</td>\n",
       "      <td>19</td>\n",
       "      <td>0.0</td>\n",
       "      <td>1.0</td>\n",
       "      <td>Everyone</td>\n",
       "      <td>True</td>\n",
       "      <td>False</td>\n",
       "      <td>False</td>\n",
       "    </tr>\n",
       "    <tr>\n",
       "      <th>4</th>\n",
       "      <td>Tools</td>\n",
       "      <td>0.0</td>\n",
       "      <td>478</td>\n",
       "      <td>0.0</td>\n",
       "      <td>6.0</td>\n",
       "      <td>Everyone</td>\n",
       "      <td>False</td>\n",
       "      <td>False</td>\n",
       "      <td>False</td>\n",
       "    </tr>\n",
       "  </tbody>\n",
       "</table>\n",
       "</div>"
      ],
      "text/plain": [
       "        Category  Rating  Maximum Installs  Price  Size Content Rating  \\\n",
       "0      Adventure     0.0                15    0.0  10.0       Everyone   \n",
       "1          Tools     4.4              7662    0.0   2.0       Everyone   \n",
       "2   Productivity     0.0                58    0.0   3.0       Everyone   \n",
       "3  Communication     5.0                19    0.0   1.0       Everyone   \n",
       "4          Tools     0.0               478    0.0   6.0       Everyone   \n",
       "\n",
       "   Ad Supported  In App Purchases  Editors Choice  \n",
       "0         False             False           False  \n",
       "1          True             False           False  \n",
       "2         False             False           False  \n",
       "3          True             False           False  \n",
       "4         False             False           False  "
      ]
     },
     "execution_count": 33,
     "metadata": {},
     "output_type": "execute_result"
    }
   ],
   "source": [
    "data.head()"
   ]
  },
  {
   "cell_type": "markdown",
   "metadata": {},
   "source": [
    "We first predict the number of installs from other features. Thus, we should drop rating because it will be a response variable we are predicting next."
   ]
  },
  {
   "cell_type": "code",
   "execution_count": 34,
   "metadata": {},
   "outputs": [
    {
     "data": {
      "text/html": [
       "<div>\n",
       "<style scoped>\n",
       "    .dataframe tbody tr th:only-of-type {\n",
       "        vertical-align: middle;\n",
       "    }\n",
       "\n",
       "    .dataframe tbody tr th {\n",
       "        vertical-align: top;\n",
       "    }\n",
       "\n",
       "    .dataframe thead th {\n",
       "        text-align: right;\n",
       "    }\n",
       "</style>\n",
       "<table border=\"1\" class=\"dataframe\">\n",
       "  <thead>\n",
       "    <tr style=\"text-align: right;\">\n",
       "      <th></th>\n",
       "      <th>Category</th>\n",
       "      <th>Price</th>\n",
       "      <th>Size</th>\n",
       "      <th>Content Rating</th>\n",
       "      <th>Ad Supported</th>\n",
       "      <th>In App Purchases</th>\n",
       "      <th>Editors Choice</th>\n",
       "    </tr>\n",
       "  </thead>\n",
       "  <tbody>\n",
       "    <tr>\n",
       "      <th>0</th>\n",
       "      <td>Adventure</td>\n",
       "      <td>0.0</td>\n",
       "      <td>10.0</td>\n",
       "      <td>Everyone</td>\n",
       "      <td>False</td>\n",
       "      <td>False</td>\n",
       "      <td>False</td>\n",
       "    </tr>\n",
       "    <tr>\n",
       "      <th>1</th>\n",
       "      <td>Tools</td>\n",
       "      <td>0.0</td>\n",
       "      <td>2.0</td>\n",
       "      <td>Everyone</td>\n",
       "      <td>True</td>\n",
       "      <td>False</td>\n",
       "      <td>False</td>\n",
       "    </tr>\n",
       "    <tr>\n",
       "      <th>2</th>\n",
       "      <td>Productivity</td>\n",
       "      <td>0.0</td>\n",
       "      <td>3.0</td>\n",
       "      <td>Everyone</td>\n",
       "      <td>False</td>\n",
       "      <td>False</td>\n",
       "      <td>False</td>\n",
       "    </tr>\n",
       "    <tr>\n",
       "      <th>3</th>\n",
       "      <td>Communication</td>\n",
       "      <td>0.0</td>\n",
       "      <td>1.0</td>\n",
       "      <td>Everyone</td>\n",
       "      <td>True</td>\n",
       "      <td>False</td>\n",
       "      <td>False</td>\n",
       "    </tr>\n",
       "    <tr>\n",
       "      <th>4</th>\n",
       "      <td>Tools</td>\n",
       "      <td>0.0</td>\n",
       "      <td>6.0</td>\n",
       "      <td>Everyone</td>\n",
       "      <td>False</td>\n",
       "      <td>False</td>\n",
       "      <td>False</td>\n",
       "    </tr>\n",
       "  </tbody>\n",
       "</table>\n",
       "</div>"
      ],
      "text/plain": [
       "        Category  Price  Size Content Rating  Ad Supported  In App Purchases  \\\n",
       "0      Adventure    0.0  10.0       Everyone         False             False   \n",
       "1          Tools    0.0   2.0       Everyone          True             False   \n",
       "2   Productivity    0.0   3.0       Everyone         False             False   \n",
       "3  Communication    0.0   1.0       Everyone          True             False   \n",
       "4          Tools    0.0   6.0       Everyone         False             False   \n",
       "\n",
       "   Editors Choice  \n",
       "0           False  \n",
       "1           False  \n",
       "2           False  \n",
       "3           False  \n",
       "4           False  "
      ]
     },
     "execution_count": 34,
     "metadata": {},
     "output_type": "execute_result"
    }
   ],
   "source": [
    "y=data[\"Maximum Installs\"]\n",
    "x=data.drop([\"Maximum Installs\",\"Rating\"], axis=1)\n",
    "x.head()"
   ]
  },
  {
   "cell_type": "code",
   "execution_count": 35,
   "metadata": {},
   "outputs": [
    {
     "data": {
      "text/plain": [
       "Everyone           2022089\n",
       "Teen                196375\n",
       "Mature 17+           60289\n",
       "Everyone 10+         33901\n",
       "Unrated                154\n",
       "Adults only 18+        136\n",
       "Name: Content Rating, dtype: int64"
      ]
     },
     "execution_count": 35,
     "metadata": {},
     "output_type": "execute_result"
    }
   ],
   "source": [
    "x[\"Content Rating\"].value_counts(dropna=False)"
   ]
  },
  {
   "cell_type": "markdown",
   "metadata": {},
   "source": [
    "Encode categorical features and scale numerical features:"
   ]
  },
  {
   "cell_type": "code",
   "execution_count": 36,
   "metadata": {},
   "outputs": [],
   "source": [
    "cat_feature = [\"Category\", \"Content Rating\"]\n",
    "binary_feature = [\"Ad Supported\", \"In App Purchases\", \"Editors Choice\"]\n",
    "num_feature = [\"Price\", \"Size\"]\n",
    "\n",
    "\n",
    "le = preprocessing.LabelEncoder()"
   ]
  },
  {
   "cell_type": "code",
   "execution_count": 37,
   "metadata": {},
   "outputs": [
    {
     "data": {
      "text/html": [
       "<div>\n",
       "<style scoped>\n",
       "    .dataframe tbody tr th:only-of-type {\n",
       "        vertical-align: middle;\n",
       "    }\n",
       "\n",
       "    .dataframe tbody tr th {\n",
       "        vertical-align: top;\n",
       "    }\n",
       "\n",
       "    .dataframe thead th {\n",
       "        text-align: right;\n",
       "    }\n",
       "</style>\n",
       "<table border=\"1\" class=\"dataframe\">\n",
       "  <thead>\n",
       "    <tr style=\"text-align: right;\">\n",
       "      <th></th>\n",
       "      <th>Category</th>\n",
       "      <th>Price</th>\n",
       "      <th>Size</th>\n",
       "      <th>Content Rating</th>\n",
       "      <th>Ad Supported</th>\n",
       "      <th>In App Purchases</th>\n",
       "      <th>Editors Choice</th>\n",
       "    </tr>\n",
       "  </thead>\n",
       "  <tbody>\n",
       "    <tr>\n",
       "      <th>0</th>\n",
       "      <td>Adventure</td>\n",
       "      <td>0.0</td>\n",
       "      <td>10.0</td>\n",
       "      <td>Everyone</td>\n",
       "      <td>0</td>\n",
       "      <td>0</td>\n",
       "      <td>0</td>\n",
       "    </tr>\n",
       "    <tr>\n",
       "      <th>1</th>\n",
       "      <td>Tools</td>\n",
       "      <td>0.0</td>\n",
       "      <td>2.0</td>\n",
       "      <td>Everyone</td>\n",
       "      <td>1</td>\n",
       "      <td>0</td>\n",
       "      <td>0</td>\n",
       "    </tr>\n",
       "    <tr>\n",
       "      <th>2</th>\n",
       "      <td>Productivity</td>\n",
       "      <td>0.0</td>\n",
       "      <td>3.0</td>\n",
       "      <td>Everyone</td>\n",
       "      <td>0</td>\n",
       "      <td>0</td>\n",
       "      <td>0</td>\n",
       "    </tr>\n",
       "    <tr>\n",
       "      <th>3</th>\n",
       "      <td>Communication</td>\n",
       "      <td>0.0</td>\n",
       "      <td>1.0</td>\n",
       "      <td>Everyone</td>\n",
       "      <td>1</td>\n",
       "      <td>0</td>\n",
       "      <td>0</td>\n",
       "    </tr>\n",
       "    <tr>\n",
       "      <th>4</th>\n",
       "      <td>Tools</td>\n",
       "      <td>0.0</td>\n",
       "      <td>6.0</td>\n",
       "      <td>Everyone</td>\n",
       "      <td>0</td>\n",
       "      <td>0</td>\n",
       "      <td>0</td>\n",
       "    </tr>\n",
       "  </tbody>\n",
       "</table>\n",
       "</div>"
      ],
      "text/plain": [
       "        Category  Price  Size Content Rating  Ad Supported  In App Purchases  \\\n",
       "0      Adventure    0.0  10.0       Everyone             0                 0   \n",
       "1          Tools    0.0   2.0       Everyone             1                 0   \n",
       "2   Productivity    0.0   3.0       Everyone             0                 0   \n",
       "3  Communication    0.0   1.0       Everyone             1                 0   \n",
       "4          Tools    0.0   6.0       Everyone             0                 0   \n",
       "\n",
       "   Editors Choice  \n",
       "0               0  \n",
       "1               0  \n",
       "2               0  \n",
       "3               0  \n",
       "4               0  "
      ]
     },
     "execution_count": 37,
     "metadata": {},
     "output_type": "execute_result"
    }
   ],
   "source": [
    "for i in binary_feature:\n",
    "    x[i] = le.fit_transform(x[i])\n",
    "x.head()"
   ]
  },
  {
   "cell_type": "code",
   "execution_count": 38,
   "metadata": {},
   "outputs": [
    {
     "data": {
      "text/plain": [
       "<2312944x56 sparse matrix of type '<class 'numpy.float64'>'\n",
       "\twith 9251776 stored elements in Compressed Sparse Row format>"
      ]
     },
     "execution_count": 38,
     "metadata": {},
     "output_type": "execute_result"
    }
   ],
   "source": [
    "# now, we use a data pipeline to integrate the labeling and scaling of categorical and numerical features,\n",
    "# which are rather non-trivial tasks\n",
    "from sklearn.pipeline import Pipeline\n",
    "from sklearn.compose import ColumnTransformer, make_column_transformer\n",
    "\n",
    "num_pipeline = Pipeline([\n",
    "        ('std_scaler', StandardScaler())\n",
    "    ])\n",
    "full_pipeline = ColumnTransformer([\n",
    "        (\"num\", num_pipeline, num_feature),\n",
    "        (\"cat\", OneHotEncoder(), cat_feature), \n",
    "    #OneHot encodes whether something is present or not\n",
    "    ])\n",
    "# x[num_feature] = num_pipeline.fit_transform(x[num_feature])\n",
    "x = full_pipeline.fit_transform(x)\n",
    "x"
   ]
  },
  {
   "cell_type": "code",
   "execution_count": 39,
   "metadata": {
    "executionInfo": {
     "elapsed": 821,
     "status": "ok",
     "timestamp": 1685320396997,
     "user": {
      "displayName": "Yongjia Huang",
      "userId": "07545929400309942195"
     },
     "user_tz": 420
    },
    "id": "luXdREBIlI-7"
   },
   "outputs": [],
   "source": [
    "train_x, test_x, train_y, test_y = train_test_split(x,y,test_size = 0.2, random_state = 0)"
   ]
  },
  {
   "cell_type": "code",
   "execution_count": 40,
   "metadata": {},
   "outputs": [
    {
     "data": {
      "text/plain": [
       "<1850355x56 sparse matrix of type '<class 'numpy.float64'>'\n",
       "\twith 7401420 stored elements in Compressed Sparse Row format>"
      ]
     },
     "execution_count": 40,
     "metadata": {},
     "output_type": "execute_result"
    }
   ],
   "source": [
    "train_x"
   ]
  },
  {
   "cell_type": "markdown",
   "metadata": {
    "id": "m4KreAPNozxJ"
   },
   "source": [
    "## Decision Tree for Maximum Install"
   ]
  },
  {
   "cell_type": "code",
   "execution_count": 41,
   "metadata": {},
   "outputs": [],
   "source": [
    "# use pca to reduce the dimension and speed up training\n",
    "from sklearn import decomposition\n",
    "pca = decomposition.PCA(n_components=6)\n",
    "#toarray() to resolve pca not supporting sparse data\n",
    "train_x = pca.fit_transform(train_x.toarray()) "
   ]
  },
  {
   "cell_type": "code",
   "execution_count": 42,
   "metadata": {},
   "outputs": [],
   "source": [
    "test_x = pca.transform(test_x.toarray())"
   ]
  },
  {
   "cell_type": "code",
   "execution_count": 43,
   "metadata": {},
   "outputs": [],
   "source": [
    "clf = DecisionTreeRegressor()\n",
    "clf.fit(train_x, train_y)\n",
    "predicted = clf.predict(test_x)"
   ]
  },
  {
   "cell_type": "code",
   "execution_count": 44,
   "metadata": {
    "colab": {
     "base_uri": "https://localhost:8080/"
    },
    "executionInfo": {
     "elapsed": 13197,
     "status": "ok",
     "timestamp": 1685320410425,
     "user": {
      "displayName": "Yongjia Huang",
      "userId": "07545929400309942195"
     },
     "user_tz": 420
    },
    "id": "DyifNOALlN3X",
    "outputId": "90337fac-1411-4382-f06e-bed2f415c947"
   },
   "outputs": [
    {
     "name": "stdout",
     "output_type": "stream",
     "text": [
      "R-squared:  0.017849842310248776\n",
      "mse is:  287285756300807.94\n"
     ]
    }
   ],
   "source": [
    "score = clf.score(train_x,train_y)\n",
    "print(\"R-squared: \", score)\n",
    "mse = mean_squared_error(test_y, predicted)\n",
    "print(\"mse is: \", mse) # with one hot encoding, mean squared error is pretty high, but lower than label encoding"
   ]
  },
  {
   "cell_type": "markdown",
   "metadata": {},
   "source": [
    "We see that predicting installs lead to a really high MSE - this is because it's hard to predict a install number precisely for all of the 2300000+ data. We then try using data without dropping Rating Count:"
   ]
  },
  {
   "cell_type": "code",
   "execution_count": 51,
   "metadata": {
    "scrolled": true
   },
   "outputs": [
    {
     "data": {
      "text/html": [
       "<div>\n",
       "<style scoped>\n",
       "    .dataframe tbody tr th:only-of-type {\n",
       "        vertical-align: middle;\n",
       "    }\n",
       "\n",
       "    .dataframe tbody tr th {\n",
       "        vertical-align: top;\n",
       "    }\n",
       "\n",
       "    .dataframe thead th {\n",
       "        text-align: right;\n",
       "    }\n",
       "</style>\n",
       "<table border=\"1\" class=\"dataframe\">\n",
       "  <thead>\n",
       "    <tr style=\"text-align: right;\">\n",
       "      <th></th>\n",
       "      <th>Category</th>\n",
       "      <th>Rating Count</th>\n",
       "      <th>Price</th>\n",
       "      <th>Size</th>\n",
       "      <th>Content Rating</th>\n",
       "      <th>Ad Supported</th>\n",
       "      <th>In App Purchases</th>\n",
       "      <th>Editors Choice</th>\n",
       "    </tr>\n",
       "  </thead>\n",
       "  <tbody>\n",
       "    <tr>\n",
       "      <th>0</th>\n",
       "      <td>Adventure</td>\n",
       "      <td>0.0</td>\n",
       "      <td>0.0</td>\n",
       "      <td>10.0</td>\n",
       "      <td>Everyone</td>\n",
       "      <td>False</td>\n",
       "      <td>False</td>\n",
       "      <td>False</td>\n",
       "    </tr>\n",
       "    <tr>\n",
       "      <th>1</th>\n",
       "      <td>Tools</td>\n",
       "      <td>64.0</td>\n",
       "      <td>0.0</td>\n",
       "      <td>2.0</td>\n",
       "      <td>Everyone</td>\n",
       "      <td>True</td>\n",
       "      <td>False</td>\n",
       "      <td>False</td>\n",
       "    </tr>\n",
       "    <tr>\n",
       "      <th>2</th>\n",
       "      <td>Productivity</td>\n",
       "      <td>0.0</td>\n",
       "      <td>0.0</td>\n",
       "      <td>3.0</td>\n",
       "      <td>Everyone</td>\n",
       "      <td>False</td>\n",
       "      <td>False</td>\n",
       "      <td>False</td>\n",
       "    </tr>\n",
       "    <tr>\n",
       "      <th>3</th>\n",
       "      <td>Communication</td>\n",
       "      <td>5.0</td>\n",
       "      <td>0.0</td>\n",
       "      <td>1.0</td>\n",
       "      <td>Everyone</td>\n",
       "      <td>True</td>\n",
       "      <td>False</td>\n",
       "      <td>False</td>\n",
       "    </tr>\n",
       "    <tr>\n",
       "      <th>4</th>\n",
       "      <td>Tools</td>\n",
       "      <td>0.0</td>\n",
       "      <td>0.0</td>\n",
       "      <td>6.0</td>\n",
       "      <td>Everyone</td>\n",
       "      <td>False</td>\n",
       "      <td>False</td>\n",
       "      <td>False</td>\n",
       "    </tr>\n",
       "  </tbody>\n",
       "</table>\n",
       "</div>"
      ],
      "text/plain": [
       "        Category  Rating Count  Price  Size Content Rating  Ad Supported  \\\n",
       "0      Adventure           0.0    0.0  10.0       Everyone         False   \n",
       "1          Tools          64.0    0.0   2.0       Everyone          True   \n",
       "2   Productivity           0.0    0.0   3.0       Everyone         False   \n",
       "3  Communication           5.0    0.0   1.0       Everyone          True   \n",
       "4          Tools           0.0    0.0   6.0       Everyone         False   \n",
       "\n",
       "   In App Purchases  Editors Choice  \n",
       "0             False           False  \n",
       "1             False           False  \n",
       "2             False           False  \n",
       "3             False           False  \n",
       "4             False           False  "
      ]
     },
     "execution_count": 51,
     "metadata": {},
     "output_type": "execute_result"
    }
   ],
   "source": [
    "# y=data_w_rating_ct[\"Maximum Installs\"]\n",
    "# x=data_w_rating_ct.drop([\"Maximum Installs\",\"Rating\"], axis=1)\n",
    "# x.head()"
   ]
  },
  {
   "cell_type": "code",
   "execution_count": 52,
   "metadata": {},
   "outputs": [
    {
     "data": {
      "text/html": [
       "<div>\n",
       "<style scoped>\n",
       "    .dataframe tbody tr th:only-of-type {\n",
       "        vertical-align: middle;\n",
       "    }\n",
       "\n",
       "    .dataframe tbody tr th {\n",
       "        vertical-align: top;\n",
       "    }\n",
       "\n",
       "    .dataframe thead th {\n",
       "        text-align: right;\n",
       "    }\n",
       "</style>\n",
       "<table border=\"1\" class=\"dataframe\">\n",
       "  <thead>\n",
       "    <tr style=\"text-align: right;\">\n",
       "      <th></th>\n",
       "      <th>Category</th>\n",
       "      <th>Rating Count</th>\n",
       "      <th>Price</th>\n",
       "      <th>Size</th>\n",
       "      <th>Content Rating</th>\n",
       "      <th>Ad Supported</th>\n",
       "      <th>In App Purchases</th>\n",
       "      <th>Editors Choice</th>\n",
       "    </tr>\n",
       "  </thead>\n",
       "  <tbody>\n",
       "    <tr>\n",
       "      <th>0</th>\n",
       "      <td>Adventure</td>\n",
       "      <td>0.0</td>\n",
       "      <td>0.0</td>\n",
       "      <td>10.0</td>\n",
       "      <td>Everyone</td>\n",
       "      <td>0</td>\n",
       "      <td>0</td>\n",
       "      <td>0</td>\n",
       "    </tr>\n",
       "    <tr>\n",
       "      <th>1</th>\n",
       "      <td>Tools</td>\n",
       "      <td>64.0</td>\n",
       "      <td>0.0</td>\n",
       "      <td>2.0</td>\n",
       "      <td>Everyone</td>\n",
       "      <td>1</td>\n",
       "      <td>0</td>\n",
       "      <td>0</td>\n",
       "    </tr>\n",
       "    <tr>\n",
       "      <th>2</th>\n",
       "      <td>Productivity</td>\n",
       "      <td>0.0</td>\n",
       "      <td>0.0</td>\n",
       "      <td>3.0</td>\n",
       "      <td>Everyone</td>\n",
       "      <td>0</td>\n",
       "      <td>0</td>\n",
       "      <td>0</td>\n",
       "    </tr>\n",
       "    <tr>\n",
       "      <th>3</th>\n",
       "      <td>Communication</td>\n",
       "      <td>5.0</td>\n",
       "      <td>0.0</td>\n",
       "      <td>1.0</td>\n",
       "      <td>Everyone</td>\n",
       "      <td>1</td>\n",
       "      <td>0</td>\n",
       "      <td>0</td>\n",
       "    </tr>\n",
       "    <tr>\n",
       "      <th>4</th>\n",
       "      <td>Tools</td>\n",
       "      <td>0.0</td>\n",
       "      <td>0.0</td>\n",
       "      <td>6.0</td>\n",
       "      <td>Everyone</td>\n",
       "      <td>0</td>\n",
       "      <td>0</td>\n",
       "      <td>0</td>\n",
       "    </tr>\n",
       "  </tbody>\n",
       "</table>\n",
       "</div>"
      ],
      "text/plain": [
       "        Category  Rating Count  Price  Size Content Rating  Ad Supported  \\\n",
       "0      Adventure           0.0    0.0  10.0       Everyone             0   \n",
       "1          Tools          64.0    0.0   2.0       Everyone             1   \n",
       "2   Productivity           0.0    0.0   3.0       Everyone             0   \n",
       "3  Communication           5.0    0.0   1.0       Everyone             1   \n",
       "4          Tools           0.0    0.0   6.0       Everyone             0   \n",
       "\n",
       "   In App Purchases  Editors Choice  \n",
       "0                 0               0  \n",
       "1                 0               0  \n",
       "2                 0               0  \n",
       "3                 0               0  \n",
       "4                 0               0  "
      ]
     },
     "execution_count": 52,
     "metadata": {},
     "output_type": "execute_result"
    }
   ],
   "source": [
    "# cat_feature = [\"Category\", \"Content Rating\"]\n",
    "# binary_feature = [\"Ad Supported\", \"In App Purchases\", \"Editors Choice\"]\n",
    "# num_feature = [\"Rating Count\",\"Price\", \"Size\"]\n",
    "\n",
    "# le = preprocessing.LabelEncoder()\n",
    "\n",
    "# for i in binary_feature: #process binary features\n",
    "#     x[i] = le.fit_transform(x[i])\n",
    "# x.head()"
   ]
  },
  {
   "cell_type": "code",
   "execution_count": 53,
   "metadata": {},
   "outputs": [
    {
     "data": {
      "text/plain": [
       "<2312944x57 sparse matrix of type '<class 'numpy.float64'>'\n",
       "\twith 11564720 stored elements in Compressed Sparse Row format>"
      ]
     },
     "execution_count": 53,
     "metadata": {},
     "output_type": "execute_result"
    }
   ],
   "source": [
    "# num_pipeline = Pipeline([\n",
    "#         ('std_scaler', StandardScaler())\n",
    "#     ])\n",
    "# full_pipeline = ColumnTransformer([\n",
    "#         (\"num\", num_pipeline, num_feature),\n",
    "#         (\"cat\", OneHotEncoder(), cat_feature), \n",
    "#     #OneHot encodes whether something is present or not\n",
    "#     ])\n",
    "# # x[num_feature] = num_pipeline.fit_transform(x[num_feature])\n",
    "# x = full_pipeline.fit_transform(x)\n",
    "# x"
   ]
  },
  {
   "cell_type": "code",
   "execution_count": 54,
   "metadata": {},
   "outputs": [],
   "source": [
    "# train_x, test_x, train_y, test_y = train_test_split(x,y,test_size = 0.2, random_state = 0)"
   ]
  },
  {
   "cell_type": "code",
   "execution_count": 55,
   "metadata": {},
   "outputs": [],
   "source": [
    "# train_x = pca.fit_transform(train_x.toarray()) # n_components =6\n",
    "# test_x = pca.transform(test_x.toarray())"
   ]
  },
  {
   "cell_type": "code",
   "execution_count": 56,
   "metadata": {},
   "outputs": [],
   "source": [
    "# clf = DecisionTreeRegressor()\n",
    "# clf.fit(train_x, train_y)\n",
    "# predicted = clf.predict(test_x)"
   ]
  },
  {
   "cell_type": "code",
   "execution_count": 57,
   "metadata": {},
   "outputs": [
    {
     "name": "stdout",
     "output_type": "stream",
     "text": [
      "R-squared:  0.9999771094464118\n",
      "mse is:  523173091338478.94\n"
     ]
    }
   ],
   "source": [
    "# score = clf.score(train_x,train_y)\n",
    "# print(\"R-squared: \", score)\n",
    "# mse = mean_squared_error(test_y, predicted)\n",
    "# print(\"mse is: \", mse)"
   ]
  },
  {
   "cell_type": "markdown",
   "metadata": {},
   "source": [
    "Like I previously suspected, rating count gives plenty of information for number of installs, resulting in a nearly perfect R-squared value. We don't want this since it can lead to overfitting, i.e. already telling the model the \"right\" answer with nothing to learn. We will stick with dropping rating count and will switch to predict rating as the response variable since it's hard to predict installs precisely."
   ]
  },
  {
   "cell_type": "code",
   "execution_count": 45,
   "metadata": {},
   "outputs": [
    {
     "data": {
      "text/plain": [
       "array([0.11347723, 0.12284228, 0.1911602 , 0.03424546, 0.15342143,\n",
       "       0.38485341])"
      ]
     },
     "execution_count": 45,
     "metadata": {},
     "output_type": "execute_result"
    }
   ],
   "source": [
    "clf.feature_importances_"
   ]
  },
  {
   "cell_type": "markdown",
   "metadata": {},
   "source": [
    "# KNN for Max Install"
   ]
  },
  {
   "cell_type": "code",
   "execution_count": 46,
   "metadata": {},
   "outputs": [
    {
     "data": {
      "text/plain": [
       "KNeighborsRegressor(n_neighbors=100)"
      ]
     },
     "execution_count": 46,
     "metadata": {},
     "output_type": "execute_result"
    }
   ],
   "source": [
    "from sklearn.neighbors import KNeighborsRegressor\n",
    "knn = KNeighborsRegressor(n_neighbors=100) # set 100 neighbors since we have a lot of data\n",
    "knn.fit(train_x,train_y)"
   ]
  },
  {
   "cell_type": "code",
   "execution_count": 47,
   "metadata": {
    "scrolled": true
   },
   "outputs": [
    {
     "name": "stdout",
     "output_type": "stream",
     "text": [
      "mse is:  285331027291086.3\n"
     ]
    }
   ],
   "source": [
    "predicted = knn.predict(test_x)\n",
    "mse = mean_squared_error(test_y, predicted)\n",
    "print(\"mse is: \", mse)"
   ]
  },
  {
   "cell_type": "markdown",
   "metadata": {},
   "source": [
    "As we can see the MSE is still large with KNN, so we are switching to only predicting rating."
   ]
  },
  {
   "cell_type": "markdown",
   "metadata": {},
   "source": [
    "# Decision Tree and KNN for Rating"
   ]
  },
  {
   "cell_type": "markdown",
   "metadata": {},
   "source": [
    "### Since maximum installs are hard to predict, we switch to predicting rating. Installs can now be a feature. It has low correlation with other variables. Can also add interaction terms to account for nonlinearity."
   ]
  },
  {
   "cell_type": "code",
   "execution_count": 48,
   "metadata": {},
   "outputs": [
    {
     "data": {
      "text/html": [
       "<div>\n",
       "<style scoped>\n",
       "    .dataframe tbody tr th:only-of-type {\n",
       "        vertical-align: middle;\n",
       "    }\n",
       "\n",
       "    .dataframe tbody tr th {\n",
       "        vertical-align: top;\n",
       "    }\n",
       "\n",
       "    .dataframe thead th {\n",
       "        text-align: right;\n",
       "    }\n",
       "</style>\n",
       "<table border=\"1\" class=\"dataframe\">\n",
       "  <thead>\n",
       "    <tr style=\"text-align: right;\">\n",
       "      <th></th>\n",
       "      <th>Category</th>\n",
       "      <th>Rating</th>\n",
       "      <th>Maximum Installs</th>\n",
       "      <th>Price</th>\n",
       "      <th>Size</th>\n",
       "      <th>Content Rating</th>\n",
       "      <th>Ad Supported</th>\n",
       "      <th>In App Purchases</th>\n",
       "      <th>Editors Choice</th>\n",
       "    </tr>\n",
       "  </thead>\n",
       "  <tbody>\n",
       "    <tr>\n",
       "      <th>0</th>\n",
       "      <td>Adventure</td>\n",
       "      <td>0.0</td>\n",
       "      <td>15</td>\n",
       "      <td>0.0</td>\n",
       "      <td>10.0</td>\n",
       "      <td>Everyone</td>\n",
       "      <td>False</td>\n",
       "      <td>False</td>\n",
       "      <td>False</td>\n",
       "    </tr>\n",
       "    <tr>\n",
       "      <th>1</th>\n",
       "      <td>Tools</td>\n",
       "      <td>4.4</td>\n",
       "      <td>7662</td>\n",
       "      <td>0.0</td>\n",
       "      <td>2.0</td>\n",
       "      <td>Everyone</td>\n",
       "      <td>True</td>\n",
       "      <td>False</td>\n",
       "      <td>False</td>\n",
       "    </tr>\n",
       "    <tr>\n",
       "      <th>2</th>\n",
       "      <td>Productivity</td>\n",
       "      <td>0.0</td>\n",
       "      <td>58</td>\n",
       "      <td>0.0</td>\n",
       "      <td>3.0</td>\n",
       "      <td>Everyone</td>\n",
       "      <td>False</td>\n",
       "      <td>False</td>\n",
       "      <td>False</td>\n",
       "    </tr>\n",
       "    <tr>\n",
       "      <th>3</th>\n",
       "      <td>Communication</td>\n",
       "      <td>5.0</td>\n",
       "      <td>19</td>\n",
       "      <td>0.0</td>\n",
       "      <td>1.0</td>\n",
       "      <td>Everyone</td>\n",
       "      <td>True</td>\n",
       "      <td>False</td>\n",
       "      <td>False</td>\n",
       "    </tr>\n",
       "    <tr>\n",
       "      <th>4</th>\n",
       "      <td>Tools</td>\n",
       "      <td>0.0</td>\n",
       "      <td>478</td>\n",
       "      <td>0.0</td>\n",
       "      <td>6.0</td>\n",
       "      <td>Everyone</td>\n",
       "      <td>False</td>\n",
       "      <td>False</td>\n",
       "      <td>False</td>\n",
       "    </tr>\n",
       "  </tbody>\n",
       "</table>\n",
       "</div>"
      ],
      "text/plain": [
       "        Category  Rating  Maximum Installs  Price  Size Content Rating  \\\n",
       "0      Adventure     0.0                15    0.0  10.0       Everyone   \n",
       "1          Tools     4.4              7662    0.0   2.0       Everyone   \n",
       "2   Productivity     0.0                58    0.0   3.0       Everyone   \n",
       "3  Communication     5.0                19    0.0   1.0       Everyone   \n",
       "4          Tools     0.0               478    0.0   6.0       Everyone   \n",
       "\n",
       "   Ad Supported  In App Purchases  Editors Choice  \n",
       "0         False             False           False  \n",
       "1          True             False           False  \n",
       "2         False             False           False  \n",
       "3          True             False           False  \n",
       "4         False             False           False  "
      ]
     },
     "execution_count": 48,
     "metadata": {},
     "output_type": "execute_result"
    }
   ],
   "source": [
    "data.head()"
   ]
  },
  {
   "cell_type": "code",
   "execution_count": 49,
   "metadata": {},
   "outputs": [],
   "source": [
    "y=data[\"Rating\"]\n",
    "x=data.drop(\"Rating\", axis=1)\n",
    "cat_feature = [\"Category\", \"Content Rating\"]\n",
    "binary_feature = [\"Ad Supported\", \"In App Purchases\", \"Editors Choice\"]\n",
    "num_feature = [\"Maximum Installs\",\"Price\", \"Size\"]\n",
    "\n",
    "le = preprocessing.LabelEncoder()\n",
    "\n",
    "for i in binary_feature: # this is trivial so can be kept out of the pipeline\n",
    "    x[i] = le.fit_transform(x[i])\n",
    "num_pipeline = Pipeline([\n",
    "        ('std_scaler', StandardScaler())\n",
    "    ])\n",
    "full_pipeline = ColumnTransformer([\n",
    "        (\"num\", num_pipeline, num_feature),\n",
    "        (\"cat\", OneHotEncoder(), cat_feature), \n",
    "    #OneHot encodes whether something is present or not\n",
    "    ])"
   ]
  },
  {
   "cell_type": "markdown",
   "metadata": {},
   "source": [
    "We then use PCA to reduce the dimension of the data to speed up training:"
   ]
  },
  {
   "cell_type": "code",
   "execution_count": 50,
   "metadata": {},
   "outputs": [],
   "source": [
    "x = full_pipeline.fit_transform(x)\n",
    "train_x, test_x, train_y, test_y = train_test_split(x,y,test_size = 0.2, random_state = 0)\n",
    "from sklearn import decomposition\n",
    "pca = decomposition.PCA(n_components=6)\n",
    "#toarray() to resolve pca not supporting sparse data\n",
    "# pca still contains the same info as original data\n",
    "train_x = pca.fit_transform(train_x.toarray()) \n",
    "test_x = pca.transform(test_x.toarray())"
   ]
  },
  {
   "cell_type": "markdown",
   "metadata": {},
   "source": [
    "Decision tree without hyper parameter tuning:"
   ]
  },
  {
   "cell_type": "code",
   "execution_count": 51,
   "metadata": {},
   "outputs": [],
   "source": [
    "clf = DecisionTreeRegressor()\n",
    "clf.fit(train_x, train_y)\n",
    "predicted = clf.predict(test_x)"
   ]
  },
  {
   "cell_type": "code",
   "execution_count": 52,
   "metadata": {},
   "outputs": [
    {
     "name": "stdout",
     "output_type": "stream",
     "text": [
      "R-squared:  0.7431753202264406\n",
      "mse is:  4.520329516761438\n"
     ]
    }
   ],
   "source": [
    "score = clf.score(train_x,train_y)\n",
    "print(\"R-squared: \", score)\n",
    "mse = mean_squared_error(test_y, predicted)\n",
    "print(\"mse is: \", mse) "
   ]
  },
  {
   "cell_type": "code",
   "execution_count": 53,
   "metadata": {},
   "outputs": [
    {
     "data": {
      "text/plain": [
       "(86,\n",
       " {'ccp_alpha': 0.0,\n",
       "  'criterion': 'mse',\n",
       "  'max_depth': None,\n",
       "  'max_features': None,\n",
       "  'max_leaf_nodes': None,\n",
       "  'min_impurity_decrease': 0.0,\n",
       "  'min_impurity_split': None,\n",
       "  'min_samples_leaf': 1,\n",
       "  'min_samples_split': 2,\n",
       "  'min_weight_fraction_leaf': 0.0,\n",
       "  'random_state': None,\n",
       "  'splitter': 'best'})"
      ]
     },
     "execution_count": 53,
     "metadata": {},
     "output_type": "execute_result"
    }
   ],
   "source": [
    "clf.get_depth(), clf.get_params()"
   ]
  },
  {
   "cell_type": "markdown",
   "metadata": {},
   "source": [
    "This is a good start. A high R-squared of 0.74 means that our model is about to account for 74% of the variation in the data."
   ]
  },
  {
   "cell_type": "markdown",
   "metadata": {},
   "source": [
    "### Tuning and find the best hyperparameter for Decision Tree\n",
    "\n",
    "There are two hyperparameters that we consider tuning to check if we can impove the result of decision tree.\n",
    "\n",
    "**max_depth**: This hyperparameter determine the maximum depth of the decision tree. It restricts the number of split on the tree from root to leaf nodes. High max_depth values will allow tree to have more split and to capture the potential pattern in the data. However, it may result in overfitting if the number is too large. On the other hand, small max_depth value can prevent overfitting, but it also limit the complexity of the tree and may lead to underfitting.\n",
    "\n",
    "**max_features**: This hyperparameter controls the number of features at each split. \n",
    "- \"sqrt\" mean considers the square root of the total number of features\n",
    "- 'auto' mean considers all the features\n",
    "\n",
    "Limiting the number of features can control the complexity of the tree and may prevent overfitting for the model"
   ]
  },
  {
   "cell_type": "code",
   "execution_count": 54,
   "metadata": {},
   "outputs": [
    {
     "name": "stdout",
     "output_type": "stream",
     "text": [
      "The mean MSE is: 3.4306799756697393\n"
     ]
    }
   ],
   "source": [
    "from sklearn import model_selection\n",
    "kfold = model_selection.KFold(n_splits=10, random_state=1, shuffle=True) \n",
    "tree_kfold = DecisionTreeRegressor(random_state=1) # match the randomization in kfold\n",
    "tree_scores_kfold = model_selection.cross_val_score(tree_kfold, train_x,\n",
    "                                                    train_y, scoring =\"neg_mean_squared_error\", cv=kfold)\n",
    "tree_scores=-tree_scores_kfold\n",
    "print(\"The mean MSE is:\", tree_scores.mean())"
   ]
  },
  {
   "cell_type": "code",
   "execution_count": 57,
   "metadata": {},
   "outputs": [
    {
     "name": "stderr",
     "output_type": "stream",
     "text": [
      "/opt/anaconda3/lib/python3.9/site-packages/sklearn/model_selection/_search.py:292: UserWarning: The total space of parameters 8 is smaller than n_iter=50. Running 8 iterations. For exhaustive searches, use GridSearchCV.\n",
      "  warnings.warn(\n"
     ]
    },
    {
     "name": "stdout",
     "output_type": "stream",
     "text": [
      "Fitting 10 folds for each of 8 candidates, totalling 80 fits\n",
      "[CV] END ....................max_depth=50, max_features=auto; total time=  13.4s\n",
      "[CV] END ....................max_depth=50, max_features=auto; total time=  12.9s\n",
      "[CV] END ....................max_depth=50, max_features=auto; total time=  13.2s\n",
      "[CV] END ....................max_depth=50, max_features=auto; total time=  13.4s\n",
      "[CV] END ....................max_depth=50, max_features=auto; total time=  14.0s\n",
      "[CV] END ....................max_depth=50, max_features=auto; total time=  13.9s\n",
      "[CV] END ....................max_depth=50, max_features=auto; total time=  14.2s\n",
      "[CV] END ....................max_depth=50, max_features=auto; total time=  13.6s\n",
      "[CV] END ....................max_depth=50, max_features=auto; total time=  14.1s\n",
      "[CV] END ....................max_depth=50, max_features=auto; total time=  13.7s\n",
      "[CV] END ....................max_depth=50, max_features=sqrt; total time=   5.3s\n",
      "[CV] END ....................max_depth=50, max_features=sqrt; total time=   5.2s\n",
      "[CV] END ....................max_depth=50, max_features=sqrt; total time=   5.4s\n",
      "[CV] END ....................max_depth=50, max_features=sqrt; total time=   5.1s\n",
      "[CV] END ....................max_depth=50, max_features=sqrt; total time=   5.0s\n",
      "[CV] END ....................max_depth=50, max_features=sqrt; total time=   5.3s\n",
      "[CV] END ....................max_depth=50, max_features=sqrt; total time=   5.1s\n",
      "[CV] END ....................max_depth=50, max_features=sqrt; total time=   5.2s\n",
      "[CV] END ....................max_depth=50, max_features=sqrt; total time=   5.3s\n",
      "[CV] END ....................max_depth=50, max_features=sqrt; total time=   5.2s\n",
      "[CV] END ...................max_depth=100, max_features=auto; total time=  13.4s\n",
      "[CV] END ...................max_depth=100, max_features=auto; total time=  12.8s\n",
      "[CV] END ...................max_depth=100, max_features=auto; total time=  13.3s\n",
      "[CV] END ...................max_depth=100, max_features=auto; total time=  13.3s\n",
      "[CV] END ...................max_depth=100, max_features=auto; total time=  14.0s\n",
      "[CV] END ...................max_depth=100, max_features=auto; total time=  13.9s\n",
      "[CV] END ...................max_depth=100, max_features=auto; total time=  13.9s\n",
      "[CV] END ...................max_depth=100, max_features=auto; total time=  13.4s\n",
      "[CV] END ...................max_depth=100, max_features=auto; total time=  13.8s\n",
      "[CV] END ...................max_depth=100, max_features=auto; total time=  13.8s\n",
      "[CV] END ...................max_depth=100, max_features=sqrt; total time=   5.4s\n",
      "[CV] END ...................max_depth=100, max_features=sqrt; total time=   5.1s\n",
      "[CV] END ...................max_depth=100, max_features=sqrt; total time=   5.1s\n",
      "[CV] END ...................max_depth=100, max_features=sqrt; total time=   5.2s\n",
      "[CV] END ...................max_depth=100, max_features=sqrt; total time=   5.0s\n",
      "[CV] END ...................max_depth=100, max_features=sqrt; total time=   5.2s\n",
      "[CV] END ...................max_depth=100, max_features=sqrt; total time=   5.1s\n",
      "[CV] END ...................max_depth=100, max_features=sqrt; total time=   5.3s\n",
      "[CV] END ...................max_depth=100, max_features=sqrt; total time=   5.3s\n",
      "[CV] END ...................max_depth=100, max_features=sqrt; total time=   5.2s\n",
      "[CV] END ...................max_depth=150, max_features=auto; total time=  13.3s\n",
      "[CV] END ...................max_depth=150, max_features=auto; total time=  13.0s\n",
      "[CV] END ...................max_depth=150, max_features=auto; total time=  14.1s\n",
      "[CV] END ...................max_depth=150, max_features=auto; total time=  13.9s\n",
      "[CV] END ...................max_depth=150, max_features=auto; total time=  14.5s\n",
      "[CV] END ...................max_depth=150, max_features=auto; total time=  14.5s\n",
      "[CV] END ...................max_depth=150, max_features=auto; total time=  14.4s\n",
      "[CV] END ...................max_depth=150, max_features=auto; total time=  14.2s\n",
      "[CV] END ...................max_depth=150, max_features=auto; total time=  14.5s\n",
      "[CV] END ...................max_depth=150, max_features=auto; total time=  14.4s\n",
      "[CV] END ...................max_depth=150, max_features=sqrt; total time=   5.7s\n",
      "[CV] END ...................max_depth=150, max_features=sqrt; total time=   5.3s\n",
      "[CV] END ...................max_depth=150, max_features=sqrt; total time=   5.2s\n",
      "[CV] END ...................max_depth=150, max_features=sqrt; total time=   5.3s\n",
      "[CV] END ...................max_depth=150, max_features=sqrt; total time=   5.1s\n",
      "[CV] END ...................max_depth=150, max_features=sqrt; total time=   5.3s\n",
      "[CV] END ...................max_depth=150, max_features=sqrt; total time=   5.3s\n",
      "[CV] END ...................max_depth=150, max_features=sqrt; total time=   5.4s\n",
      "[CV] END ...................max_depth=150, max_features=sqrt; total time=   5.5s\n",
      "[CV] END ...................max_depth=150, max_features=sqrt; total time=   5.5s\n",
      "[CV] END ..................max_depth=None, max_features=auto; total time=  13.6s\n",
      "[CV] END ..................max_depth=None, max_features=auto; total time=  13.0s\n",
      "[CV] END ..................max_depth=None, max_features=auto; total time=  13.6s\n",
      "[CV] END ..................max_depth=None, max_features=auto; total time=  13.6s\n",
      "[CV] END ..................max_depth=None, max_features=auto; total time=  14.3s\n",
      "[CV] END ..................max_depth=None, max_features=auto; total time=  13.9s\n",
      "[CV] END ..................max_depth=None, max_features=auto; total time=  14.1s\n",
      "[CV] END ..................max_depth=None, max_features=auto; total time=  13.5s\n",
      "[CV] END ..................max_depth=None, max_features=auto; total time=  14.0s\n",
      "[CV] END ..................max_depth=None, max_features=auto; total time=  14.1s\n",
      "[CV] END ..................max_depth=None, max_features=sqrt; total time=   5.6s\n",
      "[CV] END ..................max_depth=None, max_features=sqrt; total time=   5.2s\n",
      "[CV] END ..................max_depth=None, max_features=sqrt; total time=   5.2s\n",
      "[CV] END ..................max_depth=None, max_features=sqrt; total time=   5.2s\n",
      "[CV] END ..................max_depth=None, max_features=sqrt; total time=   5.1s\n",
      "[CV] END ..................max_depth=None, max_features=sqrt; total time=   5.2s\n",
      "[CV] END ..................max_depth=None, max_features=sqrt; total time=   5.1s\n",
      "[CV] END ..................max_depth=None, max_features=sqrt; total time=   5.2s\n",
      "[CV] END ..................max_depth=None, max_features=sqrt; total time=   5.3s\n",
      "[CV] END ..................max_depth=None, max_features=sqrt; total time=   5.2s\n"
     ]
    }
   ],
   "source": [
    "# benefit of a randomized search: more efficient than grid search since it samples a few parameter\n",
    "from sklearn.model_selection import RandomizedSearchCV\n",
    "clf = DecisionTreeRegressor(random_state=1)\n",
    "parameters={\"max_depth\" : [50, 100, 150, None],\n",
    "           \"max_features\":[\"auto\",\"sqrt\"] }\n",
    "# RandomizedSearchCV samples a few parameters from our specified parameters\n",
    "clf_random = RandomizedSearchCV(estimator = clf, param_distributions = parameters, #list of parameters\n",
    "                                n_iter = 50, cv = kfold, verbose=2) \n",
    "# n_iter: number of parameter settings sampled\n",
    "result=clf_random.fit(train_x, train_y)\n",
    "tree_best_param = result.best_params_\n",
    "tree_best_score = result.best_score_"
   ]
  },
  {
   "cell_type": "code",
   "execution_count": 58,
   "metadata": {},
   "outputs": [
    {
     "name": "stdout",
     "output_type": "stream",
     "text": [
      "{'max_features': 'sqrt', 'max_depth': 100} 0.3367109173437831\n"
     ]
    }
   ],
   "source": [
    "print(tree_best_param, tree_best_score)"
   ]
  },
  {
   "cell_type": "markdown",
   "metadata": {},
   "source": [
    "### Best hyper parameters from random search"
   ]
  },
  {
   "cell_type": "code",
   "execution_count": 59,
   "metadata": {
    "scrolled": true
   },
   "outputs": [
    {
     "name": "stdout",
     "output_type": "stream",
     "text": [
      "R-squared:  0.5394262440881962\n",
      "mse is:  4.156986202303735\n"
     ]
    }
   ],
   "source": [
    "clf = DecisionTreeRegressor(max_features = 'sqrt',max_depth = 100)\n",
    "clf.fit(train_x, train_y)\n",
    "predicted = clf.predict(test_x)\n",
    "\n",
    "score = clf.score(train_x,train_y)\n",
    "print(\"R-squared: \", score)\n",
    "mse = mean_squared_error(test_y, predicted)\n",
    "print(\"mse is: \", mse) "
   ]
  },
  {
   "cell_type": "markdown",
   "metadata": {},
   "source": [
    "We see MSE is slightly better than the default model but R-squared is worse. Let's adjust the search slightly and use a comprehensive grid search."
   ]
  },
  {
   "cell_type": "markdown",
   "metadata": {},
   "source": [
    "{'ccp_alpha': 0.0,\n",
    "  'criterion': 'squared_error',\n",
    "  'max_depth': None,\n",
    "  'max_features': None,\n",
    "  'max_leaf_nodes': None,\n",
    "  'min_impurity_decrease': 0.0,\n",
    "  'min_samples_leaf': 1,\n",
    "  'min_samples_split': 2,\n",
    "  'min_weight_fraction_leaf': 0.0,\n",
    "  'random_state': None,\n",
    "  'splitter': 'best'})"
   ]
  },
  {
   "cell_type": "code",
   "execution_count": 57,
   "metadata": {},
   "outputs": [],
   "source": [
    "import warnings\n",
    "warnings.filterwarnings('ignore') #suppress any warnings"
   ]
  },
  {
   "cell_type": "code",
   "execution_count": 59,
   "metadata": {},
   "outputs": [
    {
     "name": "stdout",
     "output_type": "stream",
     "text": [
      "Fitting 10 folds for each of 36 candidates, totalling 360 fits\n"
     ]
    },
    {
     "name": "stderr",
     "output_type": "stream",
     "text": [
      "/Users/allentong/opt/anaconda3/lib/python3.9/site-packages/scipy/__init__.py:146: UserWarning: A NumPy version >=1.16.5 and <1.23.0 is required for this version of SciPy (detected version 1.24.3\n",
      "  warnings.warn(f\"A NumPy version >={np_minversion} and <{np_maxversion}\"\n",
      "/Users/allentong/opt/anaconda3/lib/python3.9/site-packages/scipy/__init__.py:146: UserWarning: A NumPy version >=1.16.5 and <1.23.0 is required for this version of SciPy (detected version 1.24.3\n",
      "  warnings.warn(f\"A NumPy version >={np_minversion} and <{np_maxversion}\"\n",
      "/Users/allentong/opt/anaconda3/lib/python3.9/site-packages/scipy/__init__.py:146: UserWarning: A NumPy version >=1.16.5 and <1.23.0 is required for this version of SciPy (detected version 1.24.3\n",
      "  warnings.warn(f\"A NumPy version >={np_minversion} and <{np_maxversion}\"\n",
      "/Users/allentong/opt/anaconda3/lib/python3.9/site-packages/scipy/__init__.py:146: UserWarning: A NumPy version >=1.16.5 and <1.23.0 is required for this version of SciPy (detected version 1.24.3\n",
      "  warnings.warn(f\"A NumPy version >={np_minversion} and <{np_maxversion}\"\n",
      "/Users/allentong/opt/anaconda3/lib/python3.9/site-packages/scipy/__init__.py:146: UserWarning: A NumPy version >=1.16.5 and <1.23.0 is required for this version of SciPy (detected version 1.24.3\n",
      "  warnings.warn(f\"A NumPy version >={np_minversion} and <{np_maxversion}\"\n",
      "/Users/allentong/opt/anaconda3/lib/python3.9/site-packages/scipy/__init__.py:146: UserWarning: A NumPy version >=1.16.5 and <1.23.0 is required for this version of SciPy (detected version 1.24.3\n",
      "  warnings.warn(f\"A NumPy version >={np_minversion} and <{np_maxversion}\"\n",
      "/Users/allentong/opt/anaconda3/lib/python3.9/site-packages/scipy/__init__.py:146: UserWarning: A NumPy version >=1.16.5 and <1.23.0 is required for this version of SciPy (detected version 1.24.3\n",
      "  warnings.warn(f\"A NumPy version >={np_minversion} and <{np_maxversion}\"\n",
      "/Users/allentong/opt/anaconda3/lib/python3.9/site-packages/scipy/__init__.py:146: UserWarning: A NumPy version >=1.16.5 and <1.23.0 is required for this version of SciPy (detected version 1.24.3\n",
      "  warnings.warn(f\"A NumPy version >={np_minversion} and <{np_maxversion}\"\n"
     ]
    }
   ],
   "source": [
    "from sklearn.model_selection import GridSearchCV\n",
    "\n",
    "clf = DecisionTreeRegressor(random_state=1)\n",
    "parameters={\"max_depth\" : [80, 90, 100], # None means we don't restrict how far the tree grows, \n",
    "            # above it was 86 without specifying any parameters\n",
    "           \"max_features\":[\"sqrt\", 3], # number of features to consider for a split, None means not restricting\n",
    "            \"min_samples_leaf\":[50, 1],\n",
    "           \"min_impurity_decrease\":[0.000001, 0.000002, 0]} \n",
    "# min_samples_leaf: The minimum number of samples required to be at a leaf node, prevent splitting too much and\n",
    "# each region get too sparse, default 1\n",
    "# min_impurity decrease: minimum improve in purity by splitting a node, default 0\n",
    "clf_grid = GridSearchCV(estimator = clf, param_grid = parameters, #list of parameters\n",
    "                        n_jobs = -1, cv = kfold, scoring='neg_mean_squared_error', verbose=2) \n",
    "# n_jobs=-1:use all processors; higher the negative mse, lower the mse\n",
    "result=clf_grid.fit(train_x, train_y)"
   ]
  },
  {
   "cell_type": "code",
   "execution_count": 63,
   "metadata": {},
   "outputs": [
    {
     "name": "stdout",
     "output_type": "stream",
     "text": [
      "{'max_depth': 80, 'max_features': 3, 'min_impurity_decrease': 1e-06, 'min_samples_leaf': 50} 2.5644015443596815\n"
     ]
    }
   ],
   "source": [
    "tree_best_param2 = result.best_params_\n",
    "tree_best_score2 = result.best_score_\n",
    "print(tree_best_param2, -tree_best_score2) #add - sign because the scoring was negative mse"
   ]
  },
  {
   "cell_type": "code",
   "execution_count": 65,
   "metadata": {},
   "outputs": [
    {
     "name": "stdout",
     "output_type": "stream",
     "text": [
      "R-squared:  0.4442782888619422\n",
      "mse is:  3.6295646562969317\n"
     ]
    }
   ],
   "source": [
    "clf = DecisionTreeRegressor(max_features = 3,max_depth = 80, \n",
    "                            min_impurity_decrease=1e-06, min_samples_leaf= 50)\n",
    "clf.fit(train_x, train_y)\n",
    "predicted = clf.predict(test_x)\n",
    "\n",
    "score = clf.score(train_x,train_y)\n",
    "print(\"R-squared: \", score)\n",
    "mse = mean_squared_error(test_y, predicted)\n",
    "print(\"mse is: \", mse) "
   ]
  },
  {
   "cell_type": "markdown",
   "metadata": {},
   "source": [
    "### Result for Decision Tree\n",
    "\n",
    "Before tuning the hyperparameters, the MSE was 4.52. After tuning the hyperparameters, the MSE improved to 3.63.\n",
    "The best feature combination is: {'max_depth': 80, 'max_features': 3, 'min_impurity_decrease': 1e-06, 'min_samples_leaf': 50}.\n",
    "\n",
    "Changing max_features to 'sqrt' first means limiting the number of features to be considered at each split, which help prevent potential overfitting and reduced the model complexity. The MSE was further reduced when we change max_features to 3. Increasing 'max_depth' to 80 allows the tree to grow deeper and able to capture more complex pattern."
   ]
  },
  {
   "cell_type": "markdown",
   "metadata": {},
   "source": [
    "#### Next, we can consider adding interaction terms to account for nonlinearity in the data."
   ]
  },
  {
   "cell_type": "markdown",
   "metadata": {},
   "source": [
    "For example, using maximum installs * editors choice as another variable accounts for the combined effect of popularity amongst users and app store administrators. size * in-app purchases account for the amount of functionalities in the app. However, we should then encode false/true as 1/2 instead of 0/1, otherwise they will cancel the effect from popularity among users (we can think about it as if the editors also like it, that doubles the user popularity (*2), otherwise, we just keep popularity as it is (only from the user) instead of zeroing it out the combined popularity)"
   ]
  },
  {
   "cell_type": "code",
   "execution_count": 81,
   "metadata": {
    "scrolled": true
   },
   "outputs": [
    {
     "data": {
      "text/html": [
       "<div>\n",
       "<style scoped>\n",
       "    .dataframe tbody tr th:only-of-type {\n",
       "        vertical-align: middle;\n",
       "    }\n",
       "\n",
       "    .dataframe tbody tr th {\n",
       "        vertical-align: top;\n",
       "    }\n",
       "\n",
       "    .dataframe thead th {\n",
       "        text-align: right;\n",
       "    }\n",
       "</style>\n",
       "<table border=\"1\" class=\"dataframe\">\n",
       "  <thead>\n",
       "    <tr style=\"text-align: right;\">\n",
       "      <th></th>\n",
       "      <th>Category</th>\n",
       "      <th>Rating</th>\n",
       "      <th>Maximum Installs</th>\n",
       "      <th>Price</th>\n",
       "      <th>Size</th>\n",
       "      <th>Content Rating</th>\n",
       "      <th>Ad Supported</th>\n",
       "      <th>In App Purchases</th>\n",
       "      <th>Editors Choice</th>\n",
       "      <th>Installs x Editors</th>\n",
       "      <th>Size x Purchases</th>\n",
       "    </tr>\n",
       "  </thead>\n",
       "  <tbody>\n",
       "    <tr>\n",
       "      <th>885</th>\n",
       "      <td>Health &amp; Fitness</td>\n",
       "      <td>4.2</td>\n",
       "      <td>11930352</td>\n",
       "      <td>0.0</td>\n",
       "      <td>67.00000</td>\n",
       "      <td>Everyone</td>\n",
       "      <td>False</td>\n",
       "      <td>True</td>\n",
       "      <td>True</td>\n",
       "      <td>23860704</td>\n",
       "      <td>134.000000</td>\n",
       "    </tr>\n",
       "    <tr>\n",
       "      <th>1169</th>\n",
       "      <td>Strategy</td>\n",
       "      <td>4.0</td>\n",
       "      <td>2771584</td>\n",
       "      <td>0.0</td>\n",
       "      <td>83.00000</td>\n",
       "      <td>Teen</td>\n",
       "      <td>True</td>\n",
       "      <td>True</td>\n",
       "      <td>True</td>\n",
       "      <td>5543168</td>\n",
       "      <td>166.000000</td>\n",
       "    </tr>\n",
       "    <tr>\n",
       "      <th>6107</th>\n",
       "      <td>Adventure</td>\n",
       "      <td>4.0</td>\n",
       "      <td>20146067</td>\n",
       "      <td>0.0</td>\n",
       "      <td>101.00000</td>\n",
       "      <td>Teen</td>\n",
       "      <td>False</td>\n",
       "      <td>True</td>\n",
       "      <td>True</td>\n",
       "      <td>40292134</td>\n",
       "      <td>202.000000</td>\n",
       "    </tr>\n",
       "    <tr>\n",
       "      <th>8913</th>\n",
       "      <td>Word</td>\n",
       "      <td>4.4</td>\n",
       "      <td>17497354</td>\n",
       "      <td>0.0</td>\n",
       "      <td>26.50797</td>\n",
       "      <td>Everyone</td>\n",
       "      <td>True</td>\n",
       "      <td>True</td>\n",
       "      <td>True</td>\n",
       "      <td>34994708</td>\n",
       "      <td>53.015941</td>\n",
       "    </tr>\n",
       "    <tr>\n",
       "      <th>9113</th>\n",
       "      <td>Education</td>\n",
       "      <td>4.6</td>\n",
       "      <td>17835756</td>\n",
       "      <td>0.0</td>\n",
       "      <td>26.50797</td>\n",
       "      <td>Everyone</td>\n",
       "      <td>False</td>\n",
       "      <td>True</td>\n",
       "      <td>True</td>\n",
       "      <td>35671512</td>\n",
       "      <td>53.015941</td>\n",
       "    </tr>\n",
       "  </tbody>\n",
       "</table>\n",
       "</div>"
      ],
      "text/plain": [
       "              Category  Rating  Maximum Installs  Price       Size  \\\n",
       "885   Health & Fitness     4.2          11930352    0.0   67.00000   \n",
       "1169          Strategy     4.0           2771584    0.0   83.00000   \n",
       "6107         Adventure     4.0          20146067    0.0  101.00000   \n",
       "8913              Word     4.4          17497354    0.0   26.50797   \n",
       "9113         Education     4.6          17835756    0.0   26.50797   \n",
       "\n",
       "     Content Rating  Ad Supported  In App Purchases  Editors Choice  \\\n",
       "885        Everyone         False              True            True   \n",
       "1169           Teen          True              True            True   \n",
       "6107           Teen         False              True            True   \n",
       "8913       Everyone          True              True            True   \n",
       "9113       Everyone         False              True            True   \n",
       "\n",
       "      Installs x Editors  Size x Purchases  \n",
       "885             23860704        134.000000  \n",
       "1169             5543168        166.000000  \n",
       "6107            40292134        202.000000  \n",
       "8913            34994708         53.015941  \n",
       "9113            35671512         53.015941  "
      ]
     },
     "execution_count": 81,
     "metadata": {},
     "output_type": "execute_result"
    }
   ],
   "source": [
    "data_interaction=data\n",
    "# after +1 false will become 1\n",
    "data_interaction[\"Installs x Editors\"]=data_interaction[\"Maximum Installs\"]*(data_interaction[\"Editors Choice\"]+1)\n",
    "data_interaction[\"Size x Purchases\"]=data_interaction[\"Size\"]*(data_interaction[\"In App Purchases\"]+1)\n",
    "data_interaction[data_interaction[\"Editors Choice\"]==True].head() # from this we see that popular apps\n",
    "# with high number of installs and are Editors Choice tend to have higher rating, so the encoding makes sense"
   ]
  },
  {
   "cell_type": "code",
   "execution_count": 82,
   "metadata": {},
   "outputs": [],
   "source": [
    "y_interaction=data_interaction[\"Rating\"]\n",
    "x_interaction=data_interaction.drop(\"Rating\", axis=1)\n",
    "cat_feature = [\"Category\", \"Content Rating\"]\n",
    "binary_feature = [\"Ad Supported\", \"In App Purchases\", \"Editors Choice\"]\n",
    "num_feature = [\"Maximum Installs\",\"Price\", \"Size\", \"Installs x Editors\", \"Size x Purchases\"]\n",
    "\n",
    "le = preprocessing.LabelEncoder()\n",
    "\n",
    "for i in binary_feature: # this is trivial so can be kept out of the pipeline\n",
    "    x_interaction[i] = le.fit_transform(x_interaction[i])\n",
    "num_pipeline = Pipeline([\n",
    "        ('std_scaler', StandardScaler())\n",
    "    ])\n",
    "full_pipeline = ColumnTransformer([\n",
    "        (\"num\", num_pipeline, num_feature),\n",
    "        (\"cat\", OneHotEncoder(), cat_feature), \n",
    "    #OneHot encodes whether something is present or not\n",
    "    ])"
   ]
  },
  {
   "cell_type": "code",
   "execution_count": 84,
   "metadata": {},
   "outputs": [],
   "source": [
    "x_interaction = full_pipeline.fit_transform(x_interaction)\n",
    "train_x, test_x, train_y, test_y = train_test_split(x,y,test_size = 0.2, random_state = 0)\n",
    "from sklearn import decomposition\n",
    "pca = decomposition.PCA(n_components=6)\n",
    "#toarray() to resolve pca not supporting sparse data\n",
    "# pca still contains the same info as original data\n",
    "train_x = pca.fit_transform(train_x.toarray()) \n",
    "test_x = pca.transform(test_x.toarray())"
   ]
  },
  {
   "cell_type": "code",
   "execution_count": 85,
   "metadata": {},
   "outputs": [],
   "source": [
    "clf = DecisionTreeRegressor()\n",
    "clf.fit(train_x, train_y)\n",
    "predicted = clf.predict(test_x)"
   ]
  },
  {
   "cell_type": "code",
   "execution_count": 86,
   "metadata": {},
   "outputs": [
    {
     "name": "stdout",
     "output_type": "stream",
     "text": [
      "R-squared:  0.7431768585295682\n",
      "mse is:  4.066272323226746\n"
     ]
    }
   ],
   "source": [
    "score = clf.score(train_x,train_y)\n",
    "print(\"R-squared: \", score)\n",
    "mse = mean_squared_error(test_y, predicted)\n",
    "print(\"mse is: \", mse)  # lower MSE!"
   ]
  },
  {
   "cell_type": "markdown",
   "metadata": {},
   "source": [
    "Without hyperparameter tuning, this yields a lower MSE than before."
   ]
  },
  {
   "cell_type": "code",
   "execution_count": 87,
   "metadata": {},
   "outputs": [
    {
     "name": "stdout",
     "output_type": "stream",
     "text": [
      "Fitting 10 folds for each of 36 candidates, totalling 360 fits\n"
     ]
    },
    {
     "name": "stderr",
     "output_type": "stream",
     "text": [
      "/Users/allentong/opt/anaconda3/lib/python3.9/site-packages/scipy/__init__.py:146: UserWarning: A NumPy version >=1.16.5 and <1.23.0 is required for this version of SciPy (detected version 1.24.3\n",
      "  warnings.warn(f\"A NumPy version >={np_minversion} and <{np_maxversion}\"\n",
      "/Users/allentong/opt/anaconda3/lib/python3.9/site-packages/scipy/__init__.py:146: UserWarning: A NumPy version >=1.16.5 and <1.23.0 is required for this version of SciPy (detected version 1.24.3\n",
      "  warnings.warn(f\"A NumPy version >={np_minversion} and <{np_maxversion}\"\n",
      "/Users/allentong/opt/anaconda3/lib/python3.9/site-packages/scipy/__init__.py:146: UserWarning: A NumPy version >=1.16.5 and <1.23.0 is required for this version of SciPy (detected version 1.24.3\n",
      "  warnings.warn(f\"A NumPy version >={np_minversion} and <{np_maxversion}\"\n",
      "/Users/allentong/opt/anaconda3/lib/python3.9/site-packages/scipy/__init__.py:146: UserWarning: A NumPy version >=1.16.5 and <1.23.0 is required for this version of SciPy (detected version 1.24.3\n",
      "  warnings.warn(f\"A NumPy version >={np_minversion} and <{np_maxversion}\"\n",
      "/Users/allentong/opt/anaconda3/lib/python3.9/site-packages/scipy/__init__.py:146: UserWarning: A NumPy version >=1.16.5 and <1.23.0 is required for this version of SciPy (detected version 1.24.3\n",
      "  warnings.warn(f\"A NumPy version >={np_minversion} and <{np_maxversion}\"\n",
      "/Users/allentong/opt/anaconda3/lib/python3.9/site-packages/scipy/__init__.py:146: UserWarning: A NumPy version >=1.16.5 and <1.23.0 is required for this version of SciPy (detected version 1.24.3\n",
      "  warnings.warn(f\"A NumPy version >={np_minversion} and <{np_maxversion}\"\n",
      "/Users/allentong/opt/anaconda3/lib/python3.9/site-packages/scipy/__init__.py:146: UserWarning: A NumPy version >=1.16.5 and <1.23.0 is required for this version of SciPy (detected version 1.24.3\n",
      "  warnings.warn(f\"A NumPy version >={np_minversion} and <{np_maxversion}\"\n",
      "/Users/allentong/opt/anaconda3/lib/python3.9/site-packages/scipy/__init__.py:146: UserWarning: A NumPy version >=1.16.5 and <1.23.0 is required for this version of SciPy (detected version 1.24.3\n",
      "  warnings.warn(f\"A NumPy version >={np_minversion} and <{np_maxversion}\"\n"
     ]
    }
   ],
   "source": [
    "clf = DecisionTreeRegressor(random_state=1)\n",
    "parameters={\"max_depth\" : [80, 85, 95],\n",
    "           \"max_features\":[3, 5], # number of features to consider for a split, None means not restricting\n",
    "            \"min_samples_leaf\":[30, 50, 70],\n",
    "           \"min_impurity_decrease\":[0.000001, 0.000005]} \n",
    "clf_grid = GridSearchCV(estimator = clf, param_grid = parameters, #list of parameters\n",
    "                        n_jobs = -1, cv = kfold, scoring='neg_mean_squared_error', verbose=2) \n",
    "# n_jobs=-1:use all processors; higher the negative mse, lower the mse\n",
    "result=clf_grid.fit(train_x, train_y)"
   ]
  },
  {
   "cell_type": "code",
   "execution_count": 88,
   "metadata": {},
   "outputs": [
    {
     "name": "stdout",
     "output_type": "stream",
     "text": [
      "{'max_depth': 80, 'max_features': 5, 'min_impurity_decrease': 5e-06, 'min_samples_leaf': 30}\n"
     ]
    }
   ],
   "source": [
    "tree_best_param3 = result.best_params_\n",
    "tree_best_score3 = result.best_score_\n",
    "print(tree_best_param3) #add - sign because the scoring was negative mse"
   ]
  },
  {
   "cell_type": "code",
   "execution_count": 89,
   "metadata": {},
   "outputs": [
    {
     "name": "stdout",
     "output_type": "stream",
     "text": [
      "R-squared:  0.48562411059870114\n",
      "mse is:  3.2230375731228493\n",
      "[CV] END max_depth=80, max_features=3, min_impurity_decrease=1e-06, min_samples_leaf=30; total time=  10.6s\n",
      "[CV] END max_depth=80, max_features=3, min_impurity_decrease=1e-06, min_samples_leaf=30; total time=  10.8s\n",
      "[CV] END max_depth=80, max_features=3, min_impurity_decrease=1e-06, min_samples_leaf=70; total time=   9.9s\n",
      "[CV] END max_depth=80, max_features=3, min_impurity_decrease=1e-06, min_samples_leaf=70; total time=  10.2s\n",
      "[CV] END max_depth=80, max_features=3, min_impurity_decrease=5e-06, min_samples_leaf=30; total time=  11.0s\n",
      "[CV] END max_depth=80, max_features=3, min_impurity_decrease=5e-06, min_samples_leaf=50; total time=  11.1s\n",
      "[CV] END max_depth=80, max_features=3, min_impurity_decrease=5e-06, min_samples_leaf=70; total time=  10.6s\n",
      "[CV] END max_depth=80, max_features=3, min_impurity_decrease=5e-06, min_samples_leaf=70; total time=  14.4s\n",
      "[CV] END max_depth=80, max_features=5, min_impurity_decrease=1e-06, min_samples_leaf=30; total time=  17.4s\n",
      "[CV] END max_depth=80, max_features=5, min_impurity_decrease=1e-06, min_samples_leaf=50; total time=  19.1s\n",
      "[CV] END max_depth=80, max_features=5, min_impurity_decrease=1e-06, min_samples_leaf=70; total time=  19.4s\n",
      "[CV] END max_depth=80, max_features=5, min_impurity_decrease=1e-06, min_samples_leaf=70; total time=  16.5s\n",
      "[CV] END max_depth=80, max_features=5, min_impurity_decrease=5e-06, min_samples_leaf=30; total time=  15.9s\n",
      "[CV] END max_depth=80, max_features=5, min_impurity_decrease=5e-06, min_samples_leaf=50; total time=  15.5s\n",
      "[CV] END max_depth=80, max_features=5, min_impurity_decrease=5e-06, min_samples_leaf=70; total time=  14.2s\n",
      "[CV] END max_depth=85, max_features=3, min_impurity_decrease=1e-06, min_samples_leaf=30; total time=  10.1s\n",
      "[CV] END max_depth=85, max_features=3, min_impurity_decrease=1e-06, min_samples_leaf=50; total time=   9.9s\n",
      "[CV] END max_depth=85, max_features=3, min_impurity_decrease=1e-06, min_samples_leaf=50; total time=  10.0s\n",
      "[CV] END max_depth=85, max_features=3, min_impurity_decrease=1e-06, min_samples_leaf=70; total time=  10.9s\n",
      "[CV] END max_depth=85, max_features=3, min_impurity_decrease=5e-06, min_samples_leaf=30; total time=   9.7s\n",
      "[CV] END max_depth=85, max_features=3, min_impurity_decrease=5e-06, min_samples_leaf=50; total time=  12.2s\n",
      "[CV] END max_depth=85, max_features=3, min_impurity_decrease=5e-06, min_samples_leaf=70; total time=  10.9s\n",
      "[CV] END max_depth=85, max_features=3, min_impurity_decrease=5e-06, min_samples_leaf=70; total time=  11.2s\n",
      "[CV] END max_depth=85, max_features=5, min_impurity_decrease=1e-06, min_samples_leaf=30; total time=  21.1s\n",
      "[CV] END max_depth=85, max_features=5, min_impurity_decrease=1e-06, min_samples_leaf=50; total time=  17.0s\n",
      "[CV] END max_depth=85, max_features=5, min_impurity_decrease=1e-06, min_samples_leaf=70; total time=  16.8s\n",
      "[CV] END max_depth=85, max_features=5, min_impurity_decrease=5e-06, min_samples_leaf=30; total time=  17.1s\n",
      "[CV] END max_depth=85, max_features=5, min_impurity_decrease=5e-06, min_samples_leaf=30; total time=  16.8s\n",
      "[CV] END max_depth=85, max_features=5, min_impurity_decrease=5e-06, min_samples_leaf=50; total time=  14.8s\n",
      "[CV] END max_depth=85, max_features=5, min_impurity_decrease=5e-06, min_samples_leaf=70; total time=  15.5s\n",
      "[CV] END max_depth=95, max_features=3, min_impurity_decrease=1e-06, min_samples_leaf=30; total time=   9.7s\n",
      "[CV] END max_depth=95, max_features=3, min_impurity_decrease=1e-06, min_samples_leaf=30; total time=  11.2s\n",
      "[CV] END max_depth=95, max_features=3, min_impurity_decrease=1e-06, min_samples_leaf=50; total time=  10.1s\n",
      "[CV] END max_depth=95, max_features=3, min_impurity_decrease=1e-06, min_samples_leaf=70; total time=   9.1s\n",
      "[CV] END max_depth=95, max_features=3, min_impurity_decrease=5e-06, min_samples_leaf=30; total time=   9.0s\n",
      "[CV] END max_depth=95, max_features=3, min_impurity_decrease=5e-06, min_samples_leaf=30; total time=  10.0s\n",
      "[CV] END max_depth=95, max_features=3, min_impurity_decrease=5e-06, min_samples_leaf=50; total time=   9.4s\n",
      "[CV] END max_depth=95, max_features=3, min_impurity_decrease=5e-06, min_samples_leaf=70; total time=   9.2s\n",
      "[CV] END max_depth=95, max_features=5, min_impurity_decrease=1e-06, min_samples_leaf=30; total time=  14.1s\n",
      "[CV] END max_depth=95, max_features=5, min_impurity_decrease=1e-06, min_samples_leaf=50; total time=  14.2s\n",
      "[CV] END max_depth=95, max_features=5, min_impurity_decrease=1e-06, min_samples_leaf=70; total time=  13.6s\n",
      "[CV] END max_depth=95, max_features=5, min_impurity_decrease=1e-06, min_samples_leaf=70; total time=  13.8s\n",
      "[CV] END max_depth=95, max_features=5, min_impurity_decrease=5e-06, min_samples_leaf=30; total time=  13.7s\n",
      "[CV] END max_depth=95, max_features=5, min_impurity_decrease=5e-06, min_samples_leaf=50; total time=  13.9s\n",
      "[CV] END max_depth=95, max_features=5, min_impurity_decrease=5e-06, min_samples_leaf=70; total time=  14.0s\n",
      "[CV] END max_depth=80, max_features=3, min_impurity_decrease=1e-06, min_samples_leaf=30; total time=  10.8s\n",
      "[CV] END max_depth=80, max_features=3, min_impurity_decrease=1e-06, min_samples_leaf=50; total time=  10.3s\n",
      "[CV] END max_depth=80, max_features=3, min_impurity_decrease=1e-06, min_samples_leaf=50; total time=  10.1s\n",
      "[CV] END max_depth=80, max_features=3, min_impurity_decrease=1e-06, min_samples_leaf=70; total time=  11.2s\n",
      "[CV] END max_depth=80, max_features=3, min_impurity_decrease=5e-06, min_samples_leaf=30; total time=  10.8s\n",
      "[CV] END max_depth=80, max_features=3, min_impurity_decrease=5e-06, min_samples_leaf=50; total time=  12.0s\n",
      "[CV] END max_depth=80, max_features=3, min_impurity_decrease=5e-06, min_samples_leaf=70; total time=  12.0s\n",
      "[CV] END max_depth=80, max_features=5, min_impurity_decrease=1e-06, min_samples_leaf=30; total time=  21.1s\n",
      "[CV] END max_depth=80, max_features=5, min_impurity_decrease=1e-06, min_samples_leaf=50; total time=  15.5s\n",
      "[CV] END max_depth=80, max_features=5, min_impurity_decrease=1e-06, min_samples_leaf=50; total time=  21.1s\n",
      "[CV] END max_depth=80, max_features=5, min_impurity_decrease=1e-06, min_samples_leaf=70; total time=  17.6s\n",
      "[CV] END max_depth=80, max_features=5, min_impurity_decrease=5e-06, min_samples_leaf=30; total time=  15.5s\n",
      "[CV] END max_depth=80, max_features=5, min_impurity_decrease=5e-06, min_samples_leaf=50; total time=  14.6s\n",
      "[CV] END max_depth=80, max_features=5, min_impurity_decrease=5e-06, min_samples_leaf=50; total time=  15.3s\n",
      "[CV] END max_depth=80, max_features=5, min_impurity_decrease=5e-06, min_samples_leaf=70; total time=  14.4s\n",
      "[CV] END max_depth=85, max_features=3, min_impurity_decrease=1e-06, min_samples_leaf=30; total time=   9.7s\n",
      "[CV] END max_depth=85, max_features=3, min_impurity_decrease=1e-06, min_samples_leaf=50; total time=  10.4s\n",
      "[CV] END max_depth=85, max_features=3, min_impurity_decrease=1e-06, min_samples_leaf=70; total time=   9.9s\n",
      "[CV] END max_depth=85, max_features=3, min_impurity_decrease=1e-06, min_samples_leaf=70; total time=  10.4s\n",
      "[CV] END max_depth=85, max_features=3, min_impurity_decrease=5e-06, min_samples_leaf=30; total time=  11.1s\n",
      "[CV] END max_depth=85, max_features=3, min_impurity_decrease=5e-06, min_samples_leaf=50; total time=  12.6s\n",
      "[CV] END max_depth=85, max_features=3, min_impurity_decrease=5e-06, min_samples_leaf=70; total time=  10.9s\n",
      "[CV] END max_depth=85, max_features=5, min_impurity_decrease=1e-06, min_samples_leaf=30; total time=  17.7s\n",
      "[CV] END max_depth=85, max_features=5, min_impurity_decrease=1e-06, min_samples_leaf=30; total time=  21.2s\n",
      "[CV] END max_depth=85, max_features=5, min_impurity_decrease=1e-06, min_samples_leaf=50; total time=  17.0s\n",
      "[CV] END max_depth=85, max_features=5, min_impurity_decrease=1e-06, min_samples_leaf=70; total time=  15.2s\n",
      "[CV] END max_depth=85, max_features=5, min_impurity_decrease=5e-06, min_samples_leaf=30; total time=  18.8s\n",
      "[CV] END max_depth=85, max_features=5, min_impurity_decrease=5e-06, min_samples_leaf=50; total time=  14.3s\n",
      "[CV] END max_depth=85, max_features=5, min_impurity_decrease=5e-06, min_samples_leaf=50; total time=  14.9s\n",
      "[CV] END max_depth=85, max_features=5, min_impurity_decrease=5e-06, min_samples_leaf=70; total time=  14.9s\n",
      "[CV] END max_depth=95, max_features=3, min_impurity_decrease=1e-06, min_samples_leaf=50; total time=  11.2s\n",
      "[CV] END max_depth=95, max_features=3, min_impurity_decrease=1e-06, min_samples_leaf=50; total time=  10.0s\n",
      "[CV] END max_depth=95, max_features=3, min_impurity_decrease=1e-06, min_samples_leaf=70; total time=  10.1s\n",
      "[CV] END max_depth=95, max_features=3, min_impurity_decrease=5e-06, min_samples_leaf=30; total time=   8.9s\n",
      "[CV] END max_depth=95, max_features=3, min_impurity_decrease=5e-06, min_samples_leaf=50; total time=   9.1s\n",
      "[CV] END max_depth=95, max_features=3, min_impurity_decrease=5e-06, min_samples_leaf=50; total time=   8.9s\n",
      "[CV] END max_depth=95, max_features=3, min_impurity_decrease=5e-06, min_samples_leaf=70; total time=   9.9s\n",
      "[CV] END max_depth=95, max_features=5, min_impurity_decrease=1e-06, min_samples_leaf=30; total time=  14.2s\n",
      "[CV] END max_depth=95, max_features=5, min_impurity_decrease=1e-06, min_samples_leaf=50; total time=  14.4s\n",
      "[CV] END max_depth=95, max_features=5, min_impurity_decrease=1e-06, min_samples_leaf=70; total time=  13.8s\n",
      "[CV] END max_depth=95, max_features=5, min_impurity_decrease=5e-06, min_samples_leaf=30; total time=  12.6s\n",
      "[CV] END max_depth=95, max_features=5, min_impurity_decrease=5e-06, min_samples_leaf=30; total time=  14.3s\n",
      "[CV] END max_depth=95, max_features=5, min_impurity_decrease=5e-06, min_samples_leaf=50; total time=  13.5s\n",
      "[CV] END max_depth=95, max_features=5, min_impurity_decrease=5e-06, min_samples_leaf=70; total time=  14.3s\n"
     ]
    },
    {
     "name": "stdout",
     "output_type": "stream",
     "text": [
      "[CV] END max_depth=80, max_features=3, min_impurity_decrease=1e-06, min_samples_leaf=30; total time=  10.8s\n",
      "[CV] END max_depth=80, max_features=3, min_impurity_decrease=1e-06, min_samples_leaf=50; total time=  10.2s\n",
      "[CV] END max_depth=80, max_features=3, min_impurity_decrease=1e-06, min_samples_leaf=50; total time=   9.5s\n",
      "[CV] END max_depth=80, max_features=3, min_impurity_decrease=1e-06, min_samples_leaf=70; total time=  10.0s\n",
      "[CV] END max_depth=80, max_features=3, min_impurity_decrease=5e-06, min_samples_leaf=30; total time=  11.6s\n",
      "[CV] END max_depth=80, max_features=3, min_impurity_decrease=5e-06, min_samples_leaf=50; total time=  10.5s\n",
      "[CV] END max_depth=80, max_features=3, min_impurity_decrease=5e-06, min_samples_leaf=50; total time=  10.8s\n",
      "[CV] END max_depth=80, max_features=3, min_impurity_decrease=5e-06, min_samples_leaf=70; total time=  15.3s\n",
      "[CV] END max_depth=80, max_features=5, min_impurity_decrease=1e-06, min_samples_leaf=30; total time=  18.1s\n",
      "[CV] END max_depth=80, max_features=5, min_impurity_decrease=1e-06, min_samples_leaf=50; total time=  18.8s\n",
      "[CV] END max_depth=80, max_features=5, min_impurity_decrease=1e-06, min_samples_leaf=70; total time=  18.8s\n",
      "[CV] END max_depth=80, max_features=5, min_impurity_decrease=1e-06, min_samples_leaf=70; total time=  16.0s\n",
      "[CV] END max_depth=80, max_features=5, min_impurity_decrease=5e-06, min_samples_leaf=30; total time=  14.7s\n",
      "[CV] END max_depth=80, max_features=5, min_impurity_decrease=5e-06, min_samples_leaf=50; total time=  14.9s\n",
      "[CV] END max_depth=80, max_features=5, min_impurity_decrease=5e-06, min_samples_leaf=70; total time=  14.6s\n",
      "[CV] END max_depth=85, max_features=3, min_impurity_decrease=1e-06, min_samples_leaf=30; total time=  11.1s\n",
      "[CV] END max_depth=85, max_features=3, min_impurity_decrease=1e-06, min_samples_leaf=30; total time=   9.9s\n",
      "[CV] END max_depth=85, max_features=3, min_impurity_decrease=1e-06, min_samples_leaf=50; total time=   9.8s\n",
      "[CV] END max_depth=85, max_features=3, min_impurity_decrease=1e-06, min_samples_leaf=70; total time=  10.9s\n",
      "[CV] END max_depth=85, max_features=3, min_impurity_decrease=5e-06, min_samples_leaf=30; total time=  11.1s\n",
      "[CV] END max_depth=85, max_features=3, min_impurity_decrease=5e-06, min_samples_leaf=50; total time=  12.0s\n",
      "[CV] END max_depth=85, max_features=3, min_impurity_decrease=5e-06, min_samples_leaf=70; total time=  10.6s\n",
      "[CV] END max_depth=85, max_features=3, min_impurity_decrease=5e-06, min_samples_leaf=70; total time=  12.6s\n",
      "[CV] END max_depth=85, max_features=5, min_impurity_decrease=1e-06, min_samples_leaf=30; total time=  21.4s\n",
      "[CV] END max_depth=85, max_features=5, min_impurity_decrease=1e-06, min_samples_leaf=50; total time=  17.1s\n",
      "[CV] END max_depth=85, max_features=5, min_impurity_decrease=1e-06, min_samples_leaf=70; total time=  16.7s\n",
      "[CV] END max_depth=85, max_features=5, min_impurity_decrease=5e-06, min_samples_leaf=30; total time=  15.7s\n",
      "[CV] END max_depth=85, max_features=5, min_impurity_decrease=5e-06, min_samples_leaf=30; total time=  17.2s\n",
      "[CV] END max_depth=85, max_features=5, min_impurity_decrease=5e-06, min_samples_leaf=50; total time=  15.0s\n",
      "[CV] END max_depth=85, max_features=5, min_impurity_decrease=5e-06, min_samples_leaf=70; total time=  14.3s\n",
      "[CV] END max_depth=95, max_features=3, min_impurity_decrease=1e-06, min_samples_leaf=30; total time=  10.3s\n",
      "[CV] END max_depth=95, max_features=3, min_impurity_decrease=1e-06, min_samples_leaf=30; total time=  10.9s\n",
      "[CV] END max_depth=95, max_features=3, min_impurity_decrease=1e-06, min_samples_leaf=50; total time=   9.6s\n",
      "[CV] END max_depth=95, max_features=3, min_impurity_decrease=1e-06, min_samples_leaf=70; total time=  10.3s\n",
      "[CV] END max_depth=95, max_features=3, min_impurity_decrease=5e-06, min_samples_leaf=30; total time=  10.2s\n",
      "[CV] END max_depth=95, max_features=3, min_impurity_decrease=5e-06, min_samples_leaf=50; total time=   9.6s\n",
      "[CV] END max_depth=95, max_features=3, min_impurity_decrease=5e-06, min_samples_leaf=70; total time=   8.8s\n",
      "[CV] END max_depth=95, max_features=3, min_impurity_decrease=5e-06, min_samples_leaf=70; total time=   8.9s\n",
      "[CV] END max_depth=95, max_features=5, min_impurity_decrease=1e-06, min_samples_leaf=30; total time=  14.7s\n",
      "[CV] END max_depth=95, max_features=5, min_impurity_decrease=1e-06, min_samples_leaf=50; total time=  14.0s\n",
      "[CV] END max_depth=95, max_features=5, min_impurity_decrease=1e-06, min_samples_leaf=70; total time=  14.1s\n",
      "[CV] END max_depth=95, max_features=5, min_impurity_decrease=5e-06, min_samples_leaf=30; total time=  14.1s\n",
      "[CV] END max_depth=95, max_features=5, min_impurity_decrease=5e-06, min_samples_leaf=30; total time=  14.1s\n",
      "[CV] END max_depth=95, max_features=5, min_impurity_decrease=5e-06, min_samples_leaf=50; total time=  13.9s\n",
      "[CV] END max_depth=95, max_features=5, min_impurity_decrease=5e-06, min_samples_leaf=70; total time=  13.7s\n",
      "[CV] END max_depth=80, max_features=3, min_impurity_decrease=1e-06, min_samples_leaf=30; total time=  10.6s\n",
      "[CV] END max_depth=80, max_features=3, min_impurity_decrease=1e-06, min_samples_leaf=30; total time=  10.4s\n",
      "[CV] END max_depth=80, max_features=3, min_impurity_decrease=1e-06, min_samples_leaf=50; total time=   9.9s\n",
      "[CV] END max_depth=80, max_features=3, min_impurity_decrease=1e-06, min_samples_leaf=70; total time=  11.3s\n",
      "[CV] END max_depth=80, max_features=3, min_impurity_decrease=5e-06, min_samples_leaf=30; total time=  10.8s\n",
      "[CV] END max_depth=80, max_features=3, min_impurity_decrease=5e-06, min_samples_leaf=50; total time=  11.3s\n",
      "[CV] END max_depth=80, max_features=3, min_impurity_decrease=5e-06, min_samples_leaf=70; total time=  10.7s\n",
      "[CV] END max_depth=80, max_features=5, min_impurity_decrease=1e-06, min_samples_leaf=30; total time=  21.8s\n",
      "[CV] END max_depth=80, max_features=5, min_impurity_decrease=1e-06, min_samples_leaf=50; total time=  18.1s\n",
      "[CV] END max_depth=80, max_features=5, min_impurity_decrease=1e-06, min_samples_leaf=50; total time=  22.8s\n",
      "[CV] END max_depth=80, max_features=5, min_impurity_decrease=1e-06, min_samples_leaf=70; total time=  16.9s\n",
      "[CV] END max_depth=80, max_features=5, min_impurity_decrease=5e-06, min_samples_leaf=30; total time=  14.9s\n",
      "[CV] END max_depth=80, max_features=5, min_impurity_decrease=5e-06, min_samples_leaf=50; total time=  14.9s\n",
      "[CV] END max_depth=80, max_features=5, min_impurity_decrease=5e-06, min_samples_leaf=70; total time=  13.9s\n",
      "[CV] END max_depth=80, max_features=5, min_impurity_decrease=5e-06, min_samples_leaf=70; total time=  14.9s\n",
      "[CV] END max_depth=85, max_features=3, min_impurity_decrease=1e-06, min_samples_leaf=30; total time=  10.2s\n",
      "[CV] END max_depth=85, max_features=3, min_impurity_decrease=1e-06, min_samples_leaf=50; total time=  10.1s\n",
      "[CV] END max_depth=85, max_features=3, min_impurity_decrease=1e-06, min_samples_leaf=70; total time=  10.0s\n",
      "[CV] END max_depth=85, max_features=3, min_impurity_decrease=5e-06, min_samples_leaf=30; total time=  10.2s\n",
      "[CV] END max_depth=85, max_features=3, min_impurity_decrease=5e-06, min_samples_leaf=30; total time=  12.4s\n",
      "[CV] END max_depth=85, max_features=3, min_impurity_decrease=5e-06, min_samples_leaf=50; total time=  11.1s\n",
      "[CV] END max_depth=85, max_features=3, min_impurity_decrease=5e-06, min_samples_leaf=70; total time=  11.1s\n",
      "[CV] END max_depth=85, max_features=5, min_impurity_decrease=1e-06, min_samples_leaf=30; total time=  18.2s\n",
      "[CV] END max_depth=85, max_features=5, min_impurity_decrease=1e-06, min_samples_leaf=50; total time=  20.7s\n",
      "[CV] END max_depth=85, max_features=5, min_impurity_decrease=1e-06, min_samples_leaf=50; total time=  17.9s\n",
      "[CV] END max_depth=85, max_features=5, min_impurity_decrease=1e-06, min_samples_leaf=70; total time=  17.7s\n",
      "[CV] END max_depth=85, max_features=5, min_impurity_decrease=5e-06, min_samples_leaf=30; total time=  16.5s\n",
      "[CV] END max_depth=85, max_features=5, min_impurity_decrease=5e-06, min_samples_leaf=50; total time=  14.3s\n",
      "[CV] END max_depth=85, max_features=5, min_impurity_decrease=5e-06, min_samples_leaf=70; total time=  15.7s\n",
      "[CV] END max_depth=95, max_features=3, min_impurity_decrease=1e-06, min_samples_leaf=30; total time=   9.8s\n",
      "[CV] END max_depth=95, max_features=3, min_impurity_decrease=1e-06, min_samples_leaf=30; total time=  10.9s\n",
      "[CV] END max_depth=95, max_features=3, min_impurity_decrease=1e-06, min_samples_leaf=50; total time=  10.4s\n",
      "[CV] END max_depth=95, max_features=3, min_impurity_decrease=1e-06, min_samples_leaf=70; total time=   9.6s\n",
      "[CV] END max_depth=95, max_features=3, min_impurity_decrease=5e-06, min_samples_leaf=30; total time=   9.4s\n",
      "[CV] END max_depth=95, max_features=3, min_impurity_decrease=5e-06, min_samples_leaf=30; total time=   9.3s\n",
      "[CV] END max_depth=95, max_features=3, min_impurity_decrease=5e-06, min_samples_leaf=50; total time=   8.8s\n",
      "[CV] END max_depth=95, max_features=3, min_impurity_decrease=5e-06, min_samples_leaf=70; total time=   9.3s\n",
      "[CV] END max_depth=95, max_features=5, min_impurity_decrease=1e-06, min_samples_leaf=30; total time=  14.2s\n",
      "[CV] END max_depth=95, max_features=5, min_impurity_decrease=1e-06, min_samples_leaf=50; total time=  15.1s\n",
      "[CV] END max_depth=95, max_features=5, min_impurity_decrease=1e-06, min_samples_leaf=50; total time=  15.0s\n",
      "[CV] END max_depth=95, max_features=5, min_impurity_decrease=1e-06, min_samples_leaf=70; total time=  14.9s\n",
      "[CV] END max_depth=95, max_features=5, min_impurity_decrease=5e-06, min_samples_leaf=30; total time=  14.6s\n",
      "[CV] END max_depth=95, max_features=5, min_impurity_decrease=5e-06, min_samples_leaf=50; total time=  14.0s\n",
      "[CV] END max_depth=95, max_features=5, min_impurity_decrease=5e-06, min_samples_leaf=70; total time=  12.9s\n"
     ]
    },
    {
     "name": "stdout",
     "output_type": "stream",
     "text": [
      "[CV] END max_depth=80, max_features=3, min_impurity_decrease=1e-06, min_samples_leaf=30; total time=  10.7s\n",
      "[CV] END max_depth=80, max_features=3, min_impurity_decrease=1e-06, min_samples_leaf=50; total time=  10.4s\n",
      "[CV] END max_depth=80, max_features=3, min_impurity_decrease=1e-06, min_samples_leaf=50; total time=  10.5s\n",
      "[CV] END max_depth=80, max_features=3, min_impurity_decrease=5e-06, min_samples_leaf=30; total time=  10.9s\n",
      "[CV] END max_depth=80, max_features=3, min_impurity_decrease=5e-06, min_samples_leaf=30; total time=  11.1s\n",
      "[CV] END max_depth=80, max_features=3, min_impurity_decrease=5e-06, min_samples_leaf=50; total time=  11.3s\n",
      "[CV] END max_depth=80, max_features=3, min_impurity_decrease=5e-06, min_samples_leaf=70; total time=  11.4s\n",
      "[CV] END max_depth=80, max_features=5, min_impurity_decrease=1e-06, min_samples_leaf=30; total time=  20.4s\n",
      "[CV] END max_depth=80, max_features=5, min_impurity_decrease=1e-06, min_samples_leaf=30; total time=  15.8s\n",
      "[CV] END max_depth=80, max_features=5, min_impurity_decrease=1e-06, min_samples_leaf=50; total time=  20.3s\n",
      "[CV] END max_depth=80, max_features=5, min_impurity_decrease=1e-06, min_samples_leaf=70; total time=  18.2s\n",
      "[CV] END max_depth=80, max_features=5, min_impurity_decrease=5e-06, min_samples_leaf=30; total time=  14.9s\n",
      "[CV] END max_depth=80, max_features=5, min_impurity_decrease=5e-06, min_samples_leaf=50; total time=  15.3s\n",
      "[CV] END max_depth=80, max_features=5, min_impurity_decrease=5e-06, min_samples_leaf=50; total time=  14.9s\n",
      "[CV] END max_depth=80, max_features=5, min_impurity_decrease=5e-06, min_samples_leaf=70; total time=  14.9s\n",
      "[CV] END max_depth=85, max_features=3, min_impurity_decrease=1e-06, min_samples_leaf=30; total time=   9.7s\n",
      "[CV] END max_depth=85, max_features=3, min_impurity_decrease=1e-06, min_samples_leaf=50; total time=   9.6s\n",
      "[CV] END max_depth=85, max_features=3, min_impurity_decrease=1e-06, min_samples_leaf=70; total time=   9.6s\n",
      "[CV] END max_depth=85, max_features=3, min_impurity_decrease=1e-06, min_samples_leaf=70; total time=   9.7s\n",
      "[CV] END max_depth=85, max_features=3, min_impurity_decrease=5e-06, min_samples_leaf=30; total time=  10.3s\n",
      "[CV] END max_depth=85, max_features=3, min_impurity_decrease=5e-06, min_samples_leaf=50; total time=  13.2s\n",
      "[CV] END max_depth=85, max_features=3, min_impurity_decrease=5e-06, min_samples_leaf=70; total time=  11.3s\n",
      "[CV] END max_depth=85, max_features=5, min_impurity_decrease=1e-06, min_samples_leaf=30; total time=  17.6s\n",
      "[CV] END max_depth=85, max_features=5, min_impurity_decrease=1e-06, min_samples_leaf=30; total time=  19.7s\n",
      "[CV] END max_depth=85, max_features=5, min_impurity_decrease=1e-06, min_samples_leaf=50; total time=  16.6s\n",
      "[CV] END max_depth=85, max_features=5, min_impurity_decrease=1e-06, min_samples_leaf=70; total time=  16.1s\n",
      "[CV] END max_depth=85, max_features=5, min_impurity_decrease=5e-06, min_samples_leaf=30; total time=  17.8s\n",
      "[CV] END max_depth=85, max_features=5, min_impurity_decrease=5e-06, min_samples_leaf=50; total time=  15.4s\n",
      "[CV] END max_depth=85, max_features=5, min_impurity_decrease=5e-06, min_samples_leaf=50; total time=  14.0s\n",
      "[CV] END max_depth=85, max_features=5, min_impurity_decrease=5e-06, min_samples_leaf=70; total time=  15.0s\n",
      "[CV] END max_depth=95, max_features=3, min_impurity_decrease=1e-06, min_samples_leaf=30; total time=  10.4s\n",
      "[CV] END max_depth=95, max_features=3, min_impurity_decrease=1e-06, min_samples_leaf=50; total time=  10.3s\n",
      "[CV] END max_depth=95, max_features=3, min_impurity_decrease=1e-06, min_samples_leaf=70; total time=   9.5s\n",
      "[CV] END max_depth=95, max_features=3, min_impurity_decrease=1e-06, min_samples_leaf=70; total time=   9.2s\n",
      "[CV] END max_depth=95, max_features=3, min_impurity_decrease=5e-06, min_samples_leaf=30; total time=   9.3s\n",
      "[CV] END max_depth=95, max_features=3, min_impurity_decrease=5e-06, min_samples_leaf=50; total time=   9.7s\n",
      "[CV] END max_depth=95, max_features=3, min_impurity_decrease=5e-06, min_samples_leaf=70; total time=   9.3s\n",
      "[CV] END max_depth=95, max_features=5, min_impurity_decrease=1e-06, min_samples_leaf=30; total time=  14.6s\n",
      "[CV] END max_depth=95, max_features=5, min_impurity_decrease=1e-06, min_samples_leaf=30; total time=  13.1s\n",
      "[CV] END max_depth=95, max_features=5, min_impurity_decrease=1e-06, min_samples_leaf=50; total time=  14.1s\n",
      "[CV] END max_depth=95, max_features=5, min_impurity_decrease=1e-06, min_samples_leaf=70; total time=  13.9s\n",
      "[CV] END max_depth=95, max_features=5, min_impurity_decrease=5e-06, min_samples_leaf=30; total time=  13.7s\n",
      "[CV] END max_depth=95, max_features=5, min_impurity_decrease=5e-06, min_samples_leaf=50; total time=  14.0s\n",
      "[CV] END max_depth=95, max_features=5, min_impurity_decrease=5e-06, min_samples_leaf=50; total time=  13.5s\n",
      "[CV] END max_depth=95, max_features=5, min_impurity_decrease=5e-06, min_samples_leaf=70; total time=  10.9s\n",
      "[CV] END max_depth=80, max_features=3, min_impurity_decrease=1e-06, min_samples_leaf=30; total time=  11.2s\n",
      "[CV] END max_depth=80, max_features=3, min_impurity_decrease=1e-06, min_samples_leaf=50; total time=  10.5s\n",
      "[CV] END max_depth=80, max_features=3, min_impurity_decrease=1e-06, min_samples_leaf=70; total time=   9.6s\n",
      "[CV] END max_depth=80, max_features=3, min_impurity_decrease=1e-06, min_samples_leaf=70; total time=   9.9s\n",
      "[CV] END max_depth=80, max_features=3, min_impurity_decrease=5e-06, min_samples_leaf=30; total time=  10.8s\n",
      "[CV] END max_depth=80, max_features=3, min_impurity_decrease=5e-06, min_samples_leaf=50; total time=  10.3s\n",
      "[CV] END max_depth=80, max_features=3, min_impurity_decrease=5e-06, min_samples_leaf=50; total time=  11.9s\n",
      "[CV] END max_depth=80, max_features=3, min_impurity_decrease=5e-06, min_samples_leaf=70; total time=  14.5s\n",
      "[CV] END max_depth=80, max_features=5, min_impurity_decrease=1e-06, min_samples_leaf=30; total time=  17.9s\n",
      "[CV] END max_depth=80, max_features=5, min_impurity_decrease=1e-06, min_samples_leaf=50; total time=  18.9s\n",
      "[CV] END max_depth=80, max_features=5, min_impurity_decrease=1e-06, min_samples_leaf=70; total time=  19.6s\n",
      "[CV] END max_depth=80, max_features=5, min_impurity_decrease=5e-06, min_samples_leaf=30; total time=  15.5s\n",
      "[CV] END max_depth=80, max_features=5, min_impurity_decrease=5e-06, min_samples_leaf=30; total time=  15.3s\n",
      "[CV] END max_depth=80, max_features=5, min_impurity_decrease=5e-06, min_samples_leaf=50; total time=  15.3s\n",
      "[CV] END max_depth=80, max_features=5, min_impurity_decrease=5e-06, min_samples_leaf=70; total time=  15.0s\n",
      "[CV] END max_depth=85, max_features=3, min_impurity_decrease=1e-06, min_samples_leaf=30; total time=  10.3s\n",
      "[CV] END max_depth=85, max_features=3, min_impurity_decrease=1e-06, min_samples_leaf=50; total time=  10.3s\n",
      "[CV] END max_depth=85, max_features=3, min_impurity_decrease=1e-06, min_samples_leaf=50; total time=  10.2s\n",
      "[CV] END max_depth=85, max_features=3, min_impurity_decrease=1e-06, min_samples_leaf=70; total time=   9.7s\n",
      "[CV] END max_depth=85, max_features=3, min_impurity_decrease=5e-06, min_samples_leaf=30; total time=  10.4s\n",
      "[CV] END max_depth=85, max_features=3, min_impurity_decrease=5e-06, min_samples_leaf=50; total time=  11.7s\n",
      "[CV] END max_depth=85, max_features=3, min_impurity_decrease=5e-06, min_samples_leaf=50; total time=  10.8s\n",
      "[CV] END max_depth=85, max_features=3, min_impurity_decrease=5e-06, min_samples_leaf=70; total time=  11.6s\n",
      "[CV] END max_depth=85, max_features=5, min_impurity_decrease=1e-06, min_samples_leaf=30; total time=  18.9s\n",
      "[CV] END max_depth=85, max_features=5, min_impurity_decrease=1e-06, min_samples_leaf=50; total time=  18.4s\n",
      "[CV] END max_depth=85, max_features=5, min_impurity_decrease=1e-06, min_samples_leaf=70; total time=  16.5s\n",
      "[CV] END max_depth=85, max_features=5, min_impurity_decrease=1e-06, min_samples_leaf=70; total time=  16.1s\n",
      "[CV] END max_depth=85, max_features=5, min_impurity_decrease=5e-06, min_samples_leaf=30; total time=  17.6s\n",
      "[CV] END max_depth=85, max_features=5, min_impurity_decrease=5e-06, min_samples_leaf=50; total time=  14.4s\n",
      "[CV] END max_depth=85, max_features=5, min_impurity_decrease=5e-06, min_samples_leaf=70; total time=  14.6s\n",
      "[CV] END max_depth=95, max_features=3, min_impurity_decrease=1e-06, min_samples_leaf=30; total time=  10.6s\n",
      "[CV] END max_depth=95, max_features=3, min_impurity_decrease=1e-06, min_samples_leaf=30; total time=  10.2s\n",
      "[CV] END max_depth=95, max_features=3, min_impurity_decrease=1e-06, min_samples_leaf=50; total time=  10.8s\n",
      "[CV] END max_depth=95, max_features=3, min_impurity_decrease=1e-06, min_samples_leaf=70; total time=   9.5s\n",
      "[CV] END max_depth=95, max_features=3, min_impurity_decrease=1e-06, min_samples_leaf=70; total time=   9.4s\n",
      "[CV] END max_depth=95, max_features=3, min_impurity_decrease=5e-06, min_samples_leaf=30; total time=   9.5s\n",
      "[CV] END max_depth=95, max_features=3, min_impurity_decrease=5e-06, min_samples_leaf=50; total time=   9.1s\n",
      "[CV] END max_depth=95, max_features=3, min_impurity_decrease=5e-06, min_samples_leaf=70; total time=   8.9s\n",
      "[CV] END max_depth=95, max_features=5, min_impurity_decrease=1e-06, min_samples_leaf=30; total time=  14.5s\n",
      "[CV] END max_depth=95, max_features=5, min_impurity_decrease=1e-06, min_samples_leaf=30; total time=  14.4s\n",
      "[CV] END max_depth=95, max_features=5, min_impurity_decrease=1e-06, min_samples_leaf=50; total time=  13.9s\n",
      "[CV] END max_depth=95, max_features=5, min_impurity_decrease=1e-06, min_samples_leaf=70; total time=  13.9s\n",
      "[CV] END max_depth=95, max_features=5, min_impurity_decrease=5e-06, min_samples_leaf=30; total time=  14.3s\n",
      "[CV] END max_depth=95, max_features=5, min_impurity_decrease=5e-06, min_samples_leaf=50; total time=  13.2s\n",
      "[CV] END max_depth=95, max_features=5, min_impurity_decrease=5e-06, min_samples_leaf=50; total time=  13.9s\n",
      "[CV] END max_depth=95, max_features=5, min_impurity_decrease=5e-06, min_samples_leaf=70; total time=   9.7s\n"
     ]
    },
    {
     "name": "stdout",
     "output_type": "stream",
     "text": [
      "[CV] END max_depth=80, max_features=3, min_impurity_decrease=1e-06, min_samples_leaf=30; total time=  11.5s\n",
      "[CV] END max_depth=80, max_features=3, min_impurity_decrease=1e-06, min_samples_leaf=50; total time=  11.0s\n",
      "[CV] END max_depth=80, max_features=3, min_impurity_decrease=1e-06, min_samples_leaf=70; total time=  10.6s\n",
      "[CV] END max_depth=80, max_features=3, min_impurity_decrease=5e-06, min_samples_leaf=30; total time=  10.1s\n",
      "[CV] END max_depth=80, max_features=3, min_impurity_decrease=5e-06, min_samples_leaf=30; total time=  10.4s\n",
      "[CV] END max_depth=80, max_features=3, min_impurity_decrease=5e-06, min_samples_leaf=50; total time=  10.4s\n",
      "[CV] END max_depth=80, max_features=3, min_impurity_decrease=5e-06, min_samples_leaf=70; total time=  11.5s\n",
      "[CV] END max_depth=80, max_features=5, min_impurity_decrease=1e-06, min_samples_leaf=30; total time=  21.6s\n",
      "[CV] END max_depth=80, max_features=5, min_impurity_decrease=1e-06, min_samples_leaf=30; total time=  17.3s\n",
      "[CV] END max_depth=80, max_features=5, min_impurity_decrease=1e-06, min_samples_leaf=50; total time=  21.9s\n",
      "[CV] END max_depth=80, max_features=5, min_impurity_decrease=1e-06, min_samples_leaf=70; total time=  17.8s\n",
      "[CV] END max_depth=80, max_features=5, min_impurity_decrease=5e-06, min_samples_leaf=30; total time=  15.0s\n",
      "[CV] END max_depth=80, max_features=5, min_impurity_decrease=5e-06, min_samples_leaf=50; total time=  14.8s\n",
      "[CV] END max_depth=80, max_features=5, min_impurity_decrease=5e-06, min_samples_leaf=70; total time=  15.4s\n",
      "[CV] END max_depth=80, max_features=5, min_impurity_decrease=5e-06, min_samples_leaf=70; total time=  15.5s\n",
      "[CV] END max_depth=85, max_features=3, min_impurity_decrease=1e-06, min_samples_leaf=30; total time=  10.5s\n",
      "[CV] END max_depth=85, max_features=3, min_impurity_decrease=1e-06, min_samples_leaf=50; total time=  10.7s\n",
      "[CV] END max_depth=85, max_features=3, min_impurity_decrease=1e-06, min_samples_leaf=70; total time=  10.0s\n",
      "[CV] END max_depth=85, max_features=3, min_impurity_decrease=5e-06, min_samples_leaf=30; total time=   9.8s\n",
      "[CV] END max_depth=85, max_features=3, min_impurity_decrease=5e-06, min_samples_leaf=30; total time=  11.8s\n",
      "[CV] END max_depth=85, max_features=3, min_impurity_decrease=5e-06, min_samples_leaf=50; total time=  11.4s\n",
      "[CV] END max_depth=85, max_features=3, min_impurity_decrease=5e-06, min_samples_leaf=70; total time=  11.4s\n",
      "[CV] END max_depth=85, max_features=5, min_impurity_decrease=1e-06, min_samples_leaf=30; total time=  19.3s\n",
      "[CV] END max_depth=85, max_features=5, min_impurity_decrease=1e-06, min_samples_leaf=50; total time=  17.6s\n",
      "[CV] END max_depth=85, max_features=5, min_impurity_decrease=1e-06, min_samples_leaf=50; total time=  17.3s\n",
      "[CV] END max_depth=85, max_features=5, min_impurity_decrease=1e-06, min_samples_leaf=70; total time=  16.0s\n",
      "[CV] END max_depth=85, max_features=5, min_impurity_decrease=5e-06, min_samples_leaf=30; total time=  17.5s\n",
      "[CV] END max_depth=85, max_features=5, min_impurity_decrease=5e-06, min_samples_leaf=50; total time=  14.5s\n",
      "[CV] END max_depth=85, max_features=5, min_impurity_decrease=5e-06, min_samples_leaf=70; total time=  13.5s\n",
      "[CV] END max_depth=85, max_features=5, min_impurity_decrease=5e-06, min_samples_leaf=70; total time=  14.5s\n",
      "[CV] END max_depth=95, max_features=3, min_impurity_decrease=1e-06, min_samples_leaf=30; total time=  10.9s\n",
      "[CV] END max_depth=95, max_features=3, min_impurity_decrease=1e-06, min_samples_leaf=50; total time=  10.7s\n",
      "[CV] END max_depth=95, max_features=3, min_impurity_decrease=1e-06, min_samples_leaf=70; total time=  10.3s\n",
      "[CV] END max_depth=95, max_features=3, min_impurity_decrease=5e-06, min_samples_leaf=30; total time=   9.2s\n",
      "[CV] END max_depth=95, max_features=3, min_impurity_decrease=5e-06, min_samples_leaf=50; total time=   9.0s\n",
      "[CV] END max_depth=95, max_features=3, min_impurity_decrease=5e-06, min_samples_leaf=50; total time=   9.5s\n",
      "[CV] END max_depth=95, max_features=3, min_impurity_decrease=5e-06, min_samples_leaf=70; total time=   8.9s\n",
      "[CV] END max_depth=95, max_features=5, min_impurity_decrease=1e-06, min_samples_leaf=30; total time=  14.7s\n",
      "[CV] END max_depth=95, max_features=5, min_impurity_decrease=1e-06, min_samples_leaf=50; total time=  13.8s\n",
      "[CV] END max_depth=95, max_features=5, min_impurity_decrease=1e-06, min_samples_leaf=70; total time=  13.0s\n",
      "[CV] END max_depth=95, max_features=5, min_impurity_decrease=1e-06, min_samples_leaf=70; total time=  14.2s\n",
      "[CV] END max_depth=95, max_features=5, min_impurity_decrease=5e-06, min_samples_leaf=30; total time=  13.7s\n",
      "[CV] END max_depth=95, max_features=5, min_impurity_decrease=5e-06, min_samples_leaf=50; total time=  13.5s\n",
      "[CV] END max_depth=95, max_features=5, min_impurity_decrease=5e-06, min_samples_leaf=70; total time=  12.9s\n",
      "[CV] END max_depth=95, max_features=5, min_impurity_decrease=5e-06, min_samples_leaf=70; total time=   9.8s\n",
      "[CV] END max_depth=80, max_features=3, min_impurity_decrease=1e-06, min_samples_leaf=30; total time=  11.2s\n",
      "[CV] END max_depth=80, max_features=3, min_impurity_decrease=1e-06, min_samples_leaf=50; total time=  10.8s\n",
      "[CV] END max_depth=80, max_features=3, min_impurity_decrease=1e-06, min_samples_leaf=70; total time=   9.5s\n",
      "[CV] END max_depth=80, max_features=3, min_impurity_decrease=1e-06, min_samples_leaf=70; total time=  10.3s\n",
      "[CV] END max_depth=80, max_features=3, min_impurity_decrease=5e-06, min_samples_leaf=30; total time=  10.2s\n",
      "[CV] END max_depth=80, max_features=3, min_impurity_decrease=5e-06, min_samples_leaf=50; total time=  10.9s\n",
      "[CV] END max_depth=80, max_features=3, min_impurity_decrease=5e-06, min_samples_leaf=70; total time=  10.8s\n",
      "[CV] END max_depth=80, max_features=3, min_impurity_decrease=5e-06, min_samples_leaf=70; total time=  16.2s\n",
      "[CV] END max_depth=80, max_features=5, min_impurity_decrease=1e-06, min_samples_leaf=30; total time=  17.2s\n",
      "[CV] END max_depth=80, max_features=5, min_impurity_decrease=1e-06, min_samples_leaf=50; total time=  19.5s\n",
      "[CV] END max_depth=80, max_features=5, min_impurity_decrease=1e-06, min_samples_leaf=70; total time=  19.2s\n",
      "[CV] END max_depth=80, max_features=5, min_impurity_decrease=5e-06, min_samples_leaf=30; total time=  14.1s\n",
      "[CV] END max_depth=80, max_features=5, min_impurity_decrease=5e-06, min_samples_leaf=30; total time=  15.4s\n",
      "[CV] END max_depth=80, max_features=5, min_impurity_decrease=5e-06, min_samples_leaf=50; total time=  14.7s\n",
      "[CV] END max_depth=80, max_features=5, min_impurity_decrease=5e-06, min_samples_leaf=70; total time=  15.3s\n",
      "[CV] END max_depth=85, max_features=3, min_impurity_decrease=1e-06, min_samples_leaf=30; total time=  10.1s\n",
      "[CV] END max_depth=85, max_features=3, min_impurity_decrease=1e-06, min_samples_leaf=30; total time=  10.1s\n",
      "[CV] END max_depth=85, max_features=3, min_impurity_decrease=1e-06, min_samples_leaf=50; total time=  10.2s\n",
      "[CV] END max_depth=85, max_features=3, min_impurity_decrease=1e-06, min_samples_leaf=70; total time=  10.7s\n",
      "[CV] END max_depth=85, max_features=3, min_impurity_decrease=5e-06, min_samples_leaf=30; total time=  10.2s\n",
      "[CV] END max_depth=85, max_features=3, min_impurity_decrease=5e-06, min_samples_leaf=50; total time=  11.7s\n",
      "[CV] END max_depth=85, max_features=3, min_impurity_decrease=5e-06, min_samples_leaf=50; total time=  11.9s\n",
      "[CV] END max_depth=85, max_features=3, min_impurity_decrease=5e-06, min_samples_leaf=70; total time=  11.2s\n",
      "[CV] END max_depth=85, max_features=5, min_impurity_decrease=1e-06, min_samples_leaf=30; total time=  21.1s\n",
      "[CV] END max_depth=85, max_features=5, min_impurity_decrease=1e-06, min_samples_leaf=50; total time=  16.7s\n",
      "[CV] END max_depth=85, max_features=5, min_impurity_decrease=1e-06, min_samples_leaf=70; total time=  15.4s\n",
      "[CV] END max_depth=85, max_features=5, min_impurity_decrease=1e-06, min_samples_leaf=70; total time=  15.2s\n",
      "[CV] END max_depth=85, max_features=5, min_impurity_decrease=5e-06, min_samples_leaf=30; total time=  17.4s\n",
      "[CV] END max_depth=85, max_features=5, min_impurity_decrease=5e-06, min_samples_leaf=50; total time=  14.8s\n",
      "[CV] END max_depth=85, max_features=5, min_impurity_decrease=5e-06, min_samples_leaf=70; total time=  15.0s\n",
      "[CV] END max_depth=85, max_features=5, min_impurity_decrease=5e-06, min_samples_leaf=70; total time=  15.2s\n",
      "[CV] END max_depth=95, max_features=3, min_impurity_decrease=1e-06, min_samples_leaf=50; total time=  10.7s\n",
      "[CV] END max_depth=95, max_features=3, min_impurity_decrease=1e-06, min_samples_leaf=50; total time=  10.2s\n",
      "[CV] END max_depth=95, max_features=3, min_impurity_decrease=1e-06, min_samples_leaf=70; total time=   9.1s\n",
      "[CV] END max_depth=95, max_features=3, min_impurity_decrease=5e-06, min_samples_leaf=30; total time=   9.4s\n",
      "[CV] END max_depth=95, max_features=3, min_impurity_decrease=5e-06, min_samples_leaf=50; total time=   9.1s\n",
      "[CV] END max_depth=95, max_features=3, min_impurity_decrease=5e-06, min_samples_leaf=70; total time=   8.6s\n",
      "[CV] END max_depth=95, max_features=3, min_impurity_decrease=5e-06, min_samples_leaf=70; total time=   9.0s\n",
      "[CV] END max_depth=95, max_features=5, min_impurity_decrease=1e-06, min_samples_leaf=30; total time=  14.0s\n",
      "[CV] END max_depth=95, max_features=5, min_impurity_decrease=1e-06, min_samples_leaf=50; total time=  13.4s\n",
      "[CV] END max_depth=95, max_features=5, min_impurity_decrease=1e-06, min_samples_leaf=50; total time=  14.2s\n",
      "[CV] END max_depth=95, max_features=5, min_impurity_decrease=1e-06, min_samples_leaf=70; total time=  14.3s\n",
      "[CV] END max_depth=95, max_features=5, min_impurity_decrease=5e-06, min_samples_leaf=30; total time=  13.8s\n",
      "[CV] END max_depth=95, max_features=5, min_impurity_decrease=5e-06, min_samples_leaf=50; total time=  13.6s\n",
      "[CV] END max_depth=95, max_features=5, min_impurity_decrease=5e-06, min_samples_leaf=70; total time=  13.6s\n",
      "[CV] END max_depth=95, max_features=5, min_impurity_decrease=5e-06, min_samples_leaf=70; total time=   9.7s\n"
     ]
    }
   ],
   "source": [
    "clf = DecisionTreeRegressor(max_features = 5,max_depth = 80, \n",
    "                            min_impurity_decrease=5e-06, min_samples_leaf= 30)\n",
    "clf.fit(train_x, train_y)\n",
    "predicted = clf.predict(test_x)\n",
    "\n",
    "score = clf.score(train_x,train_y)\n",
    "print(\"R-squared: \", score)\n",
    "mse = mean_squared_error(test_y, predicted)\n",
    "print(\"mse is: \", mse) "
   ]
  },
  {
   "cell_type": "markdown",
   "metadata": {},
   "source": [
    "## Predict Rating with default KNN"
   ]
  },
  {
   "cell_type": "code",
   "execution_count": 52,
   "metadata": {
    "scrolled": true
   },
   "outputs": [
    {
     "name": "stdout",
     "output_type": "stream",
     "text": [
      "mse is:  4.146555541545049\n"
     ]
    }
   ],
   "source": [
    "from sklearn.neighbors import KNeighborsRegressor\n",
    "knn = KNeighborsRegressor(n_neighbors=100) # set 100 neighbors since we have a lot of data\n",
    "knn.fit(train_x,train_y)\n",
    "predicted = knn.predict(test_x)\n",
    "mse = mean_squared_error(test_y, predicted)\n",
    "print(\"mse is: \", mse)"
   ]
  },
  {
   "cell_type": "markdown",
   "metadata": {},
   "source": [
    "### Tuning and find best hyperparameters for KNN\n",
    "\n",
    "There are three hyperparameters that we consider tuning to check if they can imporve the result for KNN model.\n",
    "\n",
    "**n_neighbors**: This hyperparameter determine the number of nearest neighbors to be used in the regression for perdicting the target given a specific value of 'x'. Increasing the value of n_neighbors will result in a smoother prediction. However, it will also increaes the computational complexity.\n",
    "\n",
    "**weights**: This hyperparameter controlls how the contributions of neighbors are weighted in the regression. We want to test two different weight values: \"uniform\" and \"distance\".\n",
    "- \"uniform\" weight assigns equal weight to all neighbors.\n",
    "- \"distance\" weight assigns weight to the neighbors based on their distance from the value of 'x'. Neighbors that are closer would have more influence on the prediction.\n",
    "\n",
    "**p**: This hyperparameter is used for calculate distance between data points. When 'p' = 1, it uses the Manhattan distance (L1 norm). When 'p' = 2, it uses the Euclidean distance (L2 norm). 'p' = 2 is commonly used when calculating distance. "
   ]
  },
  {
   "cell_type": "code",
   "execution_count": 57,
   "metadata": {
    "scrolled": true
   },
   "outputs": [
    {
     "name": "stderr",
     "output_type": "stream",
     "text": [
      "C:\\Users\\yongj\\anaconda3\\lib\\site-packages\\sklearn\\model_selection\\_search.py:305: UserWarning: The total space of parameters 12 is smaller than n_iter=100. Running 12 iterations. For exhaustive searches, use GridSearchCV.\n",
      "  warnings.warn(\n"
     ]
    },
    {
     "name": "stdout",
     "output_type": "stream",
     "text": [
      "Fitting 3 folds for each of 12 candidates, totalling 36 fits\n",
      "[CV] END ..............n_neighbors=100, p=1, weights=uniform; total time= 1.8min\n",
      "[CV] END ..............n_neighbors=100, p=1, weights=uniform; total time= 1.9min\n",
      "[CV] END ..............n_neighbors=100, p=1, weights=uniform; total time= 1.8min\n",
      "[CV] END .............n_neighbors=100, p=1, weights=distance; total time= 1.9min\n",
      "[CV] END .............n_neighbors=100, p=1, weights=distance; total time= 1.8min\n",
      "[CV] END .............n_neighbors=100, p=1, weights=distance; total time= 1.8min\n",
      "[CV] END ..............n_neighbors=100, p=2, weights=uniform; total time= 1.8min\n",
      "[CV] END ..............n_neighbors=100, p=2, weights=uniform; total time= 1.8min\n",
      "[CV] END ..............n_neighbors=100, p=2, weights=uniform; total time= 1.8min\n",
      "[CV] END .............n_neighbors=100, p=2, weights=distance; total time= 4.2min\n",
      "[CV] END .............n_neighbors=100, p=2, weights=distance; total time= 5.0min\n",
      "[CV] END .............n_neighbors=100, p=2, weights=distance; total time= 4.3min\n",
      "[CV] END ..............n_neighbors=150, p=1, weights=uniform; total time= 4.9min\n",
      "[CV] END ..............n_neighbors=150, p=1, weights=uniform; total time= 4.8min\n",
      "[CV] END ..............n_neighbors=150, p=1, weights=uniform; total time= 4.8min\n",
      "[CV] END .............n_neighbors=150, p=1, weights=distance; total time= 5.1min\n",
      "[CV] END .............n_neighbors=150, p=1, weights=distance; total time= 5.3min\n",
      "[CV] END .............n_neighbors=150, p=1, weights=distance; total time= 4.6min\n",
      "[CV] END ..............n_neighbors=150, p=2, weights=uniform; total time= 4.8min\n",
      "[CV] END ..............n_neighbors=150, p=2, weights=uniform; total time= 4.6min\n",
      "[CV] END ..............n_neighbors=150, p=2, weights=uniform; total time= 4.5min\n",
      "[CV] END .............n_neighbors=150, p=2, weights=distance; total time= 4.7min\n",
      "[CV] END .............n_neighbors=150, p=2, weights=distance; total time= 4.7min\n",
      "[CV] END .............n_neighbors=150, p=2, weights=distance; total time= 4.6min\n",
      "[CV] END ..............n_neighbors=200, p=1, weights=uniform; total time= 5.2min\n",
      "[CV] END ..............n_neighbors=200, p=1, weights=uniform; total time= 5.0min\n",
      "[CV] END ..............n_neighbors=200, p=1, weights=uniform; total time= 5.0min\n",
      "[CV] END .............n_neighbors=200, p=1, weights=distance; total time= 5.6min\n",
      "[CV] END .............n_neighbors=200, p=1, weights=distance; total time= 5.6min\n",
      "[CV] END .............n_neighbors=200, p=1, weights=distance; total time= 4.9min\n",
      "[CV] END ..............n_neighbors=200, p=2, weights=uniform; total time= 3.5min\n",
      "[CV] END ..............n_neighbors=200, p=2, weights=uniform; total time= 3.5min\n",
      "[CV] END ..............n_neighbors=200, p=2, weights=uniform; total time= 3.5min\n",
      "[CV] END .............n_neighbors=200, p=2, weights=distance; total time= 3.5min\n",
      "[CV] END .............n_neighbors=200, p=2, weights=distance; total time= 3.5min\n",
      "[CV] END .............n_neighbors=200, p=2, weights=distance; total time= 3.5min\n"
     ]
    },
    {
     "data": {
      "text/plain": [
       "{'weights': 'uniform', 'p': 1, 'n_neighbors': 200}"
      ]
     },
     "execution_count": 57,
     "metadata": {},
     "output_type": "execute_result"
    }
   ],
   "source": [
    "from sklearn.model_selection import RandomizedSearchCV\n",
    "knn = KNeighborsRegressor()\n",
    "parameters={\"n_neighbors\": [100,150,200],\n",
    "            \"weights\": ['uniform','distance'],\n",
    "            \"p\": [1,2]\n",
    "           }\n",
    "clf_random = RandomizedSearchCV(estimator = knn, param_distributions = parameters, n_iter = 100, cv = 3, verbose=2, random_state=0)\n",
    "clf_random.fit(train_x, train_y)\n",
    "clf_random.best_params_"
   ]
  },
  {
   "cell_type": "markdown",
   "metadata": {},
   "source": [
    "### KNN with best hyperparameters\n",
    "\n",
    "After tuning the hyperparameters, we have decided to use a uniform weight, L1 norm (Manhattan distance), and 200 neighbors."
   ]
  },
  {
   "cell_type": "code",
   "execution_count": 58,
   "metadata": {
    "scrolled": true
   },
   "outputs": [
    {
     "name": "stdout",
     "output_type": "stream",
     "text": [
      "mse is:  4.129191648540657\n"
     ]
    }
   ],
   "source": [
    "from sklearn.neighbors import KNeighborsRegressor\n",
    "knn = KNeighborsRegressor(n_neighbors=200, weights='uniform', p = 1)\n",
    "knn.fit(train_x,train_y)\n",
    "predicted = knn.predict(test_x)\n",
    "mse = mean_squared_error(test_y, predicted)\n",
    "print(\"mse is: \", mse)"
   ]
  },
  {
   "cell_type": "markdown",
   "metadata": {},
   "source": [
    "### Result for KNN\n",
    "\n",
    "Before tuning the hyperparameters, the MSE was 4.147. After tuning the hyperparameters, the MSE improved slightly to 4.129.\n",
    "\n",
    "A lower MSE indicates better model performance. However, the difference between the MSE values before and after tuning is relatively small. It's important to note that increasing the value of \"n_neighbors\" from 100 to 200 generally results in a higher complexity of the KNN model. With more neighbors considered, the model needs to compare distances and make predictions based on a larger set of data points. Although changing the default value of 'p=2' to 'p=1' may slightly affect the complexity, the slight improvement in MSE achieved by increasing the complexity of the model is generally not considered worthwhile."
   ]
  }
 ],
 "metadata": {
  "colab": {
   "provenance": []
  },
  "kernelspec": {
   "display_name": "Python 3 (ipykernel)",
   "language": "python",
   "name": "python3"
  },
  "language_info": {
   "codemirror_mode": {
    "name": "ipython",
    "version": 3
   },
   "file_extension": ".py",
   "mimetype": "text/x-python",
   "name": "python",
   "nbconvert_exporter": "python",
   "pygments_lexer": "ipython3",
   "version": "3.9.7"
  }
 },
 "nbformat": 4,
 "nbformat_minor": 1
}
