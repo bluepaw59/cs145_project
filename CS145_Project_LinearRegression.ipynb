{
 "cells": [
  {
   "attachments": {},
   "cell_type": "markdown",
   "metadata": {},
   "source": [
    "# CS145 Final Project: Linear Regression"
   ]
  },
  {
   "cell_type": "code",
   "execution_count": 3,
   "metadata": {},
   "outputs": [],
   "source": [
    "# necessary imports\n",
    "import statistics\n",
    "\n",
    "# import the data\n",
    "from implementationCode.linearRegression import LinearRegression"
   ]
  },
  {
   "cell_type": "code",
   "execution_count": 4,
   "metadata": {},
   "outputs": [],
   "source": [
    "# build the model for predicting ratings (includes all categories of apps; run it 3 times to compare MSE scores)\n",
    "catName = 'All'\n",
    "\n",
    "# lists to store output from all iterations\n",
    "trainMSEItersClosed = []\n",
    "trainMSEItersBatch = []\n",
    "trainMSEItersSklearn = []\n",
    "testMSEItersClosed = []\n",
    "testMSEItersBatch = []\n",
    "testMSEItersSklearn = []\n",
    "\n",
    "betasAll = []\n",
    "\n",
    "# do multiple iterations of linearRegression\n",
    "for i in range(3):\n",
    "    linRegRating_All = LinearRegression()\n",
    "    linRegRating_All.load_data(dataFile=\"./data/Google-Playstore.csv\", categoryName=catName)\n",
    "\n",
    "    # obtain the beta value for predicting ratings\n",
    "    beta = linRegRating_All.train()\n",
    "\n",
    "    trainErrClosed = linRegRating_All.computeMSE(linRegRating_All.predict_rating(linRegRating_All.train_x, beta[0]), linRegRating_All.train_y)\n",
    "    trainErrBatch = linRegRating_All.computeMSE(linRegRating_All.predict_rating(linRegRating_All.train_x, beta[1]), linRegRating_All.train_y)\n",
    "    trainErrSklearn = linRegRating_All.computeMSE(linRegRating_All.predict_rating(linRegRating_All.train_x, beta[2]), linRegRating_All.train_y)\n",
    "\n",
    "    testErrClosed = linRegRating_All.computeMSE(linRegRating_All.predict_rating(linRegRating_All.test_x, beta[0]), linRegRating_All.test_y)\n",
    "    testErrBatch = linRegRating_All.computeMSE(linRegRating_All.predict_rating(linRegRating_All.test_x, beta[1]), linRegRating_All.test_y)\n",
    "    testErrSklearn = linRegRating_All.computeMSE(linRegRating_All.predict_rating(linRegRating_All.test_x, beta[2]), linRegRating_All.test_y)\n",
    "\n",
    "    trainMSEItersClosed.append(trainErrClosed)\n",
    "    trainMSEItersBatch.append(trainErrBatch)\n",
    "    trainMSEItersSklearn.append(trainErrSklearn)\n",
    "\n",
    "    testMSEItersClosed.append(testErrClosed)\n",
    "    testMSEItersBatch.append(testErrBatch)\n",
    "    testMSEItersSklearn.append(testErrSklearn)\n",
    "\n",
    "    betasAll.append(beta)"
   ]
  },
  {
   "cell_type": "code",
   "execution_count": 5,
   "metadata": {},
   "outputs": [
    {
     "name": "stdout",
     "output_type": "stream",
     "text": [
      "Looking at the iterations for all of the categories (closed form solution):\n",
      "\n",
      "Training Data:\n",
      "\tAll MSE:  [8.871075066097182, 12.213601791585136, 9.251269720548338]\n",
      "\tThe average MSE:  10.111982192743552\n",
      "\tThe max MSE:  12.213601791585136\n",
      "\tThe min MSE:  8.871075066097182\n",
      "\n",
      "Testing Data:\n",
      "\tAll MSE:  [8.849308200170285, 12.218811108349756, 9.225535514937913]\n",
      "\tThe average MSE:  10.097884941152651\n",
      "\tThe max MSE:  12.218811108349756\n",
      "\tThe min MSE:  8.849308200170285\n"
     ]
    }
   ],
   "source": [
    "# print summary statistics of above iterations\n",
    "print(\"Looking at the iterations for all of the categories (closed form solution):\")\n",
    "\n",
    "print('\\nTraining Data:')\n",
    "print('\\tAll MSE: ', trainMSEItersClosed)\n",
    "print('\\tThe average MSE: ', statistics.mean(trainMSEItersClosed))\n",
    "print('\\tThe max MSE: ', max(trainMSEItersClosed))\n",
    "print('\\tThe min MSE: ', min(trainMSEItersClosed))\n",
    "\n",
    "print('\\nTesting Data:')\n",
    "print('\\tAll MSE: ', testMSEItersClosed)\n",
    "print('\\tThe average MSE: ', statistics.mean(testMSEItersClosed))\n",
    "print('\\tThe max MSE: ', max(testMSEItersClosed))\n",
    "print('\\tThe min MSE: ', min(testMSEItersClosed))"
   ]
  },
  {
   "cell_type": "code",
   "execution_count": 6,
   "metadata": {},
   "outputs": [
    {
     "name": "stdout",
     "output_type": "stream",
     "text": [
      "Looking at the iterations for all of the categories (batch gradient descent):\n",
      "\n",
      "Training Data:\n",
      "\tAll MSE:  [12.212233731115314, 12.213601791585136, 12.210676942106526]\n",
      "\tThe average MSE:  12.212170821602324\n",
      "\tThe max MSE:  12.213601791585136\n",
      "\tThe min MSE:  12.210676942106526\n",
      "\n",
      "Testing Data:\n",
      "\tAll MSE:  [12.224283347271637, 12.218811108349756, 12.23051049994138]\n",
      "\tThe average MSE:  12.22453498518759\n",
      "\tThe max MSE:  12.23051049994138\n",
      "\tThe min MSE:  12.218811108349756\n"
     ]
    }
   ],
   "source": [
    "# print summary statistics of above iterations\n",
    "print(\"Looking at the iterations for all of the categories (batch gradient descent):\")\n",
    "\n",
    "print('\\nTraining Data:')\n",
    "print('\\tAll MSE: ', trainMSEItersBatch)\n",
    "print('\\tThe average MSE: ', statistics.mean(trainMSEItersBatch))\n",
    "print('\\tThe max MSE: ', max(trainMSEItersBatch))\n",
    "print('\\tThe min MSE: ', min(trainMSEItersBatch))\n",
    "\n",
    "print('\\nTesting Data:')\n",
    "print('\\tAll MSE: ', testMSEItersBatch)\n",
    "print('\\tThe average MSE: ', statistics.mean(testMSEItersBatch))\n",
    "print('\\tThe max MSE: ', max(testMSEItersBatch))\n",
    "print('\\tThe min MSE: ', min(testMSEItersBatch))"
   ]
  },
  {
   "cell_type": "code",
   "execution_count": 7,
   "metadata": {},
   "outputs": [
    {
     "name": "stdout",
     "output_type": "stream",
     "text": [
      "Looking at the iterations for all of the categories (Sklearn implementation):\n",
      "\n",
      "Training Data:\n",
      "\tAll MSE:  [8.001936331609315, 7.961579907129291, 7.949897871747669]\n",
      "\tThe average MSE:  7.9711380368287585\n",
      "\tThe max MSE:  8.001936331609315\n",
      "\tThe min MSE:  7.949897871747669\n",
      "\n",
      "Testing Data:\n",
      "\tAll MSE:  [7.979220583518118, 7.967062028707801, 7.930736769309116]\n",
      "\tThe average MSE:  7.959006460511678\n",
      "\tThe max MSE:  7.979220583518118\n",
      "\tThe min MSE:  7.930736769309116\n"
     ]
    }
   ],
   "source": [
    "# print summary statistics of above iterations\n",
    "print(\"Looking at the iterations for all of the categories (Sklearn implementation):\")\n",
    "\n",
    "print('\\nTraining Data:')\n",
    "print('\\tAll MSE: ', trainMSEItersSklearn)\n",
    "print('\\tThe average MSE: ', statistics.mean(trainMSEItersSklearn))\n",
    "print('\\tThe max MSE: ', max(trainMSEItersSklearn))\n",
    "print('\\tThe min MSE: ', min(trainMSEItersSklearn))\n",
    "\n",
    "print('\\nTesting Data:')\n",
    "print('\\tAll MSE: ', testMSEItersSklearn)\n",
    "print('\\tThe average MSE: ', statistics.mean(testMSEItersSklearn))\n",
    "print('\\tThe max MSE: ', max(testMSEItersSklearn))\n",
    "print('\\tThe min MSE: ', min(testMSEItersSklearn))"
   ]
  },
  {
   "cell_type": "code",
   "execution_count": 15,
   "metadata": {},
   "outputs": [
    {
     "name": "stdout",
     "output_type": "stream",
     "text": [
      "Final Beta Values: \n",
      "\n",
      "Closed Form Solution: \n",
      " [ 3.07530273e+02  4.46392579e-08  7.17870045e-10  1.47600785e-03\n",
      "  8.70095254e-01  9.69358930e-01  1.60634235e+00 -3.07280029e+02\n",
      " -3.08530273e+02 -3.07529785e+02 -3.07529785e+02 -3.09530029e+02\n",
      " -3.06356201e+02]\n",
      "\n",
      "Closed Form Solution: \n",
      " [6.38406033e+165 5.38695779e+172 1.14034436e+175 2.22881952e+163\n",
      " 3.82154488e+165 2.66410751e+165 4.46271089e+164 2.88184660e+161\n",
      " 4.60519756e+165 2.81098856e+164 1.67185171e+164 1.33023476e+165\n",
      " 5.57871479e+160]\n",
      "\n",
      "Closed Form Solution: \n",
      " [ 0.00000000e+00  3.25151478e-08  6.68556286e-10  1.33700434e-03\n",
      "  5.89782216e-01  9.91303721e-01  1.27690128e+00  4.17440009e-02\n",
      " -2.32987983e-01 -4.38553043e-02 -1.29266381e-01 -2.66607539e-01\n",
      "  6.30973206e-01]\n",
      "\n",
      "\n",
      "Batch Gradient Descent: \n",
      " [ 3.14015625e+02  9.51379828e-09  6.18942056e-10  5.10259439e-03\n",
      "  7.85403534e-01  7.48750363e-01  1.49854571e+00 -3.03514893e+02\n",
      " -3.06265137e+02 -3.08015137e+02 -2.99764893e+02 -3.03765137e+02\n",
      " -3.01971436e+02]\n",
      "\n",
      "Batch Gradient Descent: \n",
      " [2.20273343e+170 2.06402547e+177 4.27074148e+179 8.19573909e+167\n",
      " 1.32812420e+170 8.85845688e+169 2.05095562e+169 4.75533541e+165\n",
      " 1.62275618e+170 9.70272732e+168 6.32930971e+168 4.19595790e+169\n",
      " 1.35370085e+165]\n",
      "\n",
      "Batch Gradient Descent: \n",
      " [ 0.00000000e+00  2.78149323e-08  6.09917074e-10  1.33062609e-03\n",
      "  5.90460199e-01  9.92169815e-01  1.25325921e+00  3.14931945e-02\n",
      " -2.18641892e-01 -1.99506245e-02 -1.07391721e-01 -2.45510540e-01\n",
      "  5.60001583e-01]\n",
      "\n",
      "\n",
      "Sklearn Implementation: \n",
      " [ 4.98051758e+02  6.75575583e-08  6.33772259e-10  8.06578960e-03\n",
      "  1.21572753e+00  1.42656024e+00  2.06721308e+00 -5.03051758e+02\n",
      " -5.08051758e+02 -5.12051758e+02 -5.04049805e+02 -5.05050781e+02\n",
      " -5.01986328e+02]\n",
      "\n",
      "Sklearn Implementation: \n",
      " [3.17086642e+162 2.58856446e+169 5.33179116e+171 1.25117010e+160\n",
      " 1.95279558e+162 1.27458558e+162 2.83206667e+161 1.51036393e+158\n",
      " 2.28833689e+162 1.32760657e+161 9.58024510e+160 6.53791324e+161\n",
      " 2.40580848e+157]\n",
      "\n",
      "Sklearn Implementation: \n",
      " [ 0.00000000e+00  3.61603159e-08  6.96894845e-10  1.45843817e-03\n",
      "  5.93810978e-01  9.93293141e-01  1.26659152e+00  4.02622093e-03\n",
      " -2.13509848e-01 -1.94738144e-02 -1.07933264e-01 -2.45064467e-01\n",
      "  5.81955172e-01]\n"
     ]
    }
   ],
   "source": [
    "print(\"Final Beta Values: \\n\")\n",
    "print(\"Closed Form Solution: \\n\", betasAll[0][0])\n",
    "print(\"\\nClosed Form Solution: \\n\", betasAll[0][1])\n",
    "print(\"\\nClosed Form Solution: \\n\", betasAll[0][2])\n",
    "\n",
    "print(\"\\n\\nBatch Gradient Descent: \\n\", betasAll[1][0])\n",
    "print(\"\\nBatch Gradient Descent: \\n\", betasAll[1][1])\n",
    "print(\"\\nBatch Gradient Descent: \\n\", betasAll[1][2])\n",
    "\n",
    "print(\"\\n\\nSklearn Implementation: \\n\", betasAll[2][0])\n",
    "print(\"\\nSklearn Implementation: \\n\", betasAll[2][1])\n",
    "print(\"\\nSklearn Implementation: \\n\", betasAll[2][2])"
   ]
  },
  {
   "cell_type": "code",
   "execution_count": 2,
   "metadata": {},
   "outputs": [
    {
     "name": "stdout",
     "output_type": "stream",
     "text": [
      "Closed Form Trained\n",
      "Batch Trained\n",
      "Looking at the Sports Category:\n",
      "\tThe MSE for training data is: \t 8.023033041536353\n",
      "\tThe MSE for testing data is: \t 8.044314429487548\n"
     ]
    }
   ],
   "source": [
    "# build the model for predicting ratings within the sports category (do this 3 times on a smaller dataset)\n",
    "catName = 'Sports'\n",
    "linRegRating = LinearRegression()\n",
    "linRegRating.load_data(dataFile=\"./data/Google-Playstore.csv\", categoryName=catName)\n",
    "\n",
    "trainingError = 0\n",
    "testingError = 0\n",
    "\n",
    "# obtain the beta value for predicting installs\n",
    "beta = linRegRating.train()\n",
    "\n",
    "training_error = linRegRating.computeMSE(linRegRating.predict_rating(linRegRating.train_x, beta[2]), linRegRating.train_y)\n",
    "testing_error = linRegRating.computeMSE(linRegRating.predict_rating(linRegRating.test_x, beta[2]), linRegRating.test_y)\n",
    "\n",
    "print(\"Looking at the\", catName, \"Category:\")\n",
    "print('\\tThe MSE for training data is: \\t', training_error)\n",
    "print('\\tThe MSE for testing data is: \\t', testing_error)"
   ]
  },
  {
   "cell_type": "code",
   "execution_count": 4,
   "metadata": {},
   "outputs": [
    {
     "name": "stdout",
     "output_type": "stream",
     "text": [
      "[ 1.59652344e+02 -1.25772769e-06  3.21935714e-08  3.24557891e-02\n",
      "  3.24948683e-01  3.00853419e+00  3.10298710e+00 -1.83660156e+02\n",
      " -1.59652344e+02 -1.87656250e+02 -1.63644531e+02 -1.55656250e+02\n",
      " -1.55562500e+02]\n",
      "[2.05129946e+30 5.21661458e+36 2.23971695e+38 5.95432195e+27\n",
      " 1.90361973e+30 1.51317877e+30 3.12514984e+29 1.53337205e+27\n",
      " 1.67650516e+30 1.43316984e+29 7.94986201e+27 2.21883079e+29\n",
      " 1.10994106e+26]\n",
      "[ 0.00000000e+00 -4.11505414e-07  1.76553742e-08  1.01632908e-02\n",
      "  6.21239219e-01  9.74142684e-01  4.91503405e-01  1.01508866e+00\n",
      " -2.56274513e-01  3.94875208e-01 -5.79143658e-01 -5.41410944e-02\n",
      " -5.20404607e-01]\n",
      "\tThe MSE for training data is: \t 7.583788020913736\n",
      "\tThe MSE for testing data is: \t 7.568221782455133\n"
     ]
    }
   ],
   "source": [
    "# print betas\n",
    "print(beta[0])\n",
    "print(beta[1])\n",
    "print(beta[2])\n",
    "\n",
    "# print others\n",
    "training_error = linRegRating.computeMSE(linRegRating.predict_rating(linRegRating.train_x, beta[0]), linRegRating.train_y)\n",
    "testing_error = linRegRating.computeMSE(linRegRating.predict_rating(linRegRating.test_x, beta[0]), linRegRating.test_y)\n",
    "\n",
    "print('\\tThe MSE for training data is: \\t', training_error)\n",
    "print('\\tThe MSE for testing data is: \\t', testing_error)"
   ]
  }
 ],
 "metadata": {
  "kernelspec": {
   "display_name": "Python 3",
   "language": "python",
   "name": "python3"
  },
  "language_info": {
   "codemirror_mode": {
    "name": "ipython",
    "version": 3
   },
   "file_extension": ".py",
   "mimetype": "text/x-python",
   "name": "python",
   "nbconvert_exporter": "python",
   "pygments_lexer": "ipython3",
   "version": "3.11.1"
  },
  "orig_nbformat": 4
 },
 "nbformat": 4,
 "nbformat_minor": 2
}
