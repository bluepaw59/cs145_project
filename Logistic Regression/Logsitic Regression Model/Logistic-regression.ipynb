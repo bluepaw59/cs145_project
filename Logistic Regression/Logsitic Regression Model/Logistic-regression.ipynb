{
 "cells": [
  {
   "cell_type": "code",
   "execution_count": 1,
   "metadata": {},
   "outputs": [],
   "source": [
    "import numpy as np \n",
    "import pandas as pd\n",
    "import sys\n",
    "import random as rd\n",
    "import matplotlib.pyplot as plt\n",
    "%load_ext autoreload\n",
    "%autoreload 2"
   ]
  },
  {
   "attachments": {},
   "cell_type": "markdown",
   "metadata": {},
   "source": [
    "Load the data"
   ]
  },
  {
   "cell_type": "code",
   "execution_count": 2,
   "metadata": {},
   "outputs": [
    {
     "name": "stdout",
     "output_type": "stream",
     "text": [
      "Training data shape:  (1734708, 11)\n",
      "Training labels shape: (1734708,)\n"
     ]
    }
   ],
   "source": [
    "from logistic_regression.logistic_regression import LogisticRegression\n",
    "\n",
    "lm=LogisticRegression()\n",
    "lm.load_data('./data/Google-Playstore.csv')\n",
    "# As a sanity chech, we print out the size of the training data (1000, 5) and training labels (1000,)\n",
    "print('Training data shape: ', lm.train_x.shape)\n",
    "print('Training labels shape:', lm.train_y.shape)"
   ]
  },
  {
   "cell_type": "code",
   "execution_count": 4,
   "metadata": {},
   "outputs": [],
   "source": [
    "from sklearn.datasets import load_iris\n",
    "from sklearn.linear_model import LogisticRegression\n",
    "from sklearn.model_selection import train_test_split\n",
    "from sklearn import preprocessing\n",
    "from sklearn import utils\n",
    "import pandas as pd\n",
    "import numpy as np\n",
    "\n",
    "dataframe = pd.read_csv('./data/Google-Playstore.csv')\n",
    "    \n",
    "# dataframe = dataframe.query('Category == \"Adventure\"')\n",
    "rating_avg = dataframe[\"Rating\"].mean()\n",
    "# print(rating_avg)\n",
    "dataframe['Rating'] = dataframe['Rating'].fillna(rating_avg)\n",
    "dataframe = dataframe.fillna(0)\n",
    "y = dataframe['Rating']\n",
    "\n",
    "\n",
    "#all categories ['App Name', 'App Id', 'Category', 'Rating', 'Rating Count' , 'Installs' , 'Minimum Installs', 'Maximum Installs', 'Free','Price', 'Currency' , 'Size', 'Minimum Android', 'Developer Id', 'Developer Website', 'Developer Email', 'Released', 'Last Updated' , 'Content Rating','Privacy Policy', 'Ad Supported' ,'In App Purchases', 'Editors Choice' ,'Scraped Time']\n",
    "todrop = ['App Name', 'App Id', 'Category', 'Rating', 'Rating Count' , 'Installs' , 'Minimum Installs', 'Price', 'Currency', 'Size', 'Minimum Android', 'Developer Id', 'Developer Website', 'Developer Email', 'Released', 'Last Updated', 'Privacy Policy' ,'Scraped Time']\n",
    "# 'Ad Supported' , 'In App Purchases', 'Editors Choice'\n",
    "# todrop.pop(filterID)\n",
    "X = dataframe.drop(todrop, axis=1)\n",
    "\n",
    "X[\"Ad Supported\"] = X['Ad Supported'].astype(int)\n",
    "X['In App Purchases'] = X['In App Purchases'].astype(int)\n",
    "X['Editors Choice'] = X['Editors Choice'].astype(int)\n",
    "y = y.astype(str)\n",
    "lab = preprocessing.LabelEncoder()\n",
    "X['Maximum Installs'] = lab.fit_transform(X['Maximum Installs'])\n",
    "X = pd.get_dummies(X , columns = ['Content Rating'])\n",
    "\n",
    "X, test_x, y, test_y = train_test_split(X, y, train_size=0.8)\n",
    "\n",
    "formatted_test_y = []\n",
    "for x in test_y:\n",
    "    formatted_test_y.append(float(x))"
   ]
  },
  {
   "cell_type": "code",
   "execution_count": 5,
   "metadata": {},
   "outputs": [
    {
     "name": "stderr",
     "output_type": "stream",
     "text": [
      "/Users/CareBear/anaconda3/lib/python3.10/site-packages/sklearn/linear_model/_logistic.py:458: ConvergenceWarning: lbfgs failed to converge (status=1):\n",
      "STOP: TOTAL NO. of ITERATIONS REACHED LIMIT.\n",
      "\n",
      "Increase the number of iterations (max_iter) or scale the data as shown in:\n",
      "    https://scikit-learn.org/stable/modules/preprocessing.html\n",
      "Please also refer to the documentation for alternative solver options:\n",
      "    https://scikit-learn.org/stable/modules/linear_model.html#logistic-regression\n",
      "  n_iter_i = _check_optimize_result(\n"
     ]
    },
    {
     "name": "stdout",
     "output_type": "stream",
     "text": [
      "Accuracy for 1000 iterations:\n",
      "Mean squared error for 1000 iterations:\n",
      "3.1074847735865214\n"
     ]
    }
   ],
   "source": [
    "from sklearn.metrics import mean_squared_error\n",
    "import numpy as np\n",
    "\n",
    "clf = LogisticRegression(random_state=0, max_iter=1000, multi_class='auto', dual=False).fit(X, y)\n",
    "print(\"Accuracy for 1000 iterations:\")\n",
    "clf.score(test_x, test_y)\n",
    "\n",
    "testing_mse = mean_squared_error(clf.predict(test_x), formatted_test_y)\n",
    "print(\"Mean squared error for 1000 iterations:\")\n",
    "print(testing_mse)\n"
   ]
  },
  {
   "cell_type": "code",
   "execution_count": 6,
   "metadata": {},
   "outputs": [
    {
     "name": "stderr",
     "output_type": "stream",
     "text": [
      "/Users/CareBear/anaconda3/lib/python3.10/site-packages/sklearn/linear_model/_logistic.py:458: ConvergenceWarning: lbfgs failed to converge (status=1):\n",
      "STOP: TOTAL NO. of ITERATIONS REACHED LIMIT.\n",
      "\n",
      "Increase the number of iterations (max_iter) or scale the data as shown in:\n",
      "    https://scikit-learn.org/stable/modules/preprocessing.html\n",
      "Please also refer to the documentation for alternative solver options:\n",
      "    https://scikit-learn.org/stable/modules/linear_model.html#logistic-regression\n",
      "  n_iter_i = _check_optimize_result(\n"
     ]
    },
    {
     "name": "stdout",
     "output_type": "stream",
     "text": [
      "Accuracy for 100 iterations:\n",
      "Mean squared error for 100 iterations:\n",
      "8.031512758840957\n"
     ]
    }
   ],
   "source": [
    "\n",
    "clf2 = LogisticRegression(random_state=0, max_iter=100).fit(X, y)\n",
    "print(\"Accuracy for 100 iterations:\")\n",
    "clf2.score(test_x, test_y)\n",
    "\n",
    "testing_mse = mean_squared_error(clf2.predict(test_x), formatted_test_y)\n",
    "print(\"Mean squared error for 100 iterations:\")\n",
    "print(testing_mse)"
   ]
  },
  {
   "cell_type": "code",
   "execution_count": 9,
   "metadata": {},
   "outputs": [
    {
     "name": "stderr",
     "output_type": "stream",
     "text": [
      "/Users/CareBear/anaconda3/lib/python3.10/site-packages/sklearn/linear_model/_logistic.py:458: ConvergenceWarning: lbfgs failed to converge (status=1):\n",
      "STOP: TOTAL NO. of ITERATIONS REACHED LIMIT.\n",
      "\n",
      "Increase the number of iterations (max_iter) or scale the data as shown in:\n",
      "    https://scikit-learn.org/stable/modules/preprocessing.html\n",
      "Please also refer to the documentation for alternative solver options:\n",
      "    https://scikit-learn.org/stable/modules/linear_model.html#logistic-regression\n",
      "  n_iter_i = _check_optimize_result(\n"
     ]
    },
    {
     "name": "stdout",
     "output_type": "stream",
     "text": [
      "Accuracy for 1000 iterations:\n",
      "Mean squared error for 1000 iterations:\n",
      "3.2292635560952085\n"
     ]
    },
    {
     "name": "stderr",
     "output_type": "stream",
     "text": [
      "/Users/CareBear/anaconda3/lib/python3.10/site-packages/sklearn/linear_model/_logistic.py:458: ConvergenceWarning: lbfgs failed to converge (status=1):\n",
      "STOP: TOTAL NO. of ITERATIONS REACHED LIMIT.\n",
      "\n",
      "Increase the number of iterations (max_iter) or scale the data as shown in:\n",
      "    https://scikit-learn.org/stable/modules/preprocessing.html\n",
      "Please also refer to the documentation for alternative solver options:\n",
      "    https://scikit-learn.org/stable/modules/linear_model.html#logistic-regression\n",
      "  n_iter_i = _check_optimize_result(\n"
     ]
    },
    {
     "name": "stdout",
     "output_type": "stream",
     "text": [
      "Accuracy for 100 iterations:\n",
      "Mean squared error for 100 iterations:\n",
      "8.399978207065704\n"
     ]
    }
   ],
   "source": [
    "# # clf = LogisticRegression(random_state=0).fit(X, y)\n",
    "# from sklearn.metrics import mean_squared_error\n",
    "# import numpy as np\n",
    "\n",
    "\n",
    "# # uniqueClasses = np.unique(test_y.astype(float))\n",
    "\n",
    "# clf = LogisticRegression(random_state=0, max_iter=1000, multi_class='auto', dual=False).fit(X, y)\n",
    "# print(\"Accuracy for 1000 iterations:\")\n",
    "# clf.score(test_x, test_y)\n",
    "\n",
    "# # probs = clf.predict_proba(test_x)\n",
    "# # print(probs)\n",
    "\n",
    "# formatted_test_y = []\n",
    "# for x in test_y:\n",
    "#     formatted_test_y.append(float(x))\n",
    "\n",
    "# # temp = clf.predict(test_x)\n",
    "# # for x in temp:\n",
    "# #     if (x != '4.3') and (x != '4.2') and (x != '4.3'):\n",
    "# #         print(x)\n",
    "\n",
    "# testing_mse = mean_squared_error(clf.predict(test_x), formatted_test_y)\n",
    "# print(\"Mean squared error for 1000 iterations:\")\n",
    "# print(testing_mse)\n",
    "\n",
    "# clf2 = LogisticRegression(random_state=0, max_iter=100).fit(X, y)\n",
    "# print(\"Accuracy for 100 iterations:\")\n",
    "# clf2.score(test_x, test_y)\n",
    "# testing_mse = mean_squared_error(clf2.predict(test_x), formatted_test_y)\n",
    "# print(\"Mean squared error for 100 iterations:\")\n",
    "# print(testing_mse)"
   ]
  },
  {
   "cell_type": "code",
   "execution_count": 7,
   "metadata": {},
   "outputs": [
    {
     "data": {
      "image/png": "[encoded data removed]",
      "text/plain": [
       "<Figure size 640x480 with 1 Axes>"
      ]
     },
     "metadata": {},
     "output_type": "display_data"
    },
    {
     "data": {
      "image/png": "[encoded data removed]",
      "text/plain": [
       "<Figure size 640x480 with 1 Axes>"
      ]
     },
     "metadata": {},
     "output_type": "display_data"
    }
   ],
   "source": [
    "import matplotlib\n",
    "from matplotlib import pyplot as plt\n",
    "\n",
    "test_y_100 = formatted_test_y[:100]\n",
    "\n",
    "pred_y_1000_100 = clf.predict(test_x)[:100]\n",
    "\n",
    "pred_y_100_100 = clf2.predict(test_x)[:100]\n",
    "\n",
    "iters = [*range(0,100,1)]\n",
    "\n",
    "plt.yscale(\"linear\")\n",
    "plt.scatter(iters, pred_y_1000_100, 10, c='m', label = \"Sklearn 1000 iterations\")\n",
    "plt.scatter(iters, pred_y_100_100, 10, c='b', label = \"Sklearn 100 iterations\")\n",
    "\n",
    "\n",
    "plt.legend(loc = 'best')\n",
    "plt.xlabel('Test y number')\n",
    "plt.ylabel('Rating')\n",
    "plt.title('First 100 Output')\n",
    "\n",
    "plt.show()\n",
    "\n",
    "plt.scatter(iters, test_y_100, 10, c='c', label = \"Actual Labels\")\n",
    "plt.legend(loc = 'best')\n",
    "plt.xlabel('Test y number')\n",
    "plt.ylabel('Rating')\n",
    "plt.title('First 100 Output')\n",
    "\n",
    "plt.show()\n"
   ]
  },
  {
   "attachments": {},
   "cell_type": "markdown",
   "metadata": {},
   "source": [
    "Batch Gradient Descent"
   ]
  },
  {
   "cell_type": "code",
   "execution_count": 11,
   "metadata": {},
   "outputs": [],
   "source": [
    "from hw1code.logistic_regression import LogisticRegression\n",
    "lm=LogisticRegression(num_iter=1000)\n",
    "lm.load_data('./data/Google-Playstore.csv')\n",
    "training_accuracy= 0\n",
    "testing_accuracy= 0\n",
    "lm.normalize()  "
   ]
  },
  {
   "cell_type": "code",
   "execution_count": 12,
   "metadata": {},
   "outputs": [
    {
     "name": "stdout",
     "output_type": "stream",
     "text": [
      "average logL for iteration 0: -0.6366114399758404 \t\n",
      "average logL for iteration 100: -0.6595375386192495 \t\n",
      "average logL for iteration 200: -0.682391444306547 \t\n",
      "average logL for iteration 300: -0.7051741022425363 \t\n",
      "average logL for iteration 400: -0.727916284563309 \t\n",
      "average logL for iteration 500: -0.7505575907267779 \t\n",
      "average logL for iteration 600: -0.7731300116498397 \t\n",
      "average logL for iteration 700: -0.795632832629571 \t\n",
      "average logL for iteration 800: -0.8180662407893494 \t\n",
      "average logL for iteration 900: -0.8404311406640176 \t\n",
      "Training avgLogL:  -0.8625055387548931\n",
      "Training accuracy is:  0.2398830235405613\n",
      "Testing accuracy is:  0.24006461029752557\n"
     ]
    }
   ],
   "source": [
    "beta = lm.train()\n",
    "training_accuracy = lm.compute_accuracy(lm.predict(lm.train_x, beta), lm.train_y)\n",
    "testing_accuracy = lm.compute_accuracy(lm.predict(lm.test_x, beta), lm.test_y)\n",
    "print('Training accuracy is: ', training_accuracy)\n",
    "print('Testing accuracy is: ', testing_accuracy)"
   ]
  },
  {
   "cell_type": "code",
   "execution_count": 14,
   "metadata": {},
   "outputs": [
    {
     "name": "stdout",
     "output_type": "stream",
     "text": [
      "MSE for Training data is:  6.965777520509459\n",
      "MSE for Testing data is  6.960352777903095\n"
     ]
    }
   ],
   "source": [
    "from sklearn.metrics import mean_squared_error\n",
    "training_mse = mean_squared_error(lm.predict(lm.train_x, beta), lm.train_y)\n",
    "testing_mse = mean_squared_error(lm.predict(lm.test_x, beta), lm.test_y)\n",
    "print(\"MSE for Training data is: \", training_mse)\n",
    "print(\"MSE for Testing data is \", testing_mse)"
   ]
  }
 ],
 "metadata": {
  "kernelspec": {
   "display_name": "Python 3.10.2 64-bit",
   "language": "python",
   "name": "python3"
  },
  "language_info": {
   "codemirror_mode": {
    "name": "ipython",
    "version": 3
   },
   "file_extension": ".py",
   "mimetype": "text/x-python",
   "name": "python",
   "nbconvert_exporter": "python",
   "pygments_lexer": "ipython3",
   "version": "3.10.9"
  },
  "vscode": {
   "interpreter": {
    "hash": "aee8b7b246df8f9039afb4144a1f6fd8d2ca17a180786b69acc140d282b71a49"
   }
  }
 },
 "nbformat": 4,
 "nbformat_minor": 4
}
